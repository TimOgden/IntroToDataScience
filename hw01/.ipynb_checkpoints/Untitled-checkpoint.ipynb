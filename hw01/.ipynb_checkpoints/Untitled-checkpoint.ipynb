{
 "cells": [
  {
   "cell_type": "code",
   "execution_count": 18,
   "metadata": {},
   "outputs": [
    {
     "name": "stdout",
     "output_type": "stream",
     "text": [
      "No switching: 0.3452\n",
      "Switching: 0.5048\n"
     ]
    }
   ],
   "source": [
    "import numpy as np\n",
    "\n",
    "def monty_hall(switch=False):\n",
    "    doors = ['goat', 'goat', 'goat']\n",
    "    doors[np.random.randint(0,2)] = 'car'\n",
    "    \n",
    "    random_choice1 = np.random.randint(0,3) # 1/3\n",
    "    if switch is False:\n",
    "        return doors[random_choice1]=='car'\n",
    "    else:\n",
    "        if doors[random_choice1]=='car':\n",
    "            if random_choice1==0:\n",
    "                del doors[1]\n",
    "            if random_choice1==1:\n",
    "                del doors[0]\n",
    "            if random_choice1==2:\n",
    "                del doors[0]\n",
    "        else:\n",
    "            del doors[random_choice1]\n",
    "        #print(doors)\n",
    "        random_choice2 = np.random.randint(0,2)\n",
    "        return doors[random_choice2]=='car'\n",
    "    return False\n",
    "\n",
    "num_tries = 10000\n",
    "won = 0\n",
    "for attempt in range(num_tries):\n",
    "    \n",
    "    if monty_hall(switch=False):\n",
    "        won+=1\n",
    "print('No switching:', won/num_tries)\n",
    "\n",
    "won = 0\n",
    "for attempt in range(num_tries):\n",
    "    \n",
    "    if monty_hall(switch=True):\n",
    "        won+=1\n",
    "print('Switching:', won/num_tries)\n"
   ]
  },
  {
   "cell_type": "code",
   "execution_count": 4,
   "metadata": {},
   "outputs": [
    {
     "data": {
      "text/plain": [
       "False"
      ]
     },
     "execution_count": 4,
     "metadata": {},
     "output_type": "execute_result"
    }
   ],
   "source": [
    "1000000==1000"
   ]
  },
  {
   "cell_type": "code",
   "execution_count": null,
   "metadata": {
    "collapsed": true
   },
   "outputs": [],
   "source": []
  }
 ],
 "metadata": {
  "kernelspec": {
   "display_name": "Python 3",
   "language": "python",
   "name": "python3"
  },
  "language_info": {
   "codemirror_mode": {
    "name": "ipython",
    "version": 3
   },
   "file_extension": ".py",
   "mimetype": "text/x-python",
   "name": "python",
   "nbconvert_exporter": "python",
   "pygments_lexer": "ipython3",
   "version": "3.6.3"
  }
 },
 "nbformat": 4,
 "nbformat_minor": 2
}
