{
 "cells": [
  {
   "cell_type": "markdown",
   "metadata": {},
   "source": [
    "# Homework 13: Regression Inference"
   ]
  },
  {
   "cell_type": "markdown",
   "metadata": {},
   "source": [
    "**Reading**: \n",
    "* [Inference for Regression](https://www.inferentialthinking.com/chapters/16/inference-for-regression.html)"
   ]
  },
  {
   "cell_type": "markdown",
   "metadata": {},
   "source": [
    "Please complete this notebook by filling in the cells provided. Before you begin, execute the following cell to load the provided tests. Each time you start your server, you will need to execute this cell again to load the tests.\n",
    "\n",
    "Homework 11 is due **Tue 11/26 01:59 PM**.\n",
    "\n",
    "Directly sharing answers is not okay, but discussing problems with the course staff or with other students is encouraged.\n",
    "\n",
    "For all problems that you must write our explanations and sentences for, you **must** provide your answer in the designated space. Moreover, throughout this homework and all future ones, please be sure to not re-assign variables throughout the notebook! For example, if you use `max_temperature` in your answer to one question, do not reassign it later on."
   ]
  },
  {
   "cell_type": "code",
   "execution_count": 1,
   "metadata": {
    "ExecuteTime": {
     "end_time": "2018-04-11T12:12:38.902167Z",
     "start_time": "2018-04-11T12:12:38.883124Z"
    },
    "collapsed": true
   },
   "outputs": [],
   "source": [
    "# Don't change this cell; just run it. \n",
    "\n",
    "import numpy as np\n",
    "from datascience import *\n",
    "\n",
    "# These lines do some fancy plotting magic.\n",
    "import matplotlib\n",
    "%matplotlib inline\n",
    "import matplotlib.pyplot as plt\n",
    "plt.style.use('fivethirtyeight')\n",
    "import warnings\n",
    "warnings.simplefilter('ignore', FutureWarning)\n",
    "from matplotlib import patches\n",
    "from ipywidgets import interact, interactive, fixed\n",
    "import ipywidgets as widgets"
   ]
  },
  {
   "cell_type": "code",
   "execution_count": 2,
   "metadata": {
    "ExecuteTime": {
     "end_time": "2018-04-11T12:12:38.902167Z",
     "start_time": "2018-04-11T12:12:38.883124Z"
    }
   },
   "outputs": [
    {
     "name": "stdout",
     "output_type": "stream",
     "text": [
      "=====================================================================\n",
      "Assignment: Homework 13: Regression Inference\n",
      "OK, version v1.14.15\n",
      "=====================================================================\n",
      "\n",
      "Successfully logged in as togden1@binghamton.edu\n"
     ]
    }
   ],
   "source": [
    "from client.api.notebook import Notebook\n",
    "ok = Notebook('hw13.ok')\n",
    "try:\n",
    "    _ = ok.auth(inline=True)\n",
    "except:\n",
    "    _ = ok.auth(inline=True, force=True)"
   ]
  },
  {
   "cell_type": "markdown",
   "metadata": {},
   "source": [
    "## 1. Visual Diagnostics for Linear Regression\n"
   ]
  },
  {
   "cell_type": "markdown",
   "metadata": {},
   "source": [
    "### Regression Model Diagnostics\n",
    "Linear regression isn't always the best way to describe the relationship between two variables. We'd like to develop techniques that will help us decide whether or not to use a linear model to predict one variable based on another.\n",
    "\n",
    "We will use the intuition that if a regression fits a set of points well, then the residuals from that regression line will show no pattern when plotted against the predictor variable. \n",
    "\n",
    "The table below contains information about crime rates and median home values in suburbs of Boston. We will attempt to use linear regression to predict median home value using crime rate.\n",
    "\n",
    "#### About the dataset\n",
    "All data are from 1970.  Crime rates are per capita per year; home values are in thousands of dollars.  The crime data come from the FBI, and home values are from the US Census Bureau.  \n",
    "\n",
    "Run the next cell to load the data and see a scatter plot."
   ]
  },
  {
   "cell_type": "code",
   "execution_count": 3,
   "metadata": {},
   "outputs": [
    {
     "data": {
      "image/png": "[encoded data removed]",
      "text/plain": [
       "<Figure size 360x360 with 1 Axes>"
      ]
     },
     "metadata": {},
     "output_type": "display_data"
    }
   ],
   "source": [
    "boston = Table.read_table('boston_housing.csv')\n",
    "boston.scatter('Crime Rate')"
   ]
  },
  {
   "cell_type": "markdown",
   "metadata": {},
   "source": [
    "<div class=\"hide\">\\pagebreak</div>\n",
    "\n",
    "#### Question 1\n",
    "\n",
    "Write a function called `residuals`.  It should take a table as a single argument.  It should first compute the slope and intercept of the regression line that predicts the second column of that table (accessible as `tbl.column(1)`) using the first column (`tbl.column(0)`). The function should return an array containing the *residuals* for that regression line. Recall that residuals would be an array with the size equal to the number of observations in the data and are given by \n",
    "\n",
    "$$residual = observed \\ value - regression \\ estimate$$\n",
    "\n",
    "Hint: If your code is getting long, think about how you can split the problem up into multiple smaller, simpler functions. You should be able to find similar code in the lecture demo or the textbook."
   ]
  },
  {
   "cell_type": "code",
   "execution_count": 4,
   "metadata": {
    "deletable": false,
    "for_assignment_type": "student"
   },
   "outputs": [
    {
     "data": {
      "text/plain": [
       "array([-1.50110888e-02, -2.40634353e+00,  1.06936482e+01,  9.39574593e+00,\n",
       "        1.22108925e+01,  4.69470533e+00, -1.08116260e+00,  3.14206926e+00,\n",
       "       -7.43039194e+00, -5.04740497e+00, -8.92475535e+00, -5.06911309e+00,\n",
       "       -2.27889558e+00, -3.35756935e+00, -5.55418327e+00, -3.85854802e+00,\n",
       "       -8.95351136e-01, -6.19379529e+00, -3.48615182e+00, -5.51791084e+00,\n",
       "       -1.03136473e+01, -4.06578161e+00, -8.72162528e+00, -9.10946107e+00,\n",
       "       -8.10781039e+00, -9.77053039e+00, -7.14016404e+00, -8.82294761e+00,\n",
       "       -5.29842432e+00, -3.01660916e+00, -1.12636045e+01, -9.37114368e+00,\n",
       "       -1.06574052e+01, -1.08549700e+01, -1.02645645e+01, -5.09112266e+00,\n",
       "       -3.97738423e+00, -2.98452804e+00,  7.54663850e-01,  6.79378861e+00,\n",
       "        1.08962497e+01,  2.63500390e+00,  1.34080980e+00,  7.48184861e-01,\n",
       "       -2.76695756e+00, -4.64683511e+00, -3.93983995e+00, -7.32294668e+00,\n",
       "       -9.51278842e+00, -4.52686959e+00, -4.28098091e+00, -3.49971176e+00,\n",
       "        1.00451259e+00, -5.97052438e-01, -5.11200490e+00,  1.13877928e+01,\n",
       "        6.90865011e-01,  7.58829241e+00, -6.53842662e-01, -4.37497267e+00,\n",
       "       -5.25596103e+00, -7.94671536e+00, -1.77208624e+00,  1.03461574e+00,\n",
       "        8.99043556e+00, -5.02821175e-01, -4.59953832e+00, -1.99371590e+00,\n",
       "       -6.56165131e+00, -3.06469879e+00,  2.18825007e-01, -2.25206290e+00,\n",
       "       -1.17977926e+00, -5.36937002e-01,  1.14984689e-01, -2.57834224e+00,\n",
       "       -3.97569531e+00, -3.18166639e+00, -2.79430640e+00, -3.68298779e+00,\n",
       "        3.99936326e+00, -9.91955838e-02,  7.97488528e-01, -1.10295744e+00,\n",
       "       -9.67303471e-02,  2.60606111e+00, -1.49619766e+00, -1.78809170e+00,\n",
       "       -3.94248593e-01,  4.70427309e+00, -1.39827886e+00, -2.00138415e+00,\n",
       "       -1.10026509e+00,  9.94251099e-01, -3.39988932e+00,  4.43277403e+00,\n",
       "       -2.57011653e+00,  1.47322744e+01,  1.98161863e+01,  9.21070666e+00,\n",
       "        3.54376643e+00,  2.52958616e+00, -5.32315728e+00, -4.63023916e+00,\n",
       "       -3.85997478e+00, -4.46285709e+00, -4.44692596e+00, -3.56345585e+00,\n",
       "       -4.16475660e+00, -4.50875815e+00, -2.27305251e+00, -1.17598024e+00,\n",
       "       -5.16670979e+00, -5.22589918e+00, -5.45885572e+00, -5.64686815e+00,\n",
       "       -2.76328654e+00, -4.75527555e+00, -3.56369948e+00, -4.65784403e+00,\n",
       "       -1.98913230e+00, -3.68803388e+00, -3.47922180e+00, -6.65552332e+00,\n",
       "       -5.17695064e+00, -2.54782616e+00, -8.15766953e+00, -7.71060811e+00,\n",
       "       -5.88323861e+00, -9.35371971e+00, -4.67719734e+00, -3.92501123e+00,\n",
       "       -7.73967101e-01, -5.48142582e+00, -8.01452369e+00, -5.68729259e+00,\n",
       "       -6.48439071e+00, -6.77213060e+00, -1.06144691e+01, -5.99276814e+00,\n",
       "       -9.89749734e+00, -8.94509438e+00, -9.24623488e+00, -6.72565087e+00,\n",
       "       -1.10697621e+01, -9.23510222e+00, -7.52771996e+00, -8.43952891e+00,\n",
       "       -5.25506775e+00, -7.48866221e+00, -1.83354864e+00, -3.79973426e+00,\n",
       "       -8.25241376e+00, -3.73014391e+00, -6.43378921e+00, -6.95788278e+00,\n",
       "       -9.90729501e+00,  1.77876412e+01,  8.36888095e-01, -1.29176703e-01,\n",
       "        3.50823849e+00,  2.65866553e+01,  2.67396115e+01,  2.66096394e+01,\n",
       "       -3.91666394e-01,  2.18980830e+00,  2.68124619e+01,  5.25782211e-01,\n",
       "        7.32300497e-01, -7.06118138e-01, -6.11903190e+00, -3.96212485e+00,\n",
       "       -8.60164734e-01, -3.79721453e-01, -1.38274003e+00,  5.40989730e+00,\n",
       "       -7.88624385e-01,  6.04781004e-01,  5.90980645e+00,  1.32062469e+01,\n",
       "        1.58095835e+01,  1.22108223e+01,  1.39199688e+01,  8.52370593e+00,\n",
       "        2.41668599e+00,  5.60734948e+00,  2.60055119e+01,  8.01489797e+00,\n",
       "        5.83432255e+00,  1.09169420e+01,  1.30198243e+01,  6.51091725e+00,\n",
       "        1.24181560e+01,  7.09141009e+00,  5.08832132e+00,  2.59880818e+01,\n",
       "        9.29894207e+00,  6.30164681e+00,  1.05979386e+01,  1.08953867e+01,\n",
       "        8.88972117e+00,  9.66048422e-02,  1.82913688e+01,  2.44968733e+01,\n",
       "        2.59906751e+01, -1.36128792e+00,  4.77226753e-01, -1.41356474e+00,\n",
       "        4.38484960e-01, -3.83769987e+00, -2.24557978e+00, -4.56244721e+00,\n",
       "       -1.52793496e+00,  4.14040512e+00, -1.98054810e-01,  1.06414902e+00,\n",
       "       -6.98790905e-01,  4.71133845e+00, -2.47191281e+00, -9.70442748e-01,\n",
       "        2.83024792e+00, -2.14926212e+00,  3.73987043e+00,  6.33621181e+00,\n",
       "        2.09125907e+01,  2.61999683e+01,  1.37401791e+01,  7.75266630e+00,\n",
       "        2.28055130e+01,  7.66480666e+00,  5.04126567e-01,  7.87355268e+00,\n",
       "        1.79199379e+01,  2.44192555e+01,  5.16733797e+00,  1.18834333e-01,\n",
       "        1.29734613e+00,  7.69373293e+00, -2.83578289e-01, -6.79415879e-01,\n",
       "       -1.97083917e+00, -3.87379993e+00, -1.77512959e+00, -2.64942421e-01,\n",
       "       -6.33252270e+00, -5.43861353e+00,  4.22707686e-01, -3.43644974e+00,\n",
       "        5.50261937e-01,  2.26113871e+00,  4.40314273e-01,  8.70784929e-01,\n",
       "        5.61632674e+00,  1.89347283e+01, -2.09772140e+00, -3.10296983e+00,\n",
       "        1.99887301e+01,  2.62349069e+01,  1.22563673e+01,  6.35353453e+00,\n",
       "        1.00054108e+01,  1.93029373e+01,  2.49971644e+01,  7.32315992e+00,\n",
       "        1.27095237e+01, -9.03119419e-01,  7.00682411e+00,  2.62211974e+01,\n",
       "        1.97055718e+01, -3.28018807e+00, -2.79408648e+00,  1.24932044e+00,\n",
       "        4.29701780e-01,  1.12740017e+01,  8.40568534e+00,  8.02203766e+00,\n",
       "        9.22560957e+00,  9.10767983e+00,  5.11532330e+00,  1.11692529e+01,\n",
       "        2.13971540e+01,  1.13976785e+01,  2.20076881e+01,  2.59885773e+01,\n",
       "        8.18612036e+00, -2.01309506e+00, -3.90950663e+00, -8.01636044e-01,\n",
       "       -1.69866702e+00,  8.00123069e-01,  4.49684022e+00,  1.33149434e+01,\n",
       "        3.89730684e+00, -8.34915719e-02, -2.28376411e+00,  4.63578022e+00,\n",
       "        3.10456215e+00, -3.65938428e+00, -1.49092032e+00,  5.00534260e+00,\n",
       "        8.00618594e-01, -2.00301526e+00,  2.42064193e+00,  9.12367289e+00,\n",
       "        1.21051526e+01,  4.40500399e+00,  9.41336184e+00,  4.20274522e+00,\n",
       "       -1.01405094e+00, -3.57334050e+00, -6.82933242e+00, -1.59123095e+00,\n",
       "       -4.50955925e+00, -2.30638376e+00, -6.51643405e-02, -7.71291643e+00,\n",
       "       -6.08619525e+00, -4.11636033e+00, -7.51611733e-01, -2.82128148e+00,\n",
       "       -1.48412534e-01, -8.42635539e-01, -3.47262199e+00, -5.40037965e+00,\n",
       "        1.12322799e+00,  6.61605329e-01, -8.92306720e-01, -1.71809054e+00,\n",
       "       -4.69029678e+00, -1.38985494e+00, -4.19885698e+00, -6.89687900e+00,\n",
       "       -4.60330844e+00, -1.79663124e+00, -3.30218525e+00, -2.90126440e+00,\n",
       "       -4.50346949e+00, -5.50506343e+00, -3.40396914e+00, -4.99492168e+00,\n",
       "       -5.29222107e+00,  8.68775146e+00, -7.50730568e+00, -1.07119854e-01,\n",
       "        7.19496961e+00, -6.50476611e+00, -6.79217565e+00, -9.09898923e-01,\n",
       "        4.88577338e-01,  2.59435020e+00, -1.09197331e+00,  1.15207675e-01,\n",
       "       -5.38770766e+00,  6.08943625e+00, -5.79986041e+00, -3.37360585e+00,\n",
       "       -2.50822010e+00, -7.27935484e-01,  8.30384877e-01,  3.42033707e-01,\n",
       "        2.85790809e+00, -2.53324586e+00, -1.69874600e+00, -5.47403782e+00,\n",
       "       -6.82960468e-01,  5.36366857e+00, -5.91011683e-01,  4.66620217e+00,\n",
       "        2.80050377e+01,  2.83237263e+01,  2.86824781e+01,  2.97947417e+01,\n",
       "        2.93962364e+01, -5.63067017e+00, -2.57902099e+00, -9.20288757e-01,\n",
       "       -3.80463285e+00, -6.66113377e+00, -1.15239303e+00, -6.43979100e+00,\n",
       "        2.31239859e+01, -6.56248632e+00, -8.92395608e+00, -8.41722640e+00,\n",
       "       -6.92381311e+00, -9.87539873e+00, -3.44450686e+00, -7.28643160e+00,\n",
       "       -7.89869907e+00, -9.15146198e+00, -6.04268826e+00,  1.36807781e+00,\n",
       "       -9.53667215e+00, -6.64787555e+00, -5.80085887e+00, -7.31814818e+00,\n",
       "       -9.09283140e+00, -1.23495563e+01, -3.18072568e+00, -1.36227058e+01,\n",
       "       -8.07514775e+00, -1.09389605e+01, -7.95519267e+00, -5.47606966e+00,\n",
       "        1.63134183e+00,  9.02942230e+00, -3.56312569e+00,  8.81743612e+00,\n",
       "       -3.76027727e+00,  9.44449419e+00,  1.20982669e+01, -1.01556038e+00,\n",
       "        1.65014585e+00,  4.11543263e+00,  1.87265784e+00, -9.34981193e+00,\n",
       "       -1.20437737e+01, -2.90577518e+00,  1.51473642e+01, -1.07398796e+01,\n",
       "       -2.73921797e+00, -6.91773032e+00,  1.75753234e+00, -7.70623827e+00,\n",
       "       -8.68702509e+00, -9.16830874e+00, -8.76029310e+00,  2.43438876e+00,\n",
       "       -9.97546511e+00, -1.06612433e+01, -6.01090220e+00, -5.76252017e+00,\n",
       "       -5.25663117e+00, -7.41298794e+00, -6.57225669e+00, -6.00907354e+00,\n",
       "       -8.46273222e+00, -9.05038632e+00, -9.96942088e+00, -7.33987788e+00,\n",
       "       -4.41189546e+00, -2.90214259e+00, -3.27776438e+00, -4.50206306e+00,\n",
       "       -7.93107151e+00, -7.81083479e+00, -6.52104115e+00, -7.31927843e+00,\n",
       "       -6.06529005e+00, -7.90984934e+00, -7.84362257e+00, -6.57077028e+00,\n",
       "       -5.81569894e+00, -2.81167546e+00, -5.18908657e+00, -7.95518922e+00,\n",
       "       -9.38968602e+00, -7.13129412e+00, -5.91643463e+00, -1.20916294e+00,\n",
       "       -5.63051208e+00, -4.79259736e+00, -1.76955504e+00, -1.41384991e+00,\n",
       "        6.19528095e-01, -2.81125188e+00, -3.45879017e+00, -3.09149575e+00,\n",
       "        1.51416926e+00,  1.48157783e+00, -2.32184252e+00, -2.75001005e+00,\n",
       "        6.56020828e-01,  7.70125414e+00, -6.89108333e+00, -8.07766207e+00,\n",
       "       -5.30603314e+00, -5.81389610e+00, -5.19203175e+00,  3.30130093e+00,\n",
       "        1.38733109e+00,  2.03950054e+00,  3.34898984e+00, -1.05380615e+00,\n",
       "       -2.43542018e+00, -1.30062487e+00, -2.56728402e+00, -1.42079153e+00,\n",
       "       -8.75532511e+00, -1.69419005e+01, -1.58319528e+01, -1.03739568e+01,\n",
       "       -3.87165265e+00, -2.14605466e+00,  5.97824074e-01, -8.43709176e-01,\n",
       "       -4.19803416e+00, -5.60679670e+00, -2.71887925e+00, -6.44418818e+00,\n",
       "       -7.12496594e+00, -1.59175858e+00, -3.39892717e+00, -9.25307730e-02,\n",
       "       -1.97236704e+00, -1.20980435e+01])"
      ]
     },
     "execution_count": 4,
     "metadata": {},
     "output_type": "execute_result"
    }
   ],
   "source": [
    "def residuals(tbl):\n",
    "    slope, bias = np.polyfit(tbl.column(0),tbl.column(1),deg=1)\n",
    "    return tbl.column(1) - (tbl.column(0)*slope + bias)\n",
    "residuals(boston)"
   ]
  },
  {
   "cell_type": "code",
   "execution_count": 5,
   "metadata": {
    "deletable": false
   },
   "outputs": [
    {
     "name": "stdout",
     "output_type": "stream",
     "text": [
      "~~~~~~~~~~~~~~~~~~~~~~~~~~~~~~~~~~~~~~~~~~~~~~~~~~~~~~~~~~~~~~~~~~~~~\n",
      "Running tests\n",
      "\n",
      "---------------------------------------------------------------------\n",
      "Test summary\n",
      "    Passed: 1\n",
      "    Failed: 0\n",
      "[ooooooooook] 100.0% passed\n",
      "\n"
     ]
    },
    {
     "data": {
      "application/javascript": [
       "IPython.notebook.save_checkpoint();"
      ],
      "text/plain": [
       "<IPython.core.display.Javascript object>"
      ]
     },
     "metadata": {},
     "output_type": "display_data"
    },
    {
     "data": {
      "application/javascript": [
       "IPython.notebook.save_notebook();"
      ],
      "text/plain": [
       "<IPython.core.display.Javascript object>"
      ]
     },
     "metadata": {},
     "output_type": "display_data"
    },
    {
     "name": "stdout",
     "output_type": "stream",
     "text": [
      "Saving notebook... Saved 'hw13.ipynb'.\n",
      "Backup... 100% complete\n",
      "Backup successful for user: togden1@binghamton.edu\n",
      "URL: https://okpy.org/bu/math247-cs207/fa19/hw13/backups/EqpwEl\n",
      "NOTE: this is only a backup. To submit your assignment, use:\n",
      "\tpython3 ok --submit\n",
      "\n"
     ]
    }
   ],
   "source": [
    "_ = ok.grade('q1_1')\n",
    "_ = ok.backup()"
   ]
  },
  {
   "cell_type": "markdown",
   "metadata": {},
   "source": [
    "<div class=\"hide\">\\pagebreak</div>\n",
    "\n",
    "#### Question 2\n",
    "\n",
    "Make a scatter plot of the residuals for the Boston housing dataset against crime rate. Crime rate should be on the horizontal axis."
   ]
  },
  {
   "cell_type": "code",
   "execution_count": 6,
   "metadata": {
    "deletable": false
   },
   "outputs": [
    {
     "data": {
      "text/plain": [
       "<matplotlib.collections.PathCollection at 0x2d84f0f9208>"
      ]
     },
     "execution_count": 6,
     "metadata": {},
     "output_type": "execute_result"
    },
    {
     "data": {
      "image/png": "[encoded data removed]",
      "text/plain": [
       "<Figure size 432x288 with 1 Axes>"
      ]
     },
     "metadata": {},
     "output_type": "display_data"
    }
   ],
   "source": [
    "plt.scatter(boston.column(0),residuals(boston))"
   ]
  },
  {
   "cell_type": "markdown",
   "metadata": {},
   "source": [
    "<div class=\"hide\">\\pagebreak</div>\n",
    "\n",
    "#### Question 3\n",
    "\n",
    "Does the plot of residuals look roughly like a formless cloud, or is there some kind of pattern? Are they centered around 0?"
   ]
  },
  {
   "cell_type": "markdown",
   "metadata": {
    "deletable": false,
    "manual_problem_id": "residual_pattern_1"
   },
   "source": [
    "No, the residuals begin to increase as crime rate increases."
   ]
  },
  {
   "cell_type": "markdown",
   "metadata": {},
   "source": [
    "<div class=\"hide\">\\pagebreak</div>\n",
    "\n",
    "#### Question 4\n",
    "\n",
    "Does it seem like a linear regression model is appropriate for describing the relationship between crime and median home value?\n",
    "\n",
    "Assign `linear` to `True` if you think a linear regression model is appropriate for describing the relationship, and `False` if it is not."
   ]
  },
  {
   "cell_type": "code",
   "execution_count": 7,
   "metadata": {
    "collapsed": true,
    "deletable": false
   },
   "outputs": [],
   "source": [
    "linear = False"
   ]
  },
  {
   "cell_type": "code",
   "execution_count": 8,
   "metadata": {
    "deletable": false
   },
   "outputs": [
    {
     "name": "stdout",
     "output_type": "stream",
     "text": [
      "~~~~~~~~~~~~~~~~~~~~~~~~~~~~~~~~~~~~~~~~~~~~~~~~~~~~~~~~~~~~~~~~~~~~~\n",
      "Running tests\n",
      "\n",
      "---------------------------------------------------------------------\n",
      "Test summary\n",
      "    Passed: 1\n",
      "    Failed: 0\n",
      "[ooooooooook] 100.0% passed\n",
      "\n"
     ]
    },
    {
     "data": {
      "application/javascript": [
       "IPython.notebook.save_checkpoint();"
      ],
      "text/plain": [
       "<IPython.core.display.Javascript object>"
      ]
     },
     "metadata": {},
     "output_type": "display_data"
    },
    {
     "data": {
      "application/javascript": [
       "IPython.notebook.save_notebook();"
      ],
      "text/plain": [
       "<IPython.core.display.Javascript object>"
      ]
     },
     "metadata": {},
     "output_type": "display_data"
    },
    {
     "name": "stdout",
     "output_type": "stream",
     "text": [
      "Saving notebook... Saved 'hw13.ipynb'.\n",
      "Backup... 100% complete\n",
      "Backup successful for user: togden1@binghamton.edu\n",
      "URL: https://okpy.org/bu/math247-cs207/fa19/hw13/backups/GRr0J5\n",
      "NOTE: this is only a backup. To submit your assignment, use:\n",
      "\tpython3 ok --submit\n",
      "\n"
     ]
    }
   ],
   "source": [
    "_ = ok.grade('q1_4')\n",
    "_ = ok.backup()"
   ]
  },
  {
   "cell_type": "markdown",
   "metadata": {},
   "source": [
    "Section [15.6](https://www.inferentialthinking.com/chapters/15/6/numerical-diagnostics.html) of the textbook describes some mathematical facts that hold for all regression estimates, regardless of goodness of fit.  One fact is that there is a relationship between the standard deviation of the residuals, the standard deviation of the response variable, and the correlation.  Let us test this."
   ]
  },
  {
   "cell_type": "markdown",
   "metadata": {},
   "source": [
    "<div class=\"hide\">\\pagebreak</div>\n",
    "\n",
    "#### Question 5\n",
    "\n",
    "Directly compute the standard deviation of the residuals from the Boston data.  Then compute the same quantity without using the residuals, but using the median home values and the correlation, based on the formula described in section 15.6 [here](https://www.inferentialthinking.com/chapters/15/6/Numerical_Diagnostics.html#sd-of-the-residuals) instead."
   ]
  },
  {
   "cell_type": "code",
   "execution_count": 9,
   "metadata": {
    "deletable": false
   },
   "outputs": [
    {
     "name": "stdout",
     "output_type": "stream",
     "text": [
      "Residual SD: 8.474144781120948\n",
      "Residual SD from the formula: 0.0\n"
     ]
    }
   ],
   "source": [
    "boston_residual_sd = np.std(residuals(boston))\n",
    "boston_residual_sd_from_formula = np.sqrt(1-np.corrcoef(residuals(boston))**2)*np.std(boston.column(1))\n",
    "\n",
    "print(\"Residual SD: {0}\".format(boston_residual_sd))\n",
    "print(\"Residual SD from the formula: {0}\".format(boston_residual_sd_from_formula))"
   ]
  },
  {
   "cell_type": "code",
   "execution_count": 10,
   "metadata": {
    "deletable": false
   },
   "outputs": [
    {
     "name": "stdout",
     "output_type": "stream",
     "text": [
      "~~~~~~~~~~~~~~~~~~~~~~~~~~~~~~~~~~~~~~~~~~~~~~~~~~~~~~~~~~~~~~~~~~~~~\n",
      "Running tests\n",
      "\n",
      "---------------------------------------------------------------------\n",
      "Test summary\n",
      "    Passed: 1\n",
      "    Failed: 0\n",
      "[ooooooooook] 100.0% passed\n",
      "\n"
     ]
    },
    {
     "data": {
      "application/javascript": [
       "IPython.notebook.save_checkpoint();"
      ],
      "text/plain": [
       "<IPython.core.display.Javascript object>"
      ]
     },
     "metadata": {},
     "output_type": "display_data"
    },
    {
     "data": {
      "application/javascript": [
       "IPython.notebook.save_notebook();"
      ],
      "text/plain": [
       "<IPython.core.display.Javascript object>"
      ]
     },
     "metadata": {},
     "output_type": "display_data"
    },
    {
     "name": "stdout",
     "output_type": "stream",
     "text": [
      "Saving notebook... Saved 'hw13.ipynb'.\n",
      "Backup... 100% complete\n",
      "Backup successful for user: togden1@binghamton.edu\n",
      "URL: https://okpy.org/bu/math247-cs207/fa19/hw13/backups/J8xBMy\n",
      "NOTE: this is only a backup. To submit your assignment, use:\n",
      "\tpython3 ok --submit\n",
      "\n"
     ]
    }
   ],
   "source": [
    "_ = ok.grade('q1_5')\n",
    "_ = ok.backup()"
   ]
  },
  {
   "cell_type": "markdown",
   "metadata": {},
   "source": [
    "Below, we have imported a new table, the Old Faithful data."
   ]
  },
  {
   "cell_type": "code",
   "execution_count": 11,
   "metadata": {},
   "outputs": [
    {
     "data": {
      "text/html": [
       "<table border=\"1\" class=\"dataframe\">\n",
       "    <thead>\n",
       "        <tr>\n",
       "            <th>duration</th> <th>wait</th>\n",
       "        </tr>\n",
       "    </thead>\n",
       "    <tbody>\n",
       "        <tr>\n",
       "            <td>3.6     </td> <td>79  </td>\n",
       "        </tr>\n",
       "        <tr>\n",
       "            <td>1.8     </td> <td>54  </td>\n",
       "        </tr>\n",
       "        <tr>\n",
       "            <td>3.333   </td> <td>74  </td>\n",
       "        </tr>\n",
       "        <tr>\n",
       "            <td>2.283   </td> <td>62  </td>\n",
       "        </tr>\n",
       "        <tr>\n",
       "            <td>4.533   </td> <td>85  </td>\n",
       "        </tr>\n",
       "        <tr>\n",
       "            <td>2.883   </td> <td>55  </td>\n",
       "        </tr>\n",
       "        <tr>\n",
       "            <td>4.7     </td> <td>88  </td>\n",
       "        </tr>\n",
       "        <tr>\n",
       "            <td>3.6     </td> <td>85  </td>\n",
       "        </tr>\n",
       "        <tr>\n",
       "            <td>1.95    </td> <td>51  </td>\n",
       "        </tr>\n",
       "        <tr>\n",
       "            <td>4.35    </td> <td>85  </td>\n",
       "        </tr>\n",
       "    </tbody>\n",
       "</table>\n",
       "<p>... (262 rows omitted)</p>"
      ],
      "text/plain": [
       "duration | wait\n",
       "3.6      | 79\n",
       "1.8      | 54\n",
       "3.333    | 74\n",
       "2.283    | 62\n",
       "4.533    | 85\n",
       "2.883    | 55\n",
       "4.7      | 88\n",
       "3.6      | 85\n",
       "1.95     | 51\n",
       "4.35     | 85\n",
       "... (262 rows omitted)"
      ]
     },
     "execution_count": 11,
     "metadata": {},
     "output_type": "execute_result"
    }
   ],
   "source": [
    "old_faithful = Table.read_table('faithful.csv')\n",
    "old_faithful"
   ]
  },
  {
   "cell_type": "markdown",
   "metadata": {},
   "source": [
    "The following cell makes a residual plot for this new dataset. Note: it would make use of the `residuals` function that you defined above. Hence you must define `residuals` in a generic way so that it can process both the Boston data and the faithful data (and any data set in the future)."
   ]
  },
  {
   "cell_type": "code",
   "execution_count": 12,
   "metadata": {
    "scrolled": true
   },
   "outputs": [
    {
     "data": {
      "image/png": "[encoded data removed]",
      "text/plain": [
       "<Figure size 360x360 with 1 Axes>"
      ]
     },
     "metadata": {},
     "output_type": "display_data"
    }
   ],
   "source": [
    "Table().with_columns('Residual', residuals(old_faithful), 'Duration', old_faithful.column('duration')).scatter('Duration')"
   ]
  },
  {
   "cell_type": "markdown",
   "metadata": {},
   "source": [
    "<div class=\"hide\">\\pagebreak</div>\n",
    "\n",
    "#### Question 6\n",
    "\n",
    "Repeat the procedure from Question 5 to find the standard deviation of the residuals for the `old_faithful` dataset."
   ]
  },
  {
   "cell_type": "code",
   "execution_count": 13,
   "metadata": {
    "deletable": false
   },
   "outputs": [
    {
     "name": "stdout",
     "output_type": "stream",
     "text": [
      "Residual SD: 1.0\n",
      "Residual SD from the formula: 0.0\n"
     ]
    }
   ],
   "source": [
    "faithful_residual_sd = np.corrcoef(residuals(old_faithful))\n",
    "faithful_residual_sd_from_formula = np.sqrt(1-np.corrcoef(residuals(old_faithful))**2)*np.std(old_faithful.column(1))\n",
    "\n",
    "print(\"Residual SD: {0}\".format(faithful_residual_sd))\n",
    "print(\"Residual SD from the formula: {0}\".format(faithful_residual_sd_from_formula))"
   ]
  },
  {
   "cell_type": "code",
   "execution_count": 14,
   "metadata": {
    "deletable": false
   },
   "outputs": [
    {
     "name": "stdout",
     "output_type": "stream",
     "text": [
      "~~~~~~~~~~~~~~~~~~~~~~~~~~~~~~~~~~~~~~~~~~~~~~~~~~~~~~~~~~~~~~~~~~~~~\n",
      "Running tests\n",
      "\n",
      "---------------------------------------------------------------------\n",
      "Question 1_6 > Suite 1 > Case 1\n",
      "\n",
      ">>> np.round(faithful_residual_sd,2) == 5.89\n",
      "False\n",
      "\n",
      "# Error: expected\n",
      "#     True\n",
      "# but got\n",
      "#     False\n",
      "\n",
      "Run only this test case with \"python3 ok -q q1_6 --suite 1 --case 1\"\n",
      "---------------------------------------------------------------------\n",
      "Test summary\n",
      "    Passed: 0\n",
      "    Failed: 1\n",
      "[k..........] 0.0% passed\n",
      "\n"
     ]
    },
    {
     "data": {
      "application/javascript": [
       "IPython.notebook.save_checkpoint();"
      ],
      "text/plain": [
       "<IPython.core.display.Javascript object>"
      ]
     },
     "metadata": {},
     "output_type": "display_data"
    },
    {
     "data": {
      "application/javascript": [
       "IPython.notebook.save_notebook();"
      ],
      "text/plain": [
       "<IPython.core.display.Javascript object>"
      ]
     },
     "metadata": {},
     "output_type": "display_data"
    },
    {
     "name": "stdout",
     "output_type": "stream",
     "text": [
      "Saving notebook... Saved 'hw13.ipynb'.\n",
      "Backup... 100% complete\n",
      "Backup successful for user: togden1@binghamton.edu\n",
      "URL: https://okpy.org/bu/math247-cs207/fa19/hw13/backups/K8yDN8\n",
      "NOTE: this is only a backup. To submit your assignment, use:\n",
      "\tpython3 ok --submit\n",
      "\n"
     ]
    }
   ],
   "source": [
    "_ = ok.grade('q1_6')\n",
    "_ = ok.backup()"
   ]
  },
  {
   "cell_type": "markdown",
   "metadata": {},
   "source": [
    "## 2. Finding the Least Squares Regression Line\n"
   ]
  },
  {
   "cell_type": "markdown",
   "metadata": {},
   "source": [
    "In this exercise, you'll work with a small toy data set.  Run the next cell to generate the dataset `d` and see a scatter plot."
   ]
  },
  {
   "cell_type": "code",
   "execution_count": 15,
   "metadata": {},
   "outputs": [
    {
     "data": {
      "image/png": "[encoded data removed]",
      "text/plain": [
       "<Figure size 360x360 with 1 Axes>"
      ]
     },
     "metadata": {},
     "output_type": "display_data"
    }
   ],
   "source": [
    "d = Table().with_columns(\n",
    "    'x', make_array(0,  1,  2,  3,  4),\n",
    "    'y', make_array(1, .5, -1,  2, -3))\n",
    "d.scatter('x')"
   ]
  },
  {
   "cell_type": "markdown",
   "metadata": {},
   "source": [
    "\n",
    "#### Question 1 (Ungraded, but you'll need the result later)\n",
    "Running the cell below will generate sliders that control the slope and intercept of a line through the scatter plot.  When you adjust a slider, the line will move.\n",
    "\n",
    "By moving the line around, make your best guess at the least-squares regression line.  (It's okay if your line isn't exactly right, as long as it's reasonable.)\n",
    "\n",
    "**Note:** Python will probably take about a second to redraw the plot each time you adjust the slider.  We suggest clicking the place on the slider you want to try and waiting for the plot to be drawn; dragging the slider handle around will cause a long lag."
   ]
  },
  {
   "cell_type": "code",
   "execution_count": 16,
   "metadata": {},
   "outputs": [
    {
     "data": {
      "application/vnd.jupyter.widget-view+json": {
       "model_id": "b1f19cd498334daabe0dc21a2a978a59",
       "version_major": 2,
       "version_minor": 0
      },
      "text/plain": [
       "A Jupyter Widget"
      ]
     },
     "metadata": {},
     "output_type": "display_data"
    }
   ],
   "source": [
    "def plot_line(slope, intercept):\n",
    "    plt.figure(figsize=(5,5))\n",
    "    \n",
    "    endpoints = make_array(-2, 7)\n",
    "    p = plt.plot(endpoints, slope*endpoints + intercept, color='orange', label='Proposed line')\n",
    "    \n",
    "    plt.scatter(d.column('x'), d.column('y'), color='blue', label='Points')\n",
    "    \n",
    "    plt.xlim(-4, 8)\n",
    "    plt.ylim(-6, 6)\n",
    "    plt.gca().set_aspect('equal', adjustable='box')\n",
    "    \n",
    "    plt.legend(bbox_to_anchor=(1.8, .8))\n",
    "    plt.show()\n",
    "\n",
    "interact(plot_line, slope=widgets.FloatSlider(min=-4, max=4, step=.1), intercept=widgets.FloatSlider(min=-4, max=4, step=.1));"
   ]
  },
  {
   "cell_type": "markdown",
   "metadata": {},
   "source": [
    "<div class=\"hide\">\\pagebreak</div>\n",
    "\n",
    "You can probably find a reasonable-looking line by just eyeballing it.  But remember: the least-squares regression line minimizes the mean of the squared errors made by the line for each point.  Your eye might not be able to judge squared errors very well.\n",
    "\n",
    "#### A note on mean and total squared error\n",
    "\n",
    "It is common to think of the least-squares line as the line with the least *mean* (average) squared error (or the square root of the mean squared error), as the textbook does.\n",
    "\n",
    "But it turns out that it doesn't matter whether you minimize the average squared error or the *total* squared error.  You'll get the same best line in either case.\n",
    "\n",
    "That's because the total squared error is just the average squared error multipled by the number of points (`d.num_rows`).  So if one line gets a better total squared error than another line, then it also gets a better mean squared error.  In particular, the line with the smallest total squared error is also better than every other line in terms of mean squared error.  That makes it the least squares line.\n",
    "\n",
    "**tl; dr:** Minimizing the mean squared error minimizes the total squared error as well."
   ]
  },
  {
   "cell_type": "markdown",
   "metadata": {
    "collapsed": true
   },
   "source": [
    "#### Question 2 (Ungraded, but you'll need the result later)\n",
    "The next cell produces a more useful plot.  Use it to find a line that's closer to the least-squares regression line, keeping the above note in mind."
   ]
  },
  {
   "cell_type": "code",
   "execution_count": 17,
   "metadata": {},
   "outputs": [
    {
     "data": {
      "application/vnd.jupyter.widget-view+json": {
       "model_id": "58955f2114fd4367920dcbc5b215643e",
       "version_major": 2,
       "version_minor": 0
      },
      "text/plain": [
       "A Jupyter Widget"
      ]
     },
     "metadata": {},
     "output_type": "display_data"
    }
   ],
   "source": [
    "def plot_line_and_errors(slope, intercept):\n",
    "    plt.figure(figsize=(5,5))\n",
    "    points = make_array(-2, 7)\n",
    "    p = plt.plot(points, slope*points + intercept, color='orange', label='Proposed line')\n",
    "    ax = p[0].axes\n",
    "    \n",
    "    predicted_ys = slope*d.column('x') + intercept\n",
    "    diffs = predicted_ys - d.column('y')\n",
    "    for i in np.arange(d.num_rows):\n",
    "        x = d.column('x').item(i)\n",
    "        y = d.column('y').item(i)\n",
    "        diff = diffs.item(i)\n",
    "        \n",
    "        if diff > 0:\n",
    "            bottom_left_x = x\n",
    "            bottom_left_y = y\n",
    "        else:\n",
    "            bottom_left_x = x + diff\n",
    "            bottom_left_y = y + diff\n",
    "        \n",
    "        ax.add_patch(patches.Rectangle(make_array(bottom_left_x, bottom_left_y), abs(diff), abs(diff), color='red', alpha=.3, label=('Squared error' if i == 0 else None)))\n",
    "        plt.plot(make_array(x, x), make_array(y, y + diff), color='red', alpha=.6, label=('Error' if i == 0 else None))\n",
    "    \n",
    "    plt.scatter(d.column('x'), d.column('y'), color='blue', label='Points')\n",
    "    \n",
    "    plt.xlim(-4, 8)\n",
    "    plt.ylim(-6, 6)\n",
    "    plt.gca().set_aspect('equal', adjustable='box')\n",
    "    \n",
    "    plt.legend(bbox_to_anchor=(1.8, .8))\n",
    "    plt.show()\n",
    "\n",
    "interact(plot_line_and_errors, slope=widgets.FloatSlider(min=-4, max=4, step=.1), intercept=widgets.FloatSlider(min=-4, max=4, step=.1));"
   ]
  },
  {
   "cell_type": "markdown",
   "metadata": {},
   "source": [
    "#### Question 3\n",
    "Describe the visual criterion you used to find a line in question 2. How did you judge whether one line was better than another? \n",
    "\n",
    "For example, a possible (but incorrect) answer is, \"I tried to make the red line for the bottom-right point as small as possible.\""
   ]
  },
  {
   "cell_type": "markdown",
   "metadata": {
    "deletable": false,
    "manual_problem_id": "least_squares_3"
   },
   "source": [
    "I tried to minimize the area of the red boxes."
   ]
  },
  {
   "cell_type": "markdown",
   "metadata": {},
   "source": [
    "#### Question 4\n",
    "We can say that a point influences the line by how much the line would move if the point were removed from the data set. Does the point at (3, 2) have more or less influence than any other point on the resulting best-fit line? \n",
    "\n",
    "Assign `more_influence` to `True` if the outlier (3,2) has more influence than any other point on the best-fit line, or `False` if it does not. To answer this question, you have to imagine that (3,2) is removed, and think how much the best-fit line will be moved."
   ]
  },
  {
   "cell_type": "code",
   "execution_count": 18,
   "metadata": {
    "collapsed": true,
    "deletable": false
   },
   "outputs": [],
   "source": [
    "more_influence = True"
   ]
  },
  {
   "cell_type": "code",
   "execution_count": 19,
   "metadata": {
    "deletable": false
   },
   "outputs": [
    {
     "name": "stdout",
     "output_type": "stream",
     "text": [
      "~~~~~~~~~~~~~~~~~~~~~~~~~~~~~~~~~~~~~~~~~~~~~~~~~~~~~~~~~~~~~~~~~~~~~\n",
      "Running tests\n",
      "\n",
      "---------------------------------------------------------------------\n",
      "Test summary\n",
      "    Passed: 1\n",
      "    Failed: 0\n",
      "[ooooooooook] 100.0% passed\n",
      "\n"
     ]
    },
    {
     "data": {
      "application/javascript": [
       "IPython.notebook.save_checkpoint();"
      ],
      "text/plain": [
       "<IPython.core.display.Javascript object>"
      ]
     },
     "metadata": {},
     "output_type": "display_data"
    },
    {
     "data": {
      "application/javascript": [
       "IPython.notebook.save_notebook();"
      ],
      "text/plain": [
       "<IPython.core.display.Javascript object>"
      ]
     },
     "metadata": {},
     "output_type": "display_data"
    },
    {
     "name": "stdout",
     "output_type": "stream",
     "text": [
      "Saving notebook... Saved 'hw13.ipynb'.\n",
      "Backup... 100% complete\n",
      "Backup successful for user: togden1@binghamton.edu\n",
      "URL: https://okpy.org/bu/math247-cs207/fa19/hw13/backups/MZAGP1\n",
      "NOTE: this is only a backup. To submit your assignment, use:\n",
      "\tpython3 ok --submit\n",
      "\n"
     ]
    }
   ],
   "source": [
    "_ = ok.grade('q2_4')\n",
    "_ = ok.backup()"
   ]
  },
  {
   "cell_type": "markdown",
   "metadata": {},
   "source": [
    "Now, let's have Python find this line for us.  When we use `minimize`, Python goes through a process similar to the one you might have used in question 2.\n",
    "\n",
    "But Python can't look at a plot that displays errors!  Instead, we tell it how much is the total squared error for a line with a given slope and intercept."
   ]
  },
  {
   "cell_type": "markdown",
   "metadata": {},
   "source": [
    "#### Question 5\n",
    "Define a function called `total_squared_error`.  It should take two numbers as arguments:\n",
    "\n",
    "1. the slope of some potential line\n",
    "2. the intercept of some potential line\n",
    "\n",
    "It should return the total squared error when we use that line to make predictions for the dataset `d`.\n",
    "\n",
    "Recall that `d` has two columns: _x_ and _y_."
   ]
  },
  {
   "cell_type": "code",
   "execution_count": 20,
   "metadata": {
    "collapsed": true,
    "deletable": false
   },
   "outputs": [],
   "source": [
    "def total_squared_error(slope, intercept):\n",
    "    predictions = d.column(0)*slope + intercept\n",
    "    errors = predictions - d.column(1)\n",
    "    return sum(errors**2)"
   ]
  },
  {
   "cell_type": "code",
   "execution_count": 21,
   "metadata": {
    "deletable": false,
    "scrolled": true
   },
   "outputs": [
    {
     "name": "stdout",
     "output_type": "stream",
     "text": [
      "~~~~~~~~~~~~~~~~~~~~~~~~~~~~~~~~~~~~~~~~~~~~~~~~~~~~~~~~~~~~~~~~~~~~~\n",
      "Running tests\n",
      "\n",
      "---------------------------------------------------------------------\n",
      "Test summary\n",
      "    Passed: 1\n",
      "    Failed: 0\n",
      "[ooooooooook] 100.0% passed\n",
      "\n"
     ]
    },
    {
     "data": {
      "application/javascript": [
       "IPython.notebook.save_checkpoint();"
      ],
      "text/plain": [
       "<IPython.core.display.Javascript object>"
      ]
     },
     "metadata": {},
     "output_type": "display_data"
    },
    {
     "data": {
      "application/javascript": [
       "IPython.notebook.save_notebook();"
      ],
      "text/plain": [
       "<IPython.core.display.Javascript object>"
      ]
     },
     "metadata": {},
     "output_type": "display_data"
    },
    {
     "name": "stdout",
     "output_type": "stream",
     "text": [
      "Saving notebook... Saved 'hw13.ipynb'.\n",
      "Backup... 100% complete\n",
      "Backup successful for user: togden1@binghamton.edu\n",
      "URL: https://okpy.org/bu/math247-cs207/fa19/hw13/backups/NOBJg8\n",
      "NOTE: this is only a backup. To submit your assignment, use:\n",
      "\tpython3 ok --submit\n",
      "\n"
     ]
    }
   ],
   "source": [
    "_ = ok.grade('q2_5')\n",
    "_ = ok.backup()"
   ]
  },
  {
   "cell_type": "markdown",
   "metadata": {},
   "source": [
    "#### Question 6\n",
    "What is the total squared error for the line you found by \"eyeballing\" the errors in Question 1?  What about Question 2, where you made a guess that was \"aided\" by a visualization of the squared error? Take your answers to Question 1 and Question 2 and use `total_squared_error` to calculate their errors.  (It's okay if the error went up, but for many students, the error will go down when using the visual aid.)"
   ]
  },
  {
   "cell_type": "code",
   "execution_count": 22,
   "metadata": {
    "deletable": false,
    "for_assignment_type": "student",
    "manual_problem_id": "least_squares_6"
   },
   "outputs": [
    {
     "name": "stdout",
     "output_type": "stream",
     "text": [
      "Eyeballed error: 12.45 \n",
      "Aided error: 11.0\n"
     ]
    }
   ],
   "source": [
    "eyeballed_error = total_squared_error(-.8,2)\n",
    "aided_error = total_squared_error(-.7,1.3)\n",
    "print(\"Eyeballed error:\", eyeballed_error, \"\\nAided error:\", aided_error)"
   ]
  },
  {
   "cell_type": "code",
   "execution_count": 23,
   "metadata": {
    "deletable": false
   },
   "outputs": [
    {
     "name": "stdout",
     "output_type": "stream",
     "text": [
      "~~~~~~~~~~~~~~~~~~~~~~~~~~~~~~~~~~~~~~~~~~~~~~~~~~~~~~~~~~~~~~~~~~~~~\n",
      "Running tests\n",
      "\n",
      "---------------------------------------------------------------------\n",
      "Test summary\n",
      "    Passed: 1\n",
      "    Failed: 0\n",
      "[ooooooooook] 100.0% passed\n",
      "\n"
     ]
    },
    {
     "data": {
      "application/javascript": [
       "IPython.notebook.save_checkpoint();"
      ],
      "text/plain": [
       "<IPython.core.display.Javascript object>"
      ]
     },
     "metadata": {},
     "output_type": "display_data"
    },
    {
     "data": {
      "application/javascript": [
       "IPython.notebook.save_notebook();"
      ],
      "text/plain": [
       "<IPython.core.display.Javascript object>"
      ]
     },
     "metadata": {},
     "output_type": "display_data"
    },
    {
     "name": "stdout",
     "output_type": "stream",
     "text": [
      "Saving notebook... Saved 'hw13.ipynb'.\n",
      "Backup... 100% complete\n",
      "Backup successful for user: togden1@binghamton.edu\n",
      "URL: https://okpy.org/bu/math247-cs207/fa19/hw13/backups/OgDKjE\n",
      "NOTE: this is only a backup. To submit your assignment, use:\n",
      "\tpython3 ok --submit\n",
      "\n"
     ]
    }
   ],
   "source": [
    "_ = ok.grade('q2_6')\n",
    "_ = ok.backup()"
   ]
  },
  {
   "cell_type": "markdown",
   "metadata": {},
   "source": [
    "#### Question 7\n",
    "Use `minimize` to find the slope and intercept for the line that minimizes the total squared error. This is the definition of a least-squares regression line. \n",
    "\n",
    "**Note:** `minimize` will return a single array containing the slope as the first element and intercept as the second. Read more of its documentation [here](http://data8.org/datascience/util.html?highlight=minimize#datascience.util.minimize) or an example of its use [here](https://www.inferentialthinking.com/chapters/15/3/method-of-least-squares.html)."
   ]
  },
  {
   "cell_type": "code",
   "execution_count": 24,
   "metadata": {
    "deletable": false,
    "for_assignment_type": "student",
    "manual_problem_id": "minimize_slope_intercept"
   },
   "outputs": [
    {
     "name": "stdout",
     "output_type": "stream",
     "text": [
      "Least-squares regression line: predicted_y = -0.6498374231570391 * x +  1.1988619620992735\n"
     ]
    }
   ],
   "source": [
    "slope, intercept = 1, 1\n",
    "best = minimize(total_squared_error)\n",
    "# write 1 line of code above here.\n",
    "slope_from_minimize = best[0]\n",
    "intercept_from_minimize = best[1]\n",
    "print(\"Least-squares regression line: predicted_y =\",\n",
    "      slope_from_minimize,\n",
    "      \"* x + \",\n",
    "      intercept_from_minimize)"
   ]
  },
  {
   "cell_type": "code",
   "execution_count": 25,
   "metadata": {
    "deletable": false
   },
   "outputs": [
    {
     "name": "stdout",
     "output_type": "stream",
     "text": [
      "~~~~~~~~~~~~~~~~~~~~~~~~~~~~~~~~~~~~~~~~~~~~~~~~~~~~~~~~~~~~~~~~~~~~~\n",
      "Running tests\n",
      "\n",
      "---------------------------------------------------------------------\n",
      "Test summary\n",
      "    Passed: 1\n",
      "    Failed: 0\n",
      "[ooooooooook] 100.0% passed\n",
      "\n"
     ]
    },
    {
     "data": {
      "application/javascript": [
       "IPython.notebook.save_checkpoint();"
      ],
      "text/plain": [
       "<IPython.core.display.Javascript object>"
      ]
     },
     "metadata": {},
     "output_type": "display_data"
    },
    {
     "data": {
      "application/javascript": [
       "IPython.notebook.save_notebook();"
      ],
      "text/plain": [
       "<IPython.core.display.Javascript object>"
      ]
     },
     "metadata": {},
     "output_type": "display_data"
    },
    {
     "name": "stdout",
     "output_type": "stream",
     "text": [
      "Saving notebook... Saved 'hw13.ipynb'.\n",
      "Backup... 100% complete\n",
      "Backup successful for user: togden1@binghamton.edu\n",
      "URL: https://okpy.org/bu/math247-cs207/fa19/hw13/backups/PjELk6\n",
      "NOTE: this is only a backup. To submit your assignment, use:\n",
      "\tpython3 ok --submit\n",
      "\n"
     ]
    }
   ],
   "source": [
    "_ = ok.grade('q2_7')\n",
    "_ = ok.backup()"
   ]
  },
  {
   "cell_type": "markdown",
   "metadata": {},
   "source": [
    "#### Question 8\n",
    "What is the total squared error for the least-squares regression line that you found in Question 7?"
   ]
  },
  {
   "cell_type": "code",
   "execution_count": 26,
   "metadata": {
    "deletable": false
   },
   "outputs": [
    {
     "data": {
      "text/plain": [
       "10.975003568216033"
      ]
     },
     "execution_count": 26,
     "metadata": {},
     "output_type": "execute_result"
    }
   ],
   "source": [
    "best_total_squared_error = total_squared_error(best[0], best[1])\n",
    "best_total_squared_error"
   ]
  },
  {
   "cell_type": "code",
   "execution_count": 27,
   "metadata": {
    "deletable": false,
    "scrolled": true
   },
   "outputs": [
    {
     "name": "stdout",
     "output_type": "stream",
     "text": [
      "~~~~~~~~~~~~~~~~~~~~~~~~~~~~~~~~~~~~~~~~~~~~~~~~~~~~~~~~~~~~~~~~~~~~~\n",
      "Running tests\n",
      "\n",
      "---------------------------------------------------------------------\n",
      "Test summary\n",
      "    Passed: 1\n",
      "    Failed: 0\n",
      "[ooooooooook] 100.0% passed\n",
      "\n"
     ]
    },
    {
     "data": {
      "application/javascript": [
       "IPython.notebook.save_checkpoint();"
      ],
      "text/plain": [
       "<IPython.core.display.Javascript object>"
      ]
     },
     "metadata": {},
     "output_type": "display_data"
    },
    {
     "data": {
      "application/javascript": [
       "IPython.notebook.save_notebook();"
      ],
      "text/plain": [
       "<IPython.core.display.Javascript object>"
      ]
     },
     "metadata": {},
     "output_type": "display_data"
    },
    {
     "name": "stdout",
     "output_type": "stream",
     "text": [
      "Saving notebook... Saved 'hw13.ipynb'.\n",
      "Backup... 100% complete\n",
      "Backup successful for user: togden1@binghamton.edu\n",
      "URL: https://okpy.org/bu/math247-cs207/fa19/hw13/backups/RlJNmw\n",
      "NOTE: this is only a backup. To submit your assignment, use:\n",
      "\tpython3 ok --submit\n",
      "\n"
     ]
    }
   ],
   "source": [
    "_ = ok.grade('q2_8')\n",
    "_ = ok.backup()"
   ]
  },
  {
   "cell_type": "markdown",
   "metadata": {},
   "source": [
    "Finally, run the following cell to plot this \"best fit\" line and its errors:"
   ]
  },
  {
   "cell_type": "code",
   "execution_count": 28,
   "metadata": {},
   "outputs": [
    {
     "data": {
      "image/png": "[encoded data removed]",
      "text/plain": [
       "<Figure size 360x360 with 1 Axes>"
      ]
     },
     "metadata": {},
     "output_type": "display_data"
    }
   ],
   "source": [
    "plot_line_and_errors(slope_from_minimize, intercept_from_minimize)"
   ]
  },
  {
   "cell_type": "markdown",
   "metadata": {},
   "source": [
    "## 3. Quantifying Sampling Errors in Regression\n"
   ]
  },
  {
   "cell_type": "markdown",
   "metadata": {},
   "source": [
    "Previously, in this class we've used confidence intervals to quantify uncertainty about estimates as well as to test predictions. To run a hypothesis test using a confidence interval, we use the following procedure (here we let the cutoff for the p-value to be 5%):\n",
    "1. Formulate a null hypothesis\n",
    "2. Formulate an alternative hypothesis \n",
    "3. Choose a test statistic and compute the observed value for the test statistic\n",
    "4. Bootstrap, finding a value of the test stat for each resample\n",
    "5. Generate a 95% confidence interval from those resampled test stats (the confidence level is 95% since 95%=100%-5%).\n",
    "6. Based on whether your value is in the 95% confidence interval or not, make a conclusion (whether to reject the null hypothesis or not).\n",
    "\n",
    "Another thing we've covered recently is the use of linear regression to make predictions, using correlated variables. An example is, say, predicting the height of children based on the heights of their parents.\n",
    "\n",
    "We can combine these two topics together in order to make even more powerful statements about our population given just a sample as before. We can use the following techniques to do so:\n",
    "- Bootstrapped interval for the true slope\n",
    "- Bootstrapped prediction interval for y (given a particular value of x)\n",
    "\n",
    "This homework further explores these two advanced methods."
   ]
  },
  {
   "cell_type": "markdown",
   "metadata": {},
   "source": [
    "Recall the Old Faithful dataset from our lab on regression. The table contains two pieces of information about each eruption of the Old Faithful geyser in Yellowstone National Park:\n",
    "1. The duration of the eruption, in minutes.\n",
    "2. The time between this eruption and the next eruption (the \"waiting time\"), in minutes.\n",
    "\n",
    "The dataset is plotted below along with its line of best fit."
   ]
  },
  {
   "cell_type": "code",
   "execution_count": 29,
   "metadata": {
    "ExecuteTime": {
     "end_time": "2018-04-11T12:05:50.503658Z",
     "start_time": "2018-04-11T12:05:50.340244Z"
    }
   },
   "outputs": [
    {
     "data": {
      "text/html": [
       "<table border=\"1\" class=\"dataframe\">\n",
       "    <thead>\n",
       "        <tr>\n",
       "            <th>duration</th> <th>wait</th>\n",
       "        </tr>\n",
       "    </thead>\n",
       "    <tbody>\n",
       "        <tr>\n",
       "            <td>3.6     </td> <td>79  </td>\n",
       "        </tr>\n",
       "        <tr>\n",
       "            <td>1.8     </td> <td>54  </td>\n",
       "        </tr>\n",
       "        <tr>\n",
       "            <td>3.333   </td> <td>74  </td>\n",
       "        </tr>\n",
       "        <tr>\n",
       "            <td>2.283   </td> <td>62  </td>\n",
       "        </tr>\n",
       "        <tr>\n",
       "            <td>4.533   </td> <td>85  </td>\n",
       "        </tr>\n",
       "        <tr>\n",
       "            <td>2.883   </td> <td>55  </td>\n",
       "        </tr>\n",
       "        <tr>\n",
       "            <td>4.7     </td> <td>88  </td>\n",
       "        </tr>\n",
       "        <tr>\n",
       "            <td>3.6     </td> <td>85  </td>\n",
       "        </tr>\n",
       "        <tr>\n",
       "            <td>1.95    </td> <td>51  </td>\n",
       "        </tr>\n",
       "        <tr>\n",
       "            <td>4.35    </td> <td>85  </td>\n",
       "        </tr>\n",
       "    </tbody>\n",
       "</table>\n",
       "<p>... (262 rows omitted)</p>"
      ],
      "text/plain": [
       "duration | wait\n",
       "3.6      | 79\n",
       "1.8      | 54\n",
       "3.333    | 74\n",
       "2.283    | 62\n",
       "4.533    | 85\n",
       "2.883    | 55\n",
       "4.7      | 88\n",
       "3.6      | 85\n",
       "1.95     | 51\n",
       "4.35     | 85\n",
       "... (262 rows omitted)"
      ]
     },
     "execution_count": 29,
     "metadata": {},
     "output_type": "execute_result"
    },
    {
     "data": {
      "image/png": "[encoded data removed]",
      "text/plain": [
       "<Figure size 360x360 with 1 Axes>"
      ]
     },
     "metadata": {},
     "output_type": "display_data"
    }
   ],
   "source": [
    "faithful = Table.read_table('faithful_inference.csv')\n",
    "faithful.scatter('duration', fit_line=True)\n",
    "faithful"
   ]
  },
  {
   "cell_type": "markdown",
   "metadata": {},
   "source": [
    "### Finding the Bootstrap Confidence Interval for the True Slope\n",
    "\n",
    "Last time we looked at this dataset, we noticed the apparent linear relationship between duration and wait, and we decided to use regression to predict wait in terms of duration. However, our data are just a sample of all the eruptions that have happened at Old Faithful. As we know, relationships can appear in a sample that don't really exist in the population from which the sample was taken."
   ]
  },
  {
   "cell_type": "markdown",
   "metadata": {},
   "source": [
    "#### Question 1\n",
    "\n",
    "Before we move forward using our linear model, we would like to know whether or not there truly exists a relationship between duration and wait time. If there is no relationship between the two, then we'd expect a correlation of 0, which would give us a slope of 0. Now, write down the null and alternative hypotheses, based on your knowledge of hypothesis tests you've conducted in the past."
   ]
  },
  {
   "cell_type": "markdown",
   "metadata": {
    "deletable": false,
    "for_assignment_type": "student",
    "manual_problem_id": "slope_inference_1"
   },
   "source": [
    "- **Null Hypothesis:** There is no linear relation between the duration of the geyser eruption and the next wait time.\n",
    "- **Alternate Hypothesis:** There is some linear correlation between the duration of the geyser eruption and the next wait time."
   ]
  },
  {
   "cell_type": "markdown",
   "metadata": {},
   "source": [
    "We will use the method of confidence intervals to test this hypothesis.\n",
    "\n",
    "<div class=\"hide\">\\pagebreak</div>\n",
    "\n",
    "#### Question 2\n",
    "\n",
    "We'll warm up by implementing some familiar functions. You may use these functions throughout this assignment. Start by defining these two functions:\n",
    "\n",
    "1. `standard_units` should take in an array of numbers and return an array containing those numbers converted to standard units.\n",
    "2. `correlation` should take in a table with 2 columns and return the correlation between these columns. Hint: you may want to use the `standard_units` function you defined above."
   ]
  },
  {
   "cell_type": "code",
   "execution_count": 32,
   "metadata": {
    "ExecuteTime": {
     "end_time": "2018-04-11T12:05:50.894154Z",
     "start_time": "2018-04-11T12:05:50.889145Z"
    },
    "collapsed": true,
    "deletable": false
   },
   "outputs": [],
   "source": [
    "def standard_units(arr):\n",
    "    mean = np.mean(arr)\n",
    "    std = np.std(arr)\n",
    "    return [(x - mean)/std for x in arr]\n",
    "\n",
    "def correlation(tbl):\n",
    "    return np.mean(tbl.column(0)*tbl.column(1))"
   ]
  },
  {
   "cell_type": "code",
   "execution_count": 33,
   "metadata": {
    "ExecuteTime": {
     "end_time": "2018-04-11T12:05:51.170309Z",
     "start_time": "2018-04-11T12:05:51.019905Z"
    },
    "deletable": false
   },
   "outputs": [
    {
     "name": "stdout",
     "output_type": "stream",
     "text": [
      "~~~~~~~~~~~~~~~~~~~~~~~~~~~~~~~~~~~~~~~~~~~~~~~~~~~~~~~~~~~~~~~~~~~~~\n",
      "Running tests\n",
      "\n",
      "---------------------------------------------------------------------\n",
      "Test summary\n",
      "    Passed: 1\n",
      "    Failed: 0\n",
      "[ooooooooook] 100.0% passed\n",
      "\n"
     ]
    },
    {
     "data": {
      "application/javascript": [
       "IPython.notebook.save_checkpoint();"
      ],
      "text/plain": [
       "<IPython.core.display.Javascript object>"
      ]
     },
     "metadata": {},
     "output_type": "display_data"
    },
    {
     "data": {
      "application/javascript": [
       "IPython.notebook.save_notebook();"
      ],
      "text/plain": [
       "<IPython.core.display.Javascript object>"
      ]
     },
     "metadata": {},
     "output_type": "display_data"
    },
    {
     "name": "stdout",
     "output_type": "stream",
     "text": [
      "Saving notebook... Saved 'hw13.ipynb'.\n",
      "Backup... 100% complete\n",
      "Backup successful for user: togden1@binghamton.edu\n",
      "URL: https://okpy.org/bu/math247-cs207/fa19/hw13/backups/x6xgAP\n",
      "NOTE: this is only a backup. To submit your assignment, use:\n",
      "\tpython3 ok --submit\n",
      "\n"
     ]
    }
   ],
   "source": [
    "_ = ok.grade('q3_2')\n",
    "_ = ok.backup()"
   ]
  },
  {
   "cell_type": "markdown",
   "metadata": {},
   "source": [
    "<div class=\"hide\">\\pagebreak</div>\n",
    "\n",
    "#### Question 3\n",
    "\n",
    "Using the functions you just implemented, create a function called `fit_line`.  It should take a table as its argument.  It should return an array containing the slope and intercept of the regression line that predicts the second column in the table using the first."
   ]
  },
  {
   "cell_type": "code",
   "execution_count": 36,
   "metadata": {
    "ExecuteTime": {
     "end_time": "2018-04-11T12:05:51.332907Z",
     "start_time": "2018-04-11T12:05:51.325888Z"
    },
    "deletable": false,
    "for_assignment_type": "student"
   },
   "outputs": [
    {
     "data": {
      "text/plain": [
       "array([  3111.17605302, -10780.21016341])"
      ]
     },
     "execution_count": 36,
     "metadata": {},
     "output_type": "execute_result"
    }
   ],
   "source": [
    "def fit_line(tbl):\n",
    "    r = correlation(tbl)\n",
    "    slope = r * np.std(tbl.column(1))/np.std(tbl.column(0))\n",
    "    intercept = np.mean(tbl.column(1)) - slope*np.mean(tbl.column(0))\n",
    "    return make_array(slope, intercept)\n",
    "\n",
    "# This should compute the slope and intercept of the regression\n",
    "# line predicting wait time from duration in the faithful dataset.\n",
    "fit_line(faithful)"
   ]
  },
  {
   "cell_type": "code",
   "execution_count": 38,
   "metadata": {
    "ExecuteTime": {
     "end_time": "2018-04-11T12:05:51.754766Z",
     "start_time": "2018-04-11T12:05:51.624390Z"
    }
   },
   "outputs": [
    {
     "data": {
      "image/png": "[encoded data removed]",
      "text/plain": [
       "<Figure size 360x360 with 1 Axes>"
      ]
     },
     "metadata": {},
     "output_type": "display_data"
    }
   ],
   "source": [
    "# Ensure your fit_line function fits a reasonable line \n",
    "# to the data in faithful, using the plot below\n",
    "\n",
    "slope, intercept = fit_line(faithful)\n",
    "faithful.scatter(0)\n",
    "plt.plot([min(faithful[0]), max(faithful[0])], \n",
    "         [slope*min(faithful[0])+intercept, slope*max(faithful[0])+intercept])\n",
    "plt.show()"
   ]
  },
  {
   "cell_type": "code",
   "execution_count": 39,
   "metadata": {
    "ExecuteTime": {
     "end_time": "2018-04-11T12:05:51.916168Z",
     "start_time": "2018-04-11T12:05:51.777799Z"
    },
    "deletable": false,
    "scrolled": true
   },
   "outputs": [
    {
     "name": "stdout",
     "output_type": "stream",
     "text": [
      "~~~~~~~~~~~~~~~~~~~~~~~~~~~~~~~~~~~~~~~~~~~~~~~~~~~~~~~~~~~~~~~~~~~~~\n",
      "Running tests\n",
      "\n",
      "---------------------------------------------------------------------\n",
      "Test summary\n",
      "    Passed: 1\n",
      "    Failed: 0\n",
      "[ooooooooook] 100.0% passed\n",
      "\n"
     ]
    },
    {
     "data": {
      "application/javascript": [
       "IPython.notebook.save_checkpoint();"
      ],
      "text/plain": [
       "<IPython.core.display.Javascript object>"
      ]
     },
     "metadata": {},
     "output_type": "display_data"
    },
    {
     "data": {
      "application/javascript": [
       "IPython.notebook.save_notebook();"
      ],
      "text/plain": [
       "<IPython.core.display.Javascript object>"
      ]
     },
     "metadata": {},
     "output_type": "display_data"
    },
    {
     "name": "stdout",
     "output_type": "stream",
     "text": [
      "Saving notebook... Saved 'hw13.ipynb'.\n",
      "Backup... 100% complete\n",
      "Backup successful for user: togden1@binghamton.edu\n",
      "URL: https://okpy.org/bu/math247-cs207/fa19/hw13/backups/Y7m8AY\n",
      "NOTE: this is only a backup. To submit your assignment, use:\n",
      "\tpython3 ok --submit\n",
      "\n"
     ]
    }
   ],
   "source": [
    "_ = ok.grade('q3_3')\n",
    "_ = ok.backup()"
   ]
  },
  {
   "cell_type": "markdown",
   "metadata": {},
   "source": [
    "Now we have all the tools we need in order to create a confidence interval quantifying our uncertainty about the true relationship between duration and wait time."
   ]
  },
  {
   "cell_type": "markdown",
   "metadata": {},
   "source": [
    "<div class=\"hide\">\\pagebreak</div>\n",
    "\n",
    "#### Question 4\n",
    "\n",
    "Use the bootstrap to draw 1000 resamples from our dataset. Each resample has the same number of points as the original sample. For each resample, compute the slope of the best fit line. Put these slopes in an array called `resample_slopes`, giving you the empirical distribution of regression line slopes in resamples. Plot a histogram of these slopes."
   ]
  },
  {
   "cell_type": "code",
   "execution_count": 47,
   "metadata": {
    "deletable": false,
    "for_assignment_type": "student"
   },
   "outputs": [
    {
     "data": {
      "image/png": "[encoded data removed]",
      "text/plain": [
       "<Figure size 432x288 with 1 Axes>"
      ]
     },
     "metadata": {},
     "output_type": "display_data"
    }
   ],
   "source": [
    "resample_slopes = []\n",
    "for x in range(1000):\n",
    "    resample = faithful.sample(k=50)\n",
    "    resample_standard = Table().with_columns('duration', standard_units(resample['duration']),\n",
    "                                                'wait', standard_units(resample['wait']))\n",
    "    resample_slopes.append(fit_line(resample_standard)[0])\n",
    "Table().with_column('Slopes',resample_slopes).hist()"
   ]
  },
  {
   "cell_type": "markdown",
   "metadata": {},
   "source": [
    "<div class=\"hide\">\\pagebreak</div>\n",
    "\n",
    "#### Question 5\n",
    "\n",
    "Use your resampled slopes to construct an approximate 95% confidence interval for the true value of the slope."
   ]
  },
  {
   "cell_type": "code",
   "execution_count": 48,
   "metadata": {
    "ExecuteTime": {
     "end_time": "2018-04-11T12:05:53.077324Z",
     "start_time": "2018-04-11T12:05:53.072310Z"
    },
    "deletable": false
   },
   "outputs": [
    {
     "name": "stdout",
     "output_type": "stream",
     "text": [
      "95% confidence interval for slope: [0.859183, 0.944456]\n"
     ]
    }
   ],
   "source": [
    "lower_end = np.mean(resample_slopes) - 2*np.std(resample_slopes)\n",
    "upper_end = np.mean(resample_slopes) + 2*np.std(resample_slopes)\n",
    "print(\"95% confidence interval for slope: [{:g}, {:g}]\".format(lower_end, upper_end))"
   ]
  },
  {
   "cell_type": "code",
   "execution_count": 49,
   "metadata": {
    "deletable": false
   },
   "outputs": [
    {
     "name": "stdout",
     "output_type": "stream",
     "text": [
      "~~~~~~~~~~~~~~~~~~~~~~~~~~~~~~~~~~~~~~~~~~~~~~~~~~~~~~~~~~~~~~~~~~~~~\n",
      "Running tests\n",
      "\n",
      "---------------------------------------------------------------------\n",
      "Question 3_5 > Suite 1 > Case 1\n",
      "\n",
      ">>> lower_end > 5\n",
      "False\n",
      "\n",
      "# Error: expected\n",
      "#     True\n",
      "# but got\n",
      "#     False\n",
      "\n",
      "Run only this test case with \"python3 ok -q q3_5 --suite 1 --case 1\"\n",
      "---------------------------------------------------------------------\n",
      "Test summary\n",
      "    Passed: 0\n",
      "    Failed: 1\n",
      "[k..........] 0.0% passed\n",
      "\n"
     ]
    },
    {
     "data": {
      "application/javascript": [
       "IPython.notebook.save_checkpoint();"
      ],
      "text/plain": [
       "<IPython.core.display.Javascript object>"
      ]
     },
     "metadata": {},
     "output_type": "display_data"
    },
    {
     "data": {
      "application/javascript": [
       "IPython.notebook.save_notebook();"
      ],
      "text/plain": [
       "<IPython.core.display.Javascript object>"
      ]
     },
     "metadata": {},
     "output_type": "display_data"
    },
    {
     "name": "stdout",
     "output_type": "stream",
     "text": [
      "Saving notebook... Saved 'hw13.ipynb'.\n",
      "Backup... 100% complete\n",
      "Backup successful for user: togden1@binghamton.edu\n",
      "URL: https://okpy.org/bu/math247-cs207/fa19/hw13/backups/x6xg4l\n",
      "NOTE: this is only a backup. To submit your assignment, use:\n",
      "\tpython3 ok --submit\n",
      "\n"
     ]
    }
   ],
   "source": [
    "_ = ok.grade('q3_5')\n",
    "_ = ok.backup()"
   ]
  },
  {
   "cell_type": "markdown",
   "metadata": {},
   "source": [
    "<div class=\"hide\">\\pagebreak</div>\n",
    "\n",
    "#### Question 6\n",
    "\n",
    "Based on your confidence interval, would you accept or reject the null hypothesis that the true slope is 0?  Why?  What P-value cutoff are you using?  Hint: the P-value cutoff is related to the confidence level of the confidence interval you made."
   ]
  },
  {
   "cell_type": "markdown",
   "metadata": {
    "deletable": false,
    "manual_problem_id": "slope_inference_6"
   },
   "source": [
    "I would reject the null hypothesis with a p-value of .05"
   ]
  },
  {
   "cell_type": "markdown",
   "metadata": {},
   "source": [
    "### Finding the Bootstrap Prediction Interval"
   ]
  },
  {
   "cell_type": "markdown",
   "metadata": {},
   "source": [
    "Suppose we're tourists at Yellowstone, and we'd like to know how long we'll have to wait for the next Old Faithful eruption.  We decide to use our regression line to make some predictions for the waiting times.  But just as we're uncertain about the slope of the true regression line, we're also uncertain about the predictions we'd make based on the true regression line."
   ]
  },
  {
   "cell_type": "markdown",
   "metadata": {},
   "source": [
    "<div class=\"hide\">\\pagebreak</div>\n",
    "\n",
    "#### Question 7\n",
    "\n",
    "Define the function `fitted_value`.  It should take 2 arguments:\n",
    "\n",
    "1. A table with 2 columns.  We'll be predicting the values in the second column using the first.\n",
    "2. A number, the value of the predictor variable. We would like to make a prediction for the other variable corresponding to this value of the predictor variable.\n",
    "\n",
    "Make sure to use your `fit_line` function. "
   ]
  },
  {
   "cell_type": "code",
   "execution_count": 50,
   "metadata": {
    "ExecuteTime": {
     "end_time": "2018-04-11T12:05:53.768008Z",
     "start_time": "2018-04-11T12:05:53.763999Z"
    },
    "deletable": false,
    "for_assignment_type": "student"
   },
   "outputs": [
    {
     "data": {
      "text/plain": [
       "-4557.858057377351"
      ]
     },
     "execution_count": 50,
     "metadata": {},
     "output_type": "execute_result"
    }
   ],
   "source": [
    "def fitted_value(table, given_x):\n",
    "    # The staff solution took 4 lines of code.\n",
    "    slope, intercept = fit_line(table)\n",
    "    return given_x * slope + intercept\n",
    "\n",
    "# Here's an example of how fitted_value is used.  This should\n",
    "# compute the prediction for the wait time of an eruption that lasts \n",
    "# two minutes .\n",
    "two_minutes_wait = fitted_value(faithful, 2)\n",
    "two_minutes_wait"
   ]
  },
  {
   "cell_type": "code",
   "execution_count": 51,
   "metadata": {
    "ExecuteTime": {
     "end_time": "2018-04-11T12:05:54.229924Z",
     "start_time": "2018-04-11T12:05:54.093546Z"
    },
    "deletable": false
   },
   "outputs": [
    {
     "name": "stdout",
     "output_type": "stream",
     "text": [
      "~~~~~~~~~~~~~~~~~~~~~~~~~~~~~~~~~~~~~~~~~~~~~~~~~~~~~~~~~~~~~~~~~~~~~\n",
      "Running tests\n",
      "\n",
      "---------------------------------------------------------------------\n",
      "Test summary\n",
      "    Passed: 1\n",
      "    Failed: 0\n",
      "[ooooooooook] 100.0% passed\n",
      "\n"
     ]
    },
    {
     "data": {
      "application/javascript": [
       "IPython.notebook.save_checkpoint();"
      ],
      "text/plain": [
       "<IPython.core.display.Javascript object>"
      ]
     },
     "metadata": {},
     "output_type": "display_data"
    },
    {
     "data": {
      "application/javascript": [
       "IPython.notebook.save_notebook();"
      ],
      "text/plain": [
       "<IPython.core.display.Javascript object>"
      ]
     },
     "metadata": {},
     "output_type": "display_data"
    },
    {
     "name": "stdout",
     "output_type": "stream",
     "text": [
      "Saving notebook... Saved 'hw13.ipynb'.\n",
      "Backup... 100% complete\n",
      "Backup successful for user: togden1@binghamton.edu\n",
      "URL: https://okpy.org/bu/math247-cs207/fa19/hw13/backups/EqpwoW\n",
      "NOTE: this is only a backup. To submit your assignment, use:\n",
      "\tpython3 ok --submit\n",
      "\n"
     ]
    }
   ],
   "source": [
    "_ = ok.grade('q3_7')\n",
    "_ = ok.backup()"
   ]
  },
  {
   "cell_type": "markdown",
   "metadata": {},
   "source": [
    "<div class=\"hide\">\\pagebreak</div>\n",
    "\n",
    "#### Question 8\n",
    "\n",
    "The park ranger tells us that the most recent eruption lasted 6 minutes. Using your function above, assign the variable `next_wait` to the predicted wait time. "
   ]
  },
  {
   "cell_type": "code",
   "execution_count": 52,
   "metadata": {
    "ExecuteTime": {
     "end_time": "2018-04-11T12:05:54.430725Z",
     "start_time": "2018-04-11T12:05:54.424720Z"
    },
    "deletable": false
   },
   "outputs": [
    {
     "data": {
      "text/plain": [
       "7886.84615468946"
      ]
     },
     "execution_count": 52,
     "metadata": {},
     "output_type": "execute_result"
    }
   ],
   "source": [
    "next_wait = fitted_value(faithful, 6)\n",
    "next_wait"
   ]
  },
  {
   "cell_type": "code",
   "execution_count": 53,
   "metadata": {
    "ExecuteTime": {
     "end_time": "2018-04-11T12:05:54.734166Z",
     "start_time": "2018-04-11T12:05:54.591788Z"
    },
    "deletable": false,
    "scrolled": true
   },
   "outputs": [
    {
     "name": "stdout",
     "output_type": "stream",
     "text": [
      "~~~~~~~~~~~~~~~~~~~~~~~~~~~~~~~~~~~~~~~~~~~~~~~~~~~~~~~~~~~~~~~~~~~~~\n",
      "Running tests\n",
      "\n",
      "---------------------------------------------------------------------\n",
      "Test summary\n",
      "    Passed: 1\n",
      "    Failed: 0\n",
      "[ooooooooook] 100.0% passed\n",
      "\n"
     ]
    },
    {
     "data": {
      "application/javascript": [
       "IPython.notebook.save_checkpoint();"
      ],
      "text/plain": [
       "<IPython.core.display.Javascript object>"
      ]
     },
     "metadata": {},
     "output_type": "display_data"
    },
    {
     "data": {
      "application/javascript": [
       "IPython.notebook.save_notebook();"
      ],
      "text/plain": [
       "<IPython.core.display.Javascript object>"
      ]
     },
     "metadata": {},
     "output_type": "display_data"
    },
    {
     "name": "stdout",
     "output_type": "stream",
     "text": [
      "Saving notebook... Saved 'hw13.ipynb'.\n",
      "Backup... 100% complete\n",
      "Backup successful for user: togden1@binghamton.edu\n",
      "URL: https://okpy.org/bu/math247-cs207/fa19/hw13/backups/NOBJA2\n",
      "NOTE: this is only a backup. To submit your assignment, use:\n",
      "\tpython3 ok --submit\n",
      "\n"
     ]
    }
   ],
   "source": [
    "_ = ok.grade('q3_8')\n",
    "_ = ok.backup()"
   ]
  },
  {
   "cell_type": "markdown",
   "metadata": {},
   "source": [
    "Juan, a fellow tourist, raises the following objection to your prediction:\n",
    "\n",
    "> \"Your prediction depends on your sample of 272 eruptions.  Couldn't your prediction have been different if you had happened to have a different sample of eruptions?\"\n",
    "\n",
    "Having read section [16.3](https://www.inferentialthinking.com/chapters/16/3/prediction-intervals.html) of the textbook, you know just the response!"
   ]
  },
  {
   "cell_type": "markdown",
   "metadata": {},
   "source": [
    "<div class=\"hide\">\\pagebreak</div>\n",
    "\n",
    "#### Question 9\n",
    "\n",
    "Define the function `bootstrap_lines`.  It should take two arguments:\n",
    "1. A table with two columns.  As usual, we'll be predicting the second column using the first.\n",
    "2. An integer, the number of bootstraps to run.\n",
    "\n",
    "It should return another *table*. The returned table should have 1 row for each bootstrap replication (the total number of rows is the second argument). Its first column, `\"Slope\"`, contains slopes for each bootstrap resample, and its second column, `\"Intercept\"`, contains the corresponding intercepts from the bootstrap resamples.  Each slope and intercept should come from a regression line that predicts column 2 from column 1 of a **bootstrap resample** of the given table (first argument).  "
   ]
  },
  {
   "cell_type": "code",
   "execution_count": 56,
   "metadata": {
    "ExecuteTime": {
     "end_time": "2018-04-11T12:05:55.090019Z",
     "start_time": "2018-04-11T12:05:55.086009Z"
    },
    "deletable": false,
    "for_assignment_type": "student"
   },
   "outputs": [
    {
     "data": {
      "text/plain": [
       "[array([  3111.17605302, -10780.21016341]),\n",
       " array([  3111.17605302, -10780.21016341]),\n",
       " array([  3111.17605302, -10780.21016341]),\n",
       " array([  3111.17605302, -10780.21016341]),\n",
       " array([  3111.17605302, -10780.21016341]),\n",
       " array([  3111.17605302, -10780.21016341]),\n",
       " array([  3111.17605302, -10780.21016341]),\n",
       " array([  3111.17605302, -10780.21016341]),\n",
       " array([  3111.17605302, -10780.21016341]),\n",
       " array([  3111.17605302, -10780.21016341]),\n",
       " array([  3111.17605302, -10780.21016341]),\n",
       " array([  3111.17605302, -10780.21016341]),\n",
       " array([  3111.17605302, -10780.21016341]),\n",
       " array([  3111.17605302, -10780.21016341]),\n",
       " array([  3111.17605302, -10780.21016341]),\n",
       " array([  3111.17605302, -10780.21016341]),\n",
       " array([  3111.17605302, -10780.21016341]),\n",
       " array([  3111.17605302, -10780.21016341]),\n",
       " array([  3111.17605302, -10780.21016341]),\n",
       " array([  3111.17605302, -10780.21016341]),\n",
       " array([  3111.17605302, -10780.21016341]),\n",
       " array([  3111.17605302, -10780.21016341]),\n",
       " array([  3111.17605302, -10780.21016341]),\n",
       " array([  3111.17605302, -10780.21016341]),\n",
       " array([  3111.17605302, -10780.21016341]),\n",
       " array([  3111.17605302, -10780.21016341]),\n",
       " array([  3111.17605302, -10780.21016341]),\n",
       " array([  3111.17605302, -10780.21016341]),\n",
       " array([  3111.17605302, -10780.21016341]),\n",
       " array([  3111.17605302, -10780.21016341]),\n",
       " array([  3111.17605302, -10780.21016341]),\n",
       " array([  3111.17605302, -10780.21016341]),\n",
       " array([  3111.17605302, -10780.21016341]),\n",
       " array([  3111.17605302, -10780.21016341]),\n",
       " array([  3111.17605302, -10780.21016341]),\n",
       " array([  3111.17605302, -10780.21016341]),\n",
       " array([  3111.17605302, -10780.21016341]),\n",
       " array([  3111.17605302, -10780.21016341]),\n",
       " array([  3111.17605302, -10780.21016341]),\n",
       " array([  3111.17605302, -10780.21016341]),\n",
       " array([  3111.17605302, -10780.21016341]),\n",
       " array([  3111.17605302, -10780.21016341]),\n",
       " array([  3111.17605302, -10780.21016341]),\n",
       " array([  3111.17605302, -10780.21016341]),\n",
       " array([  3111.17605302, -10780.21016341]),\n",
       " array([  3111.17605302, -10780.21016341]),\n",
       " array([  3111.17605302, -10780.21016341]),\n",
       " array([  3111.17605302, -10780.21016341]),\n",
       " array([  3111.17605302, -10780.21016341]),\n",
       " array([  3111.17605302, -10780.21016341]),\n",
       " array([  3111.17605302, -10780.21016341]),\n",
       " array([  3111.17605302, -10780.21016341]),\n",
       " array([  3111.17605302, -10780.21016341]),\n",
       " array([  3111.17605302, -10780.21016341]),\n",
       " array([  3111.17605302, -10780.21016341]),\n",
       " array([  3111.17605302, -10780.21016341]),\n",
       " array([  3111.17605302, -10780.21016341]),\n",
       " array([  3111.17605302, -10780.21016341]),\n",
       " array([  3111.17605302, -10780.21016341]),\n",
       " array([  3111.17605302, -10780.21016341]),\n",
       " array([  3111.17605302, -10780.21016341]),\n",
       " array([  3111.17605302, -10780.21016341]),\n",
       " array([  3111.17605302, -10780.21016341]),\n",
       " array([  3111.17605302, -10780.21016341]),\n",
       " array([  3111.17605302, -10780.21016341]),\n",
       " array([  3111.17605302, -10780.21016341]),\n",
       " array([  3111.17605302, -10780.21016341]),\n",
       " array([  3111.17605302, -10780.21016341]),\n",
       " array([  3111.17605302, -10780.21016341]),\n",
       " array([  3111.17605302, -10780.21016341]),\n",
       " array([  3111.17605302, -10780.21016341]),\n",
       " array([  3111.17605302, -10780.21016341]),\n",
       " array([  3111.17605302, -10780.21016341]),\n",
       " array([  3111.17605302, -10780.21016341]),\n",
       " array([  3111.17605302, -10780.21016341]),\n",
       " array([  3111.17605302, -10780.21016341]),\n",
       " array([  3111.17605302, -10780.21016341]),\n",
       " array([  3111.17605302, -10780.21016341]),\n",
       " array([  3111.17605302, -10780.21016341]),\n",
       " array([  3111.17605302, -10780.21016341]),\n",
       " array([  3111.17605302, -10780.21016341]),\n",
       " array([  3111.17605302, -10780.21016341]),\n",
       " array([  3111.17605302, -10780.21016341]),\n",
       " array([  3111.17605302, -10780.21016341]),\n",
       " array([  3111.17605302, -10780.21016341]),\n",
       " array([  3111.17605302, -10780.21016341]),\n",
       " array([  3111.17605302, -10780.21016341]),\n",
       " array([  3111.17605302, -10780.21016341]),\n",
       " array([  3111.17605302, -10780.21016341]),\n",
       " array([  3111.17605302, -10780.21016341]),\n",
       " array([  3111.17605302, -10780.21016341]),\n",
       " array([  3111.17605302, -10780.21016341]),\n",
       " array([  3111.17605302, -10780.21016341]),\n",
       " array([  3111.17605302, -10780.21016341]),\n",
       " array([  3111.17605302, -10780.21016341]),\n",
       " array([  3111.17605302, -10780.21016341]),\n",
       " array([  3111.17605302, -10780.21016341]),\n",
       " array([  3111.17605302, -10780.21016341]),\n",
       " array([  3111.17605302, -10780.21016341]),\n",
       " array([  3111.17605302, -10780.21016341]),\n",
       " array([  3111.17605302, -10780.21016341]),\n",
       " array([  3111.17605302, -10780.21016341]),\n",
       " array([  3111.17605302, -10780.21016341]),\n",
       " array([  3111.17605302, -10780.21016341]),\n",
       " array([  3111.17605302, -10780.21016341]),\n",
       " array([  3111.17605302, -10780.21016341]),\n",
       " array([  3111.17605302, -10780.21016341]),\n",
       " array([  3111.17605302, -10780.21016341]),\n",
       " array([  3111.17605302, -10780.21016341]),\n",
       " array([  3111.17605302, -10780.21016341]),\n",
       " array([  3111.17605302, -10780.21016341]),\n",
       " array([  3111.17605302, -10780.21016341]),\n",
       " array([  3111.17605302, -10780.21016341]),\n",
       " array([  3111.17605302, -10780.21016341]),\n",
       " array([  3111.17605302, -10780.21016341]),\n",
       " array([  3111.17605302, -10780.21016341]),\n",
       " array([  3111.17605302, -10780.21016341]),\n",
       " array([  3111.17605302, -10780.21016341]),\n",
       " array([  3111.17605302, -10780.21016341]),\n",
       " array([  3111.17605302, -10780.21016341]),\n",
       " array([  3111.17605302, -10780.21016341]),\n",
       " array([  3111.17605302, -10780.21016341]),\n",
       " array([  3111.17605302, -10780.21016341]),\n",
       " array([  3111.17605302, -10780.21016341]),\n",
       " array([  3111.17605302, -10780.21016341]),\n",
       " array([  3111.17605302, -10780.21016341]),\n",
       " array([  3111.17605302, -10780.21016341]),\n",
       " array([  3111.17605302, -10780.21016341]),\n",
       " array([  3111.17605302, -10780.21016341]),\n",
       " array([  3111.17605302, -10780.21016341]),\n",
       " array([  3111.17605302, -10780.21016341]),\n",
       " array([  3111.17605302, -10780.21016341]),\n",
       " array([  3111.17605302, -10780.21016341]),\n",
       " array([  3111.17605302, -10780.21016341]),\n",
       " array([  3111.17605302, -10780.21016341]),\n",
       " array([  3111.17605302, -10780.21016341]),\n",
       " array([  3111.17605302, -10780.21016341]),\n",
       " array([  3111.17605302, -10780.21016341]),\n",
       " array([  3111.17605302, -10780.21016341]),\n",
       " array([  3111.17605302, -10780.21016341]),\n",
       " array([  3111.17605302, -10780.21016341]),\n",
       " array([  3111.17605302, -10780.21016341]),\n",
       " array([  3111.17605302, -10780.21016341]),\n",
       " array([  3111.17605302, -10780.21016341]),\n",
       " array([  3111.17605302, -10780.21016341]),\n",
       " array([  3111.17605302, -10780.21016341]),\n",
       " array([  3111.17605302, -10780.21016341]),\n",
       " array([  3111.17605302, -10780.21016341]),\n",
       " array([  3111.17605302, -10780.21016341]),\n",
       " array([  3111.17605302, -10780.21016341]),\n",
       " array([  3111.17605302, -10780.21016341]),\n",
       " array([  3111.17605302, -10780.21016341]),\n",
       " array([  3111.17605302, -10780.21016341]),\n",
       " array([  3111.17605302, -10780.21016341]),\n",
       " array([  3111.17605302, -10780.21016341]),\n",
       " array([  3111.17605302, -10780.21016341]),\n",
       " array([  3111.17605302, -10780.21016341]),\n",
       " array([  3111.17605302, -10780.21016341]),\n",
       " array([  3111.17605302, -10780.21016341]),\n",
       " array([  3111.17605302, -10780.21016341]),\n",
       " array([  3111.17605302, -10780.21016341]),\n",
       " array([  3111.17605302, -10780.21016341]),\n",
       " array([  3111.17605302, -10780.21016341]),\n",
       " array([  3111.17605302, -10780.21016341]),\n",
       " array([  3111.17605302, -10780.21016341]),\n",
       " array([  3111.17605302, -10780.21016341]),\n",
       " array([  3111.17605302, -10780.21016341]),\n",
       " array([  3111.17605302, -10780.21016341]),\n",
       " array([  3111.17605302, -10780.21016341]),\n",
       " array([  3111.17605302, -10780.21016341]),\n",
       " array([  3111.17605302, -10780.21016341]),\n",
       " array([  3111.17605302, -10780.21016341]),\n",
       " array([  3111.17605302, -10780.21016341]),\n",
       " array([  3111.17605302, -10780.21016341]),\n",
       " array([  3111.17605302, -10780.21016341]),\n",
       " array([  3111.17605302, -10780.21016341]),\n",
       " array([  3111.17605302, -10780.21016341]),\n",
       " array([  3111.17605302, -10780.21016341]),\n",
       " array([  3111.17605302, -10780.21016341]),\n",
       " array([  3111.17605302, -10780.21016341]),\n",
       " array([  3111.17605302, -10780.21016341]),\n",
       " array([  3111.17605302, -10780.21016341]),\n",
       " array([  3111.17605302, -10780.21016341]),\n",
       " array([  3111.17605302, -10780.21016341]),\n",
       " array([  3111.17605302, -10780.21016341]),\n",
       " array([  3111.17605302, -10780.21016341]),\n",
       " array([  3111.17605302, -10780.21016341]),\n",
       " array([  3111.17605302, -10780.21016341]),\n",
       " array([  3111.17605302, -10780.21016341]),\n",
       " array([  3111.17605302, -10780.21016341]),\n",
       " array([  3111.17605302, -10780.21016341]),\n",
       " array([  3111.17605302, -10780.21016341]),\n",
       " array([  3111.17605302, -10780.21016341]),\n",
       " array([  3111.17605302, -10780.21016341]),\n",
       " array([  3111.17605302, -10780.21016341]),\n",
       " array([  3111.17605302, -10780.21016341]),\n",
       " array([  3111.17605302, -10780.21016341]),\n",
       " array([  3111.17605302, -10780.21016341]),\n",
       " array([  3111.17605302, -10780.21016341]),\n",
       " array([  3111.17605302, -10780.21016341]),\n",
       " array([  3111.17605302, -10780.21016341]),\n",
       " array([  3111.17605302, -10780.21016341]),\n",
       " array([  3111.17605302, -10780.21016341]),\n",
       " array([  3111.17605302, -10780.21016341]),\n",
       " array([  3111.17605302, -10780.21016341]),\n",
       " array([  3111.17605302, -10780.21016341]),\n",
       " array([  3111.17605302, -10780.21016341]),\n",
       " array([  3111.17605302, -10780.21016341]),\n",
       " array([  3111.17605302, -10780.21016341]),\n",
       " array([  3111.17605302, -10780.21016341]),\n",
       " array([  3111.17605302, -10780.21016341]),\n",
       " array([  3111.17605302, -10780.21016341]),\n",
       " array([  3111.17605302, -10780.21016341]),\n",
       " array([  3111.17605302, -10780.21016341]),\n",
       " array([  3111.17605302, -10780.21016341]),\n",
       " array([  3111.17605302, -10780.21016341]),\n",
       " array([  3111.17605302, -10780.21016341]),\n",
       " array([  3111.17605302, -10780.21016341]),\n",
       " array([  3111.17605302, -10780.21016341]),\n",
       " array([  3111.17605302, -10780.21016341]),\n",
       " array([  3111.17605302, -10780.21016341]),\n",
       " array([  3111.17605302, -10780.21016341]),\n",
       " array([  3111.17605302, -10780.21016341]),\n",
       " array([  3111.17605302, -10780.21016341]),\n",
       " array([  3111.17605302, -10780.21016341]),\n",
       " array([  3111.17605302, -10780.21016341]),\n",
       " array([  3111.17605302, -10780.21016341]),\n",
       " array([  3111.17605302, -10780.21016341]),\n",
       " array([  3111.17605302, -10780.21016341]),\n",
       " array([  3111.17605302, -10780.21016341]),\n",
       " array([  3111.17605302, -10780.21016341]),\n",
       " array([  3111.17605302, -10780.21016341]),\n",
       " array([  3111.17605302, -10780.21016341]),\n",
       " array([  3111.17605302, -10780.21016341]),\n",
       " array([  3111.17605302, -10780.21016341]),\n",
       " array([  3111.17605302, -10780.21016341]),\n",
       " array([  3111.17605302, -10780.21016341]),\n",
       " array([  3111.17605302, -10780.21016341]),\n",
       " array([  3111.17605302, -10780.21016341]),\n",
       " array([  3111.17605302, -10780.21016341]),\n",
       " array([  3111.17605302, -10780.21016341]),\n",
       " array([  3111.17605302, -10780.21016341]),\n",
       " array([  3111.17605302, -10780.21016341]),\n",
       " array([  3111.17605302, -10780.21016341]),\n",
       " array([  3111.17605302, -10780.21016341]),\n",
       " array([  3111.17605302, -10780.21016341]),\n",
       " array([  3111.17605302, -10780.21016341]),\n",
       " array([  3111.17605302, -10780.21016341]),\n",
       " array([  3111.17605302, -10780.21016341]),\n",
       " array([  3111.17605302, -10780.21016341]),\n",
       " array([  3111.17605302, -10780.21016341]),\n",
       " array([  3111.17605302, -10780.21016341]),\n",
       " array([  3111.17605302, -10780.21016341]),\n",
       " array([  3111.17605302, -10780.21016341]),\n",
       " array([  3111.17605302, -10780.21016341]),\n",
       " array([  3111.17605302, -10780.21016341]),\n",
       " array([  3111.17605302, -10780.21016341]),\n",
       " array([  3111.17605302, -10780.21016341]),\n",
       " array([  3111.17605302, -10780.21016341]),\n",
       " array([  3111.17605302, -10780.21016341]),\n",
       " array([  3111.17605302, -10780.21016341]),\n",
       " array([  3111.17605302, -10780.21016341]),\n",
       " array([  3111.17605302, -10780.21016341]),\n",
       " array([  3111.17605302, -10780.21016341]),\n",
       " array([  3111.17605302, -10780.21016341]),\n",
       " array([  3111.17605302, -10780.21016341]),\n",
       " array([  3111.17605302, -10780.21016341]),\n",
       " array([  3111.17605302, -10780.21016341]),\n",
       " array([  3111.17605302, -10780.21016341]),\n",
       " array([  3111.17605302, -10780.21016341]),\n",
       " array([  3111.17605302, -10780.21016341]),\n",
       " array([  3111.17605302, -10780.21016341]),\n",
       " array([  3111.17605302, -10780.21016341]),\n",
       " array([  3111.17605302, -10780.21016341]),\n",
       " array([  3111.17605302, -10780.21016341]),\n",
       " array([  3111.17605302, -10780.21016341]),\n",
       " array([  3111.17605302, -10780.21016341]),\n",
       " array([  3111.17605302, -10780.21016341]),\n",
       " array([  3111.17605302, -10780.21016341]),\n",
       " array([  3111.17605302, -10780.21016341]),\n",
       " array([  3111.17605302, -10780.21016341]),\n",
       " array([  3111.17605302, -10780.21016341]),\n",
       " array([  3111.17605302, -10780.21016341]),\n",
       " array([  3111.17605302, -10780.21016341]),\n",
       " array([  3111.17605302, -10780.21016341]),\n",
       " array([  3111.17605302, -10780.21016341]),\n",
       " array([  3111.17605302, -10780.21016341]),\n",
       " array([  3111.17605302, -10780.21016341]),\n",
       " array([  3111.17605302, -10780.21016341]),\n",
       " array([  3111.17605302, -10780.21016341]),\n",
       " array([  3111.17605302, -10780.21016341]),\n",
       " array([  3111.17605302, -10780.21016341]),\n",
       " array([  3111.17605302, -10780.21016341]),\n",
       " array([  3111.17605302, -10780.21016341]),\n",
       " array([  3111.17605302, -10780.21016341]),\n",
       " array([  3111.17605302, -10780.21016341]),\n",
       " array([  3111.17605302, -10780.21016341]),\n",
       " array([  3111.17605302, -10780.21016341]),\n",
       " array([  3111.17605302, -10780.21016341]),\n",
       " array([  3111.17605302, -10780.21016341]),\n",
       " array([  3111.17605302, -10780.21016341]),\n",
       " array([  3111.17605302, -10780.21016341]),\n",
       " array([  3111.17605302, -10780.21016341]),\n",
       " array([  3111.17605302, -10780.21016341]),\n",
       " array([  3111.17605302, -10780.21016341]),\n",
       " array([  3111.17605302, -10780.21016341]),\n",
       " array([  3111.17605302, -10780.21016341]),\n",
       " array([  3111.17605302, -10780.21016341]),\n",
       " array([  3111.17605302, -10780.21016341]),\n",
       " array([  3111.17605302, -10780.21016341]),\n",
       " array([  3111.17605302, -10780.21016341]),\n",
       " array([  3111.17605302, -10780.21016341]),\n",
       " array([  3111.17605302, -10780.21016341]),\n",
       " array([  3111.17605302, -10780.21016341]),\n",
       " array([  3111.17605302, -10780.21016341]),\n",
       " array([  3111.17605302, -10780.21016341]),\n",
       " array([  3111.17605302, -10780.21016341]),\n",
       " array([  3111.17605302, -10780.21016341]),\n",
       " array([  3111.17605302, -10780.21016341]),\n",
       " array([  3111.17605302, -10780.21016341]),\n",
       " array([  3111.17605302, -10780.21016341]),\n",
       " array([  3111.17605302, -10780.21016341]),\n",
       " array([  3111.17605302, -10780.21016341]),\n",
       " array([  3111.17605302, -10780.21016341]),\n",
       " array([  3111.17605302, -10780.21016341]),\n",
       " array([  3111.17605302, -10780.21016341]),\n",
       " array([  3111.17605302, -10780.21016341]),\n",
       " array([  3111.17605302, -10780.21016341]),\n",
       " array([  3111.17605302, -10780.21016341]),\n",
       " array([  3111.17605302, -10780.21016341]),\n",
       " array([  3111.17605302, -10780.21016341]),\n",
       " array([  3111.17605302, -10780.21016341]),\n",
       " array([  3111.17605302, -10780.21016341]),\n",
       " array([  3111.17605302, -10780.21016341]),\n",
       " array([  3111.17605302, -10780.21016341]),\n",
       " array([  3111.17605302, -10780.21016341]),\n",
       " array([  3111.17605302, -10780.21016341]),\n",
       " array([  3111.17605302, -10780.21016341]),\n",
       " array([  3111.17605302, -10780.21016341]),\n",
       " array([  3111.17605302, -10780.21016341]),\n",
       " array([  3111.17605302, -10780.21016341]),\n",
       " array([  3111.17605302, -10780.21016341]),\n",
       " array([  3111.17605302, -10780.21016341]),\n",
       " array([  3111.17605302, -10780.21016341]),\n",
       " array([  3111.17605302, -10780.21016341]),\n",
       " array([  3111.17605302, -10780.21016341]),\n",
       " array([  3111.17605302, -10780.21016341]),\n",
       " array([  3111.17605302, -10780.21016341]),\n",
       " array([  3111.17605302, -10780.21016341]),\n",
       " array([  3111.17605302, -10780.21016341]),\n",
       " array([  3111.17605302, -10780.21016341]),\n",
       " array([  3111.17605302, -10780.21016341]),\n",
       " array([  3111.17605302, -10780.21016341]),\n",
       " array([  3111.17605302, -10780.21016341]),\n",
       " array([  3111.17605302, -10780.21016341]),\n",
       " array([  3111.17605302, -10780.21016341]),\n",
       " array([  3111.17605302, -10780.21016341]),\n",
       " array([  3111.17605302, -10780.21016341]),\n",
       " array([  3111.17605302, -10780.21016341]),\n",
       " array([  3111.17605302, -10780.21016341]),\n",
       " array([  3111.17605302, -10780.21016341]),\n",
       " array([  3111.17605302, -10780.21016341]),\n",
       " array([  3111.17605302, -10780.21016341]),\n",
       " array([  3111.17605302, -10780.21016341]),\n",
       " array([  3111.17605302, -10780.21016341]),\n",
       " array([  3111.17605302, -10780.21016341]),\n",
       " array([  3111.17605302, -10780.21016341]),\n",
       " array([  3111.17605302, -10780.21016341]),\n",
       " array([  3111.17605302, -10780.21016341]),\n",
       " array([  3111.17605302, -10780.21016341]),\n",
       " array([  3111.17605302, -10780.21016341]),\n",
       " array([  3111.17605302, -10780.21016341]),\n",
       " array([  3111.17605302, -10780.21016341]),\n",
       " array([  3111.17605302, -10780.21016341]),\n",
       " array([  3111.17605302, -10780.21016341]),\n",
       " array([  3111.17605302, -10780.21016341]),\n",
       " array([  3111.17605302, -10780.21016341]),\n",
       " array([  3111.17605302, -10780.21016341]),\n",
       " array([  3111.17605302, -10780.21016341]),\n",
       " array([  3111.17605302, -10780.21016341]),\n",
       " array([  3111.17605302, -10780.21016341]),\n",
       " array([  3111.17605302, -10780.21016341]),\n",
       " array([  3111.17605302, -10780.21016341]),\n",
       " array([  3111.17605302, -10780.21016341]),\n",
       " array([  3111.17605302, -10780.21016341]),\n",
       " array([  3111.17605302, -10780.21016341]),\n",
       " array([  3111.17605302, -10780.21016341]),\n",
       " array([  3111.17605302, -10780.21016341]),\n",
       " array([  3111.17605302, -10780.21016341]),\n",
       " array([  3111.17605302, -10780.21016341]),\n",
       " array([  3111.17605302, -10780.21016341]),\n",
       " array([  3111.17605302, -10780.21016341]),\n",
       " array([  3111.17605302, -10780.21016341]),\n",
       " array([  3111.17605302, -10780.21016341]),\n",
       " array([  3111.17605302, -10780.21016341]),\n",
       " array([  3111.17605302, -10780.21016341]),\n",
       " array([  3111.17605302, -10780.21016341]),\n",
       " array([  3111.17605302, -10780.21016341]),\n",
       " array([  3111.17605302, -10780.21016341]),\n",
       " array([  3111.17605302, -10780.21016341]),\n",
       " array([  3111.17605302, -10780.21016341]),\n",
       " array([  3111.17605302, -10780.21016341]),\n",
       " array([  3111.17605302, -10780.21016341]),\n",
       " array([  3111.17605302, -10780.21016341]),\n",
       " array([  3111.17605302, -10780.21016341]),\n",
       " array([  3111.17605302, -10780.21016341]),\n",
       " array([  3111.17605302, -10780.21016341]),\n",
       " array([  3111.17605302, -10780.21016341]),\n",
       " array([  3111.17605302, -10780.21016341]),\n",
       " array([  3111.17605302, -10780.21016341]),\n",
       " array([  3111.17605302, -10780.21016341]),\n",
       " array([  3111.17605302, -10780.21016341]),\n",
       " array([  3111.17605302, -10780.21016341]),\n",
       " array([  3111.17605302, -10780.21016341]),\n",
       " array([  3111.17605302, -10780.21016341]),\n",
       " array([  3111.17605302, -10780.21016341]),\n",
       " array([  3111.17605302, -10780.21016341]),\n",
       " array([  3111.17605302, -10780.21016341]),\n",
       " array([  3111.17605302, -10780.21016341]),\n",
       " array([  3111.17605302, -10780.21016341]),\n",
       " array([  3111.17605302, -10780.21016341]),\n",
       " array([  3111.17605302, -10780.21016341]),\n",
       " array([  3111.17605302, -10780.21016341]),\n",
       " array([  3111.17605302, -10780.21016341]),\n",
       " array([  3111.17605302, -10780.21016341]),\n",
       " array([  3111.17605302, -10780.21016341]),\n",
       " array([  3111.17605302, -10780.21016341]),\n",
       " array([  3111.17605302, -10780.21016341]),\n",
       " array([  3111.17605302, -10780.21016341]),\n",
       " array([  3111.17605302, -10780.21016341]),\n",
       " array([  3111.17605302, -10780.21016341]),\n",
       " array([  3111.17605302, -10780.21016341]),\n",
       " array([  3111.17605302, -10780.21016341]),\n",
       " array([  3111.17605302, -10780.21016341]),\n",
       " array([  3111.17605302, -10780.21016341]),\n",
       " array([  3111.17605302, -10780.21016341]),\n",
       " array([  3111.17605302, -10780.21016341]),\n",
       " array([  3111.17605302, -10780.21016341]),\n",
       " array([  3111.17605302, -10780.21016341]),\n",
       " array([  3111.17605302, -10780.21016341]),\n",
       " array([  3111.17605302, -10780.21016341]),\n",
       " array([  3111.17605302, -10780.21016341]),\n",
       " array([  3111.17605302, -10780.21016341]),\n",
       " array([  3111.17605302, -10780.21016341]),\n",
       " array([  3111.17605302, -10780.21016341]),\n",
       " array([  3111.17605302, -10780.21016341]),\n",
       " array([  3111.17605302, -10780.21016341]),\n",
       " array([  3111.17605302, -10780.21016341]),\n",
       " array([  3111.17605302, -10780.21016341]),\n",
       " array([  3111.17605302, -10780.21016341]),\n",
       " array([  3111.17605302, -10780.21016341]),\n",
       " array([  3111.17605302, -10780.21016341]),\n",
       " array([  3111.17605302, -10780.21016341]),\n",
       " array([  3111.17605302, -10780.21016341]),\n",
       " array([  3111.17605302, -10780.21016341]),\n",
       " array([  3111.17605302, -10780.21016341]),\n",
       " array([  3111.17605302, -10780.21016341]),\n",
       " array([  3111.17605302, -10780.21016341]),\n",
       " array([  3111.17605302, -10780.21016341]),\n",
       " array([  3111.17605302, -10780.21016341]),\n",
       " array([  3111.17605302, -10780.21016341]),\n",
       " array([  3111.17605302, -10780.21016341]),\n",
       " array([  3111.17605302, -10780.21016341]),\n",
       " array([  3111.17605302, -10780.21016341]),\n",
       " array([  3111.17605302, -10780.21016341]),\n",
       " array([  3111.17605302, -10780.21016341]),\n",
       " array([  3111.17605302, -10780.21016341]),\n",
       " array([  3111.17605302, -10780.21016341]),\n",
       " array([  3111.17605302, -10780.21016341]),\n",
       " array([  3111.17605302, -10780.21016341]),\n",
       " array([  3111.17605302, -10780.21016341]),\n",
       " array([  3111.17605302, -10780.21016341]),\n",
       " array([  3111.17605302, -10780.21016341]),\n",
       " array([  3111.17605302, -10780.21016341]),\n",
       " array([  3111.17605302, -10780.21016341]),\n",
       " array([  3111.17605302, -10780.21016341]),\n",
       " array([  3111.17605302, -10780.21016341]),\n",
       " array([  3111.17605302, -10780.21016341]),\n",
       " array([  3111.17605302, -10780.21016341]),\n",
       " array([  3111.17605302, -10780.21016341]),\n",
       " array([  3111.17605302, -10780.21016341]),\n",
       " array([  3111.17605302, -10780.21016341]),\n",
       " array([  3111.17605302, -10780.21016341]),\n",
       " array([  3111.17605302, -10780.21016341]),\n",
       " array([  3111.17605302, -10780.21016341]),\n",
       " array([  3111.17605302, -10780.21016341]),\n",
       " array([  3111.17605302, -10780.21016341]),\n",
       " array([  3111.17605302, -10780.21016341]),\n",
       " array([  3111.17605302, -10780.21016341]),\n",
       " array([  3111.17605302, -10780.21016341]),\n",
       " array([  3111.17605302, -10780.21016341]),\n",
       " array([  3111.17605302, -10780.21016341]),\n",
       " array([  3111.17605302, -10780.21016341]),\n",
       " array([  3111.17605302, -10780.21016341]),\n",
       " array([  3111.17605302, -10780.21016341]),\n",
       " array([  3111.17605302, -10780.21016341]),\n",
       " array([  3111.17605302, -10780.21016341]),\n",
       " array([  3111.17605302, -10780.21016341]),\n",
       " array([  3111.17605302, -10780.21016341]),\n",
       " array([  3111.17605302, -10780.21016341]),\n",
       " array([  3111.17605302, -10780.21016341]),\n",
       " array([  3111.17605302, -10780.21016341]),\n",
       " array([  3111.17605302, -10780.21016341]),\n",
       " array([  3111.17605302, -10780.21016341]),\n",
       " array([  3111.17605302, -10780.21016341]),\n",
       " array([  3111.17605302, -10780.21016341]),\n",
       " array([  3111.17605302, -10780.21016341]),\n",
       " array([  3111.17605302, -10780.21016341]),\n",
       " array([  3111.17605302, -10780.21016341]),\n",
       " array([  3111.17605302, -10780.21016341]),\n",
       " array([  3111.17605302, -10780.21016341]),\n",
       " array([  3111.17605302, -10780.21016341]),\n",
       " array([  3111.17605302, -10780.21016341]),\n",
       " array([  3111.17605302, -10780.21016341]),\n",
       " array([  3111.17605302, -10780.21016341]),\n",
       " array([  3111.17605302, -10780.21016341]),\n",
       " array([  3111.17605302, -10780.21016341]),\n",
       " array([  3111.17605302, -10780.21016341]),\n",
       " array([  3111.17605302, -10780.21016341]),\n",
       " array([  3111.17605302, -10780.21016341]),\n",
       " array([  3111.17605302, -10780.21016341]),\n",
       " array([  3111.17605302, -10780.21016341]),\n",
       " array([  3111.17605302, -10780.21016341]),\n",
       " array([  3111.17605302, -10780.21016341]),\n",
       " array([  3111.17605302, -10780.21016341]),\n",
       " array([  3111.17605302, -10780.21016341]),\n",
       " array([  3111.17605302, -10780.21016341]),\n",
       " array([  3111.17605302, -10780.21016341]),\n",
       " array([  3111.17605302, -10780.21016341]),\n",
       " array([  3111.17605302, -10780.21016341]),\n",
       " array([  3111.17605302, -10780.21016341]),\n",
       " array([  3111.17605302, -10780.21016341]),\n",
       " array([  3111.17605302, -10780.21016341]),\n",
       " array([  3111.17605302, -10780.21016341]),\n",
       " array([  3111.17605302, -10780.21016341]),\n",
       " array([  3111.17605302, -10780.21016341]),\n",
       " array([  3111.17605302, -10780.21016341]),\n",
       " array([  3111.17605302, -10780.21016341]),\n",
       " array([  3111.17605302, -10780.21016341]),\n",
       " array([  3111.17605302, -10780.21016341]),\n",
       " array([  3111.17605302, -10780.21016341]),\n",
       " array([  3111.17605302, -10780.21016341]),\n",
       " array([  3111.17605302, -10780.21016341]),\n",
       " array([  3111.17605302, -10780.21016341]),\n",
       " array([  3111.17605302, -10780.21016341]),\n",
       " array([  3111.17605302, -10780.21016341]),\n",
       " array([  3111.17605302, -10780.21016341]),\n",
       " array([  3111.17605302, -10780.21016341]),\n",
       " array([  3111.17605302, -10780.21016341]),\n",
       " array([  3111.17605302, -10780.21016341]),\n",
       " array([  3111.17605302, -10780.21016341]),\n",
       " array([  3111.17605302, -10780.21016341]),\n",
       " array([  3111.17605302, -10780.21016341]),\n",
       " array([  3111.17605302, -10780.21016341]),\n",
       " array([  3111.17605302, -10780.21016341]),\n",
       " array([  3111.17605302, -10780.21016341]),\n",
       " array([  3111.17605302, -10780.21016341]),\n",
       " array([  3111.17605302, -10780.21016341]),\n",
       " array([  3111.17605302, -10780.21016341]),\n",
       " array([  3111.17605302, -10780.21016341]),\n",
       " array([  3111.17605302, -10780.21016341]),\n",
       " array([  3111.17605302, -10780.21016341]),\n",
       " array([  3111.17605302, -10780.21016341]),\n",
       " array([  3111.17605302, -10780.21016341]),\n",
       " array([  3111.17605302, -10780.21016341]),\n",
       " array([  3111.17605302, -10780.21016341]),\n",
       " array([  3111.17605302, -10780.21016341]),\n",
       " array([  3111.17605302, -10780.21016341]),\n",
       " array([  3111.17605302, -10780.21016341]),\n",
       " array([  3111.17605302, -10780.21016341]),\n",
       " array([  3111.17605302, -10780.21016341]),\n",
       " array([  3111.17605302, -10780.21016341]),\n",
       " array([  3111.17605302, -10780.21016341]),\n",
       " array([  3111.17605302, -10780.21016341]),\n",
       " array([  3111.17605302, -10780.21016341]),\n",
       " array([  3111.17605302, -10780.21016341]),\n",
       " array([  3111.17605302, -10780.21016341]),\n",
       " array([  3111.17605302, -10780.21016341]),\n",
       " array([  3111.17605302, -10780.21016341]),\n",
       " array([  3111.17605302, -10780.21016341]),\n",
       " array([  3111.17605302, -10780.21016341]),\n",
       " array([  3111.17605302, -10780.21016341]),\n",
       " array([  3111.17605302, -10780.21016341]),\n",
       " array([  3111.17605302, -10780.21016341]),\n",
       " array([  3111.17605302, -10780.21016341]),\n",
       " array([  3111.17605302, -10780.21016341]),\n",
       " array([  3111.17605302, -10780.21016341]),\n",
       " array([  3111.17605302, -10780.21016341]),\n",
       " array([  3111.17605302, -10780.21016341]),\n",
       " array([  3111.17605302, -10780.21016341]),\n",
       " array([  3111.17605302, -10780.21016341]),\n",
       " array([  3111.17605302, -10780.21016341]),\n",
       " array([  3111.17605302, -10780.21016341]),\n",
       " array([  3111.17605302, -10780.21016341]),\n",
       " array([  3111.17605302, -10780.21016341]),\n",
       " array([  3111.17605302, -10780.21016341]),\n",
       " array([  3111.17605302, -10780.21016341]),\n",
       " array([  3111.17605302, -10780.21016341]),\n",
       " array([  3111.17605302, -10780.21016341]),\n",
       " array([  3111.17605302, -10780.21016341]),\n",
       " array([  3111.17605302, -10780.21016341]),\n",
       " array([  3111.17605302, -10780.21016341]),\n",
       " array([  3111.17605302, -10780.21016341]),\n",
       " array([  3111.17605302, -10780.21016341]),\n",
       " array([  3111.17605302, -10780.21016341]),\n",
       " array([  3111.17605302, -10780.21016341]),\n",
       " array([  3111.17605302, -10780.21016341]),\n",
       " array([  3111.17605302, -10780.21016341]),\n",
       " array([  3111.17605302, -10780.21016341]),\n",
       " array([  3111.17605302, -10780.21016341]),\n",
       " array([  3111.17605302, -10780.21016341]),\n",
       " array([  3111.17605302, -10780.21016341]),\n",
       " array([  3111.17605302, -10780.21016341]),\n",
       " array([  3111.17605302, -10780.21016341]),\n",
       " array([  3111.17605302, -10780.21016341]),\n",
       " array([  3111.17605302, -10780.21016341]),\n",
       " array([  3111.17605302, -10780.21016341]),\n",
       " array([  3111.17605302, -10780.21016341]),\n",
       " array([  3111.17605302, -10780.21016341]),\n",
       " array([  3111.17605302, -10780.21016341]),\n",
       " array([  3111.17605302, -10780.21016341]),\n",
       " array([  3111.17605302, -10780.21016341]),\n",
       " array([  3111.17605302, -10780.21016341]),\n",
       " array([  3111.17605302, -10780.21016341]),\n",
       " array([  3111.17605302, -10780.21016341]),\n",
       " array([  3111.17605302, -10780.21016341]),\n",
       " array([  3111.17605302, -10780.21016341]),\n",
       " array([  3111.17605302, -10780.21016341]),\n",
       " array([  3111.17605302, -10780.21016341]),\n",
       " array([  3111.17605302, -10780.21016341]),\n",
       " array([  3111.17605302, -10780.21016341]),\n",
       " array([  3111.17605302, -10780.21016341]),\n",
       " array([  3111.17605302, -10780.21016341]),\n",
       " array([  3111.17605302, -10780.21016341]),\n",
       " array([  3111.17605302, -10780.21016341]),\n",
       " array([  3111.17605302, -10780.21016341]),\n",
       " array([  3111.17605302, -10780.21016341]),\n",
       " array([  3111.17605302, -10780.21016341]),\n",
       " array([  3111.17605302, -10780.21016341]),\n",
       " array([  3111.17605302, -10780.21016341]),\n",
       " array([  3111.17605302, -10780.21016341]),\n",
       " array([  3111.17605302, -10780.21016341]),\n",
       " array([  3111.17605302, -10780.21016341]),\n",
       " array([  3111.17605302, -10780.21016341]),\n",
       " array([  3111.17605302, -10780.21016341]),\n",
       " array([  3111.17605302, -10780.21016341]),\n",
       " array([  3111.17605302, -10780.21016341]),\n",
       " array([  3111.17605302, -10780.21016341]),\n",
       " array([  3111.17605302, -10780.21016341]),\n",
       " array([  3111.17605302, -10780.21016341]),\n",
       " array([  3111.17605302, -10780.21016341]),\n",
       " array([  3111.17605302, -10780.21016341]),\n",
       " array([  3111.17605302, -10780.21016341]),\n",
       " array([  3111.17605302, -10780.21016341]),\n",
       " array([  3111.17605302, -10780.21016341]),\n",
       " array([  3111.17605302, -10780.21016341]),\n",
       " array([  3111.17605302, -10780.21016341]),\n",
       " array([  3111.17605302, -10780.21016341]),\n",
       " array([  3111.17605302, -10780.21016341]),\n",
       " array([  3111.17605302, -10780.21016341]),\n",
       " array([  3111.17605302, -10780.21016341]),\n",
       " array([  3111.17605302, -10780.21016341]),\n",
       " array([  3111.17605302, -10780.21016341]),\n",
       " array([  3111.17605302, -10780.21016341]),\n",
       " array([  3111.17605302, -10780.21016341]),\n",
       " array([  3111.17605302, -10780.21016341]),\n",
       " array([  3111.17605302, -10780.21016341]),\n",
       " array([  3111.17605302, -10780.21016341]),\n",
       " array([  3111.17605302, -10780.21016341]),\n",
       " array([  3111.17605302, -10780.21016341]),\n",
       " array([  3111.17605302, -10780.21016341]),\n",
       " array([  3111.17605302, -10780.21016341]),\n",
       " array([  3111.17605302, -10780.21016341]),\n",
       " array([  3111.17605302, -10780.21016341]),\n",
       " array([  3111.17605302, -10780.21016341]),\n",
       " array([  3111.17605302, -10780.21016341]),\n",
       " array([  3111.17605302, -10780.21016341]),\n",
       " array([  3111.17605302, -10780.21016341]),\n",
       " array([  3111.17605302, -10780.21016341]),\n",
       " array([  3111.17605302, -10780.21016341]),\n",
       " array([  3111.17605302, -10780.21016341]),\n",
       " array([  3111.17605302, -10780.21016341]),\n",
       " array([  3111.17605302, -10780.21016341]),\n",
       " array([  3111.17605302, -10780.21016341]),\n",
       " array([  3111.17605302, -10780.21016341]),\n",
       " array([  3111.17605302, -10780.21016341]),\n",
       " array([  3111.17605302, -10780.21016341]),\n",
       " array([  3111.17605302, -10780.21016341]),\n",
       " array([  3111.17605302, -10780.21016341]),\n",
       " array([  3111.17605302, -10780.21016341]),\n",
       " array([  3111.17605302, -10780.21016341]),\n",
       " array([  3111.17605302, -10780.21016341]),\n",
       " array([  3111.17605302, -10780.21016341]),\n",
       " array([  3111.17605302, -10780.21016341]),\n",
       " array([  3111.17605302, -10780.21016341]),\n",
       " array([  3111.17605302, -10780.21016341]),\n",
       " array([  3111.17605302, -10780.21016341]),\n",
       " array([  3111.17605302, -10780.21016341]),\n",
       " array([  3111.17605302, -10780.21016341]),\n",
       " array([  3111.17605302, -10780.21016341]),\n",
       " array([  3111.17605302, -10780.21016341]),\n",
       " array([  3111.17605302, -10780.21016341]),\n",
       " array([  3111.17605302, -10780.21016341]),\n",
       " array([  3111.17605302, -10780.21016341]),\n",
       " array([  3111.17605302, -10780.21016341]),\n",
       " array([  3111.17605302, -10780.21016341]),\n",
       " array([  3111.17605302, -10780.21016341]),\n",
       " array([  3111.17605302, -10780.21016341]),\n",
       " array([  3111.17605302, -10780.21016341]),\n",
       " array([  3111.17605302, -10780.21016341]),\n",
       " array([  3111.17605302, -10780.21016341]),\n",
       " array([  3111.17605302, -10780.21016341]),\n",
       " array([  3111.17605302, -10780.21016341]),\n",
       " array([  3111.17605302, -10780.21016341]),\n",
       " array([  3111.17605302, -10780.21016341]),\n",
       " array([  3111.17605302, -10780.21016341]),\n",
       " array([  3111.17605302, -10780.21016341]),\n",
       " array([  3111.17605302, -10780.21016341]),\n",
       " array([  3111.17605302, -10780.21016341]),\n",
       " array([  3111.17605302, -10780.21016341]),\n",
       " array([  3111.17605302, -10780.21016341]),\n",
       " array([  3111.17605302, -10780.21016341]),\n",
       " array([  3111.17605302, -10780.21016341]),\n",
       " array([  3111.17605302, -10780.21016341]),\n",
       " array([  3111.17605302, -10780.21016341]),\n",
       " array([  3111.17605302, -10780.21016341]),\n",
       " array([  3111.17605302, -10780.21016341]),\n",
       " array([  3111.17605302, -10780.21016341]),\n",
       " array([  3111.17605302, -10780.21016341]),\n",
       " array([  3111.17605302, -10780.21016341]),\n",
       " array([  3111.17605302, -10780.21016341]),\n",
       " array([  3111.17605302, -10780.21016341]),\n",
       " array([  3111.17605302, -10780.21016341]),\n",
       " array([  3111.17605302, -10780.21016341]),\n",
       " array([  3111.17605302, -10780.21016341]),\n",
       " array([  3111.17605302, -10780.21016341]),\n",
       " array([  3111.17605302, -10780.21016341]),\n",
       " array([  3111.17605302, -10780.21016341]),\n",
       " array([  3111.17605302, -10780.21016341]),\n",
       " array([  3111.17605302, -10780.21016341]),\n",
       " array([  3111.17605302, -10780.21016341]),\n",
       " array([  3111.17605302, -10780.21016341]),\n",
       " array([  3111.17605302, -10780.21016341]),\n",
       " array([  3111.17605302, -10780.21016341]),\n",
       " array([  3111.17605302, -10780.21016341]),\n",
       " array([  3111.17605302, -10780.21016341]),\n",
       " array([  3111.17605302, -10780.21016341]),\n",
       " array([  3111.17605302, -10780.21016341]),\n",
       " array([  3111.17605302, -10780.21016341]),\n",
       " array([  3111.17605302, -10780.21016341]),\n",
       " array([  3111.17605302, -10780.21016341]),\n",
       " array([  3111.17605302, -10780.21016341]),\n",
       " array([  3111.17605302, -10780.21016341]),\n",
       " array([  3111.17605302, -10780.21016341]),\n",
       " array([  3111.17605302, -10780.21016341]),\n",
       " array([  3111.17605302, -10780.21016341]),\n",
       " array([  3111.17605302, -10780.21016341]),\n",
       " array([  3111.17605302, -10780.21016341]),\n",
       " array([  3111.17605302, -10780.21016341]),\n",
       " array([  3111.17605302, -10780.21016341]),\n",
       " array([  3111.17605302, -10780.21016341]),\n",
       " array([  3111.17605302, -10780.21016341]),\n",
       " array([  3111.17605302, -10780.21016341]),\n",
       " array([  3111.17605302, -10780.21016341]),\n",
       " array([  3111.17605302, -10780.21016341]),\n",
       " array([  3111.17605302, -10780.21016341]),\n",
       " array([  3111.17605302, -10780.21016341]),\n",
       " array([  3111.17605302, -10780.21016341]),\n",
       " array([  3111.17605302, -10780.21016341]),\n",
       " array([  3111.17605302, -10780.21016341]),\n",
       " array([  3111.17605302, -10780.21016341]),\n",
       " array([  3111.17605302, -10780.21016341]),\n",
       " array([  3111.17605302, -10780.21016341]),\n",
       " array([  3111.17605302, -10780.21016341]),\n",
       " array([  3111.17605302, -10780.21016341]),\n",
       " array([  3111.17605302, -10780.21016341]),\n",
       " array([  3111.17605302, -10780.21016341]),\n",
       " array([  3111.17605302, -10780.21016341]),\n",
       " array([  3111.17605302, -10780.21016341]),\n",
       " array([  3111.17605302, -10780.21016341]),\n",
       " array([  3111.17605302, -10780.21016341]),\n",
       " array([  3111.17605302, -10780.21016341]),\n",
       " array([  3111.17605302, -10780.21016341]),\n",
       " array([  3111.17605302, -10780.21016341]),\n",
       " array([  3111.17605302, -10780.21016341]),\n",
       " array([  3111.17605302, -10780.21016341]),\n",
       " array([  3111.17605302, -10780.21016341]),\n",
       " array([  3111.17605302, -10780.21016341]),\n",
       " array([  3111.17605302, -10780.21016341]),\n",
       " array([  3111.17605302, -10780.21016341]),\n",
       " array([  3111.17605302, -10780.21016341]),\n",
       " array([  3111.17605302, -10780.21016341]),\n",
       " array([  3111.17605302, -10780.21016341]),\n",
       " array([  3111.17605302, -10780.21016341]),\n",
       " array([  3111.17605302, -10780.21016341]),\n",
       " array([  3111.17605302, -10780.21016341]),\n",
       " array([  3111.17605302, -10780.21016341]),\n",
       " array([  3111.17605302, -10780.21016341]),\n",
       " array([  3111.17605302, -10780.21016341]),\n",
       " array([  3111.17605302, -10780.21016341]),\n",
       " array([  3111.17605302, -10780.21016341]),\n",
       " array([  3111.17605302, -10780.21016341]),\n",
       " array([  3111.17605302, -10780.21016341]),\n",
       " array([  3111.17605302, -10780.21016341]),\n",
       " array([  3111.17605302, -10780.21016341]),\n",
       " array([  3111.17605302, -10780.21016341]),\n",
       " array([  3111.17605302, -10780.21016341]),\n",
       " array([  3111.17605302, -10780.21016341]),\n",
       " array([  3111.17605302, -10780.21016341]),\n",
       " array([  3111.17605302, -10780.21016341]),\n",
       " array([  3111.17605302, -10780.21016341]),\n",
       " array([  3111.17605302, -10780.21016341]),\n",
       " array([  3111.17605302, -10780.21016341]),\n",
       " array([  3111.17605302, -10780.21016341]),\n",
       " array([  3111.17605302, -10780.21016341]),\n",
       " array([  3111.17605302, -10780.21016341]),\n",
       " array([  3111.17605302, -10780.21016341]),\n",
       " array([  3111.17605302, -10780.21016341]),\n",
       " array([  3111.17605302, -10780.21016341]),\n",
       " array([  3111.17605302, -10780.21016341]),\n",
       " array([  3111.17605302, -10780.21016341]),\n",
       " array([  3111.17605302, -10780.21016341]),\n",
       " array([  3111.17605302, -10780.21016341]),\n",
       " array([  3111.17605302, -10780.21016341]),\n",
       " array([  3111.17605302, -10780.21016341]),\n",
       " array([  3111.17605302, -10780.21016341]),\n",
       " array([  3111.17605302, -10780.21016341]),\n",
       " array([  3111.17605302, -10780.21016341]),\n",
       " array([  3111.17605302, -10780.21016341]),\n",
       " array([  3111.17605302, -10780.21016341]),\n",
       " array([  3111.17605302, -10780.21016341]),\n",
       " array([  3111.17605302, -10780.21016341]),\n",
       " array([  3111.17605302, -10780.21016341]),\n",
       " array([  3111.17605302, -10780.21016341]),\n",
       " array([  3111.17605302, -10780.21016341]),\n",
       " array([  3111.17605302, -10780.21016341]),\n",
       " array([  3111.17605302, -10780.21016341]),\n",
       " array([  3111.17605302, -10780.21016341]),\n",
       " array([  3111.17605302, -10780.21016341]),\n",
       " array([  3111.17605302, -10780.21016341]),\n",
       " array([  3111.17605302, -10780.21016341]),\n",
       " array([  3111.17605302, -10780.21016341]),\n",
       " array([  3111.17605302, -10780.21016341]),\n",
       " array([  3111.17605302, -10780.21016341]),\n",
       " array([  3111.17605302, -10780.21016341]),\n",
       " array([  3111.17605302, -10780.21016341]),\n",
       " array([  3111.17605302, -10780.21016341]),\n",
       " array([  3111.17605302, -10780.21016341]),\n",
       " array([  3111.17605302, -10780.21016341]),\n",
       " array([  3111.17605302, -10780.21016341]),\n",
       " array([  3111.17605302, -10780.21016341]),\n",
       " array([  3111.17605302, -10780.21016341]),\n",
       " array([  3111.17605302, -10780.21016341]),\n",
       " array([  3111.17605302, -10780.21016341]),\n",
       " array([  3111.17605302, -10780.21016341]),\n",
       " array([  3111.17605302, -10780.21016341]),\n",
       " array([  3111.17605302, -10780.21016341]),\n",
       " array([  3111.17605302, -10780.21016341]),\n",
       " array([  3111.17605302, -10780.21016341]),\n",
       " array([  3111.17605302, -10780.21016341]),\n",
       " array([  3111.17605302, -10780.21016341]),\n",
       " array([  3111.17605302, -10780.21016341]),\n",
       " array([  3111.17605302, -10780.21016341]),\n",
       " array([  3111.17605302, -10780.21016341]),\n",
       " array([  3111.17605302, -10780.21016341]),\n",
       " array([  3111.17605302, -10780.21016341]),\n",
       " array([  3111.17605302, -10780.21016341]),\n",
       " array([  3111.17605302, -10780.21016341]),\n",
       " array([  3111.17605302, -10780.21016341]),\n",
       " array([  3111.17605302, -10780.21016341]),\n",
       " array([  3111.17605302, -10780.21016341]),\n",
       " array([  3111.17605302, -10780.21016341]),\n",
       " array([  3111.17605302, -10780.21016341]),\n",
       " array([  3111.17605302, -10780.21016341]),\n",
       " array([  3111.17605302, -10780.21016341]),\n",
       " array([  3111.17605302, -10780.21016341]),\n",
       " array([  3111.17605302, -10780.21016341]),\n",
       " array([  3111.17605302, -10780.21016341]),\n",
       " array([  3111.17605302, -10780.21016341]),\n",
       " array([  3111.17605302, -10780.21016341]),\n",
       " array([  3111.17605302, -10780.21016341]),\n",
       " array([  3111.17605302, -10780.21016341]),\n",
       " array([  3111.17605302, -10780.21016341]),\n",
       " array([  3111.17605302, -10780.21016341]),\n",
       " array([  3111.17605302, -10780.21016341]),\n",
       " array([  3111.17605302, -10780.21016341]),\n",
       " array([  3111.17605302, -10780.21016341]),\n",
       " array([  3111.17605302, -10780.21016341]),\n",
       " array([  3111.17605302, -10780.21016341]),\n",
       " array([  3111.17605302, -10780.21016341]),\n",
       " array([  3111.17605302, -10780.21016341]),\n",
       " array([  3111.17605302, -10780.21016341]),\n",
       " array([  3111.17605302, -10780.21016341]),\n",
       " array([  3111.17605302, -10780.21016341]),\n",
       " array([  3111.17605302, -10780.21016341]),\n",
       " array([  3111.17605302, -10780.21016341]),\n",
       " array([  3111.17605302, -10780.21016341]),\n",
       " array([  3111.17605302, -10780.21016341]),\n",
       " array([  3111.17605302, -10780.21016341]),\n",
       " array([  3111.17605302, -10780.21016341]),\n",
       " array([  3111.17605302, -10780.21016341]),\n",
       " array([  3111.17605302, -10780.21016341]),\n",
       " array([  3111.17605302, -10780.21016341]),\n",
       " array([  3111.17605302, -10780.21016341]),\n",
       " array([  3111.17605302, -10780.21016341]),\n",
       " array([  3111.17605302, -10780.21016341]),\n",
       " array([  3111.17605302, -10780.21016341]),\n",
       " array([  3111.17605302, -10780.21016341]),\n",
       " array([  3111.17605302, -10780.21016341]),\n",
       " array([  3111.17605302, -10780.21016341]),\n",
       " array([  3111.17605302, -10780.21016341]),\n",
       " array([  3111.17605302, -10780.21016341]),\n",
       " array([  3111.17605302, -10780.21016341]),\n",
       " array([  3111.17605302, -10780.21016341]),\n",
       " array([  3111.17605302, -10780.21016341]),\n",
       " array([  3111.17605302, -10780.21016341]),\n",
       " array([  3111.17605302, -10780.21016341]),\n",
       " array([  3111.17605302, -10780.21016341]),\n",
       " array([  3111.17605302, -10780.21016341]),\n",
       " array([  3111.17605302, -10780.21016341]),\n",
       " array([  3111.17605302, -10780.21016341]),\n",
       " array([  3111.17605302, -10780.21016341]),\n",
       " array([  3111.17605302, -10780.21016341]),\n",
       " array([  3111.17605302, -10780.21016341]),\n",
       " array([  3111.17605302, -10780.21016341]),\n",
       " array([  3111.17605302, -10780.21016341]),\n",
       " array([  3111.17605302, -10780.21016341]),\n",
       " array([  3111.17605302, -10780.21016341]),\n",
       " array([  3111.17605302, -10780.21016341]),\n",
       " array([  3111.17605302, -10780.21016341]),\n",
       " array([  3111.17605302, -10780.21016341]),\n",
       " array([  3111.17605302, -10780.21016341]),\n",
       " array([  3111.17605302, -10780.21016341]),\n",
       " array([  3111.17605302, -10780.21016341]),\n",
       " array([  3111.17605302, -10780.21016341]),\n",
       " array([  3111.17605302, -10780.21016341]),\n",
       " array([  3111.17605302, -10780.21016341]),\n",
       " array([  3111.17605302, -10780.21016341]),\n",
       " array([  3111.17605302, -10780.21016341]),\n",
       " array([  3111.17605302, -10780.21016341]),\n",
       " array([  3111.17605302, -10780.21016341]),\n",
       " array([  3111.17605302, -10780.21016341]),\n",
       " array([  3111.17605302, -10780.21016341]),\n",
       " array([  3111.17605302, -10780.21016341]),\n",
       " array([  3111.17605302, -10780.21016341]),\n",
       " array([  3111.17605302, -10780.21016341]),\n",
       " array([  3111.17605302, -10780.21016341]),\n",
       " array([  3111.17605302, -10780.21016341]),\n",
       " array([  3111.17605302, -10780.21016341]),\n",
       " array([  3111.17605302, -10780.21016341]),\n",
       " array([  3111.17605302, -10780.21016341]),\n",
       " array([  3111.17605302, -10780.21016341]),\n",
       " array([  3111.17605302, -10780.21016341]),\n",
       " array([  3111.17605302, -10780.21016341]),\n",
       " array([  3111.17605302, -10780.21016341]),\n",
       " array([  3111.17605302, -10780.21016341]),\n",
       " array([  3111.17605302, -10780.21016341]),\n",
       " array([  3111.17605302, -10780.21016341]),\n",
       " array([  3111.17605302, -10780.21016341]),\n",
       " array([  3111.17605302, -10780.21016341]),\n",
       " array([  3111.17605302, -10780.21016341]),\n",
       " array([  3111.17605302, -10780.21016341]),\n",
       " array([  3111.17605302, -10780.21016341]),\n",
       " array([  3111.17605302, -10780.21016341]),\n",
       " array([  3111.17605302, -10780.21016341]),\n",
       " array([  3111.17605302, -10780.21016341]),\n",
       " array([  3111.17605302, -10780.21016341]),\n",
       " array([  3111.17605302, -10780.21016341]),\n",
       " array([  3111.17605302, -10780.21016341]),\n",
       " array([  3111.17605302, -10780.21016341]),\n",
       " array([  3111.17605302, -10780.21016341]),\n",
       " array([  3111.17605302, -10780.21016341]),\n",
       " array([  3111.17605302, -10780.21016341]),\n",
       " array([  3111.17605302, -10780.21016341]),\n",
       " array([  3111.17605302, -10780.21016341]),\n",
       " array([  3111.17605302, -10780.21016341]),\n",
       " array([  3111.17605302, -10780.21016341]),\n",
       " array([  3111.17605302, -10780.21016341]),\n",
       " array([  3111.17605302, -10780.21016341]),\n",
       " array([  3111.17605302, -10780.21016341]),\n",
       " array([  3111.17605302, -10780.21016341]),\n",
       " array([  3111.17605302, -10780.21016341]),\n",
       " array([  3111.17605302, -10780.21016341]),\n",
       " array([  3111.17605302, -10780.21016341]),\n",
       " array([  3111.17605302, -10780.21016341]),\n",
       " array([  3111.17605302, -10780.21016341]),\n",
       " array([  3111.17605302, -10780.21016341]),\n",
       " array([  3111.17605302, -10780.21016341]),\n",
       " array([  3111.17605302, -10780.21016341]),\n",
       " array([  3111.17605302, -10780.21016341]),\n",
       " array([  3111.17605302, -10780.21016341]),\n",
       " array([  3111.17605302, -10780.21016341]),\n",
       " array([  3111.17605302, -10780.21016341]),\n",
       " array([  3111.17605302, -10780.21016341]),\n",
       " array([  3111.17605302, -10780.21016341]),\n",
       " array([  3111.17605302, -10780.21016341]),\n",
       " array([  3111.17605302, -10780.21016341]),\n",
       " array([  3111.17605302, -10780.21016341]),\n",
       " array([  3111.17605302, -10780.21016341]),\n",
       " array([  3111.17605302, -10780.21016341])]"
      ]
     },
     "execution_count": 56,
     "metadata": {},
     "output_type": "execute_result"
    }
   ],
   "source": [
    "def bootstrap_lines(tbl, num_bootstraps):\n",
    "    return [fit_line(tbl) for x in range(num_bootstraps)]\n",
    "\n",
    "# When you're done, this code should produce the slopes\n",
    "# and intercepts of 1000 regression lines computed from\n",
    "# resamples of the faithful table.\n",
    "regression_lines = bootstrap_lines(faithful, 1000)\n",
    "regression_lines"
   ]
  },
  {
   "cell_type": "markdown",
   "metadata": {},
   "source": [
    "<div class=\"hide\">\\pagebreak</div>\n",
    "\n",
    "#### Question 10\n",
    "\n",
    "Create an array called `predictions_for_six`.  It should contain 1000 numbers.  Each number should be the predicted waiting time after an eruption with a duration of 6 minutes, using a different bootstrapped regression line. Hint: use the 1000 pairs of slopes and intercepots in `regression_lines` from the previous question."
   ]
  },
  {
   "cell_type": "code",
   "execution_count": 57,
   "metadata": {
    "ExecuteTime": {
     "end_time": "2018-04-11T12:05:55.991855Z",
     "start_time": "2018-04-11T12:05:55.759236Z"
    },
    "deletable": false
   },
   "outputs": [
    {
     "data": {
      "image/png": "[encoded data removed]",
      "text/plain": [
       "<Figure size 432x288 with 1 Axes>"
      ]
     },
     "metadata": {},
     "output_type": "display_data"
    }
   ],
   "source": [
    "predictions_for_six = [6*x[0] + x[1] for x in regression_lines] # one line of code using simple arithmetic\n",
    "\n",
    "# This will make a histogram of your predictions:\n",
    "table_of_predictions = Table().with_column('Predictions at eruptions=6', predictions_for_six)\n",
    "table_of_predictions.hist('Predictions at eruptions=6', bins=20)"
   ]
  },
  {
   "cell_type": "markdown",
   "metadata": {},
   "source": [
    "<div class=\"hide\">\\pagebreak</div>\n",
    "\n",
    "#### Question 11\n",
    "\n",
    "Create a 95 percent confidence interval for these predictions."
   ]
  },
  {
   "cell_type": "code",
   "execution_count": 59,
   "metadata": {
    "ExecuteTime": {
     "end_time": "2018-04-11T12:05:56.097136Z",
     "start_time": "2018-04-11T12:05:56.089117Z"
    },
    "deletable": false,
    "scrolled": true
   },
   "outputs": [
    {
     "name": "stdout",
     "output_type": "stream",
     "text": [
      "95% Confidence interval for predictions for x=6: ( 7886.846154689454 , 7886.846154689461 )\n"
     ]
    }
   ],
   "source": [
    "lower_bound = np.mean(predictions_for_six) - 2*np.std(predictions_for_six)\n",
    "upper_bound = np.mean(predictions_for_six) + 2*np.std(predictions_for_six)\n",
    "\n",
    "print('95% Confidence interval for predictions for x=6: (', lower_bound,\",\", upper_bound, ')')"
   ]
  },
  {
   "cell_type": "code",
   "execution_count": 60,
   "metadata": {
    "deletable": false
   },
   "outputs": [
    {
     "name": "stdout",
     "output_type": "stream",
     "text": [
      "~~~~~~~~~~~~~~~~~~~~~~~~~~~~~~~~~~~~~~~~~~~~~~~~~~~~~~~~~~~~~~~~~~~~~\n",
      "Running tests\n",
      "\n",
      "---------------------------------------------------------------------\n",
      "Question 3_11 > Suite 1 > Case 2\n",
      "\n",
      ">>> upper_bound < 955\n",
      "False\n",
      "\n",
      "# Error: expected\n",
      "#     True\n",
      "# but got\n",
      "#     False\n",
      "\n",
      "Run only this test case with \"python3 ok -q q3_11 --suite 1 --case 2\"\n",
      "---------------------------------------------------------------------\n",
      "Test summary\n",
      "    Passed: 1\n",
      "    Failed: 1\n",
      "[oooook.....] 50.0% passed\n",
      "\n"
     ]
    },
    {
     "data": {
      "application/javascript": [
       "IPython.notebook.save_checkpoint();"
      ],
      "text/plain": [
       "<IPython.core.display.Javascript object>"
      ]
     },
     "metadata": {},
     "output_type": "display_data"
    },
    {
     "data": {
      "application/javascript": [
       "IPython.notebook.save_notebook();"
      ],
      "text/plain": [
       "<IPython.core.display.Javascript object>"
      ]
     },
     "metadata": {},
     "output_type": "display_data"
    },
    {
     "name": "stdout",
     "output_type": "stream",
     "text": [
      "Saving notebook... Saved 'hw13.ipynb'.\n",
      "Submit... 100% complete\n",
      "Submission successful for user: togden1@binghamton.edu\n",
      "URL: https://okpy.org/bu/math247-cs207/fa19/hw13/submissions/oZl1zY\n",
      "NOTE: this is only a backup. To submit your assignment, use:\n",
      "\tpython3 ok --submit\n",
      "\n"
     ]
    }
   ],
   "source": [
    "_ = ok.grade('q3_11')\n",
    "_ = ok.backup()"
   ]
  },
  {
   "cell_type": "markdown",
   "metadata": {},
   "source": [
    "<div class=\"hide\">\\pagebreak</div>\n",
    "\n",
    "#### Question 12\n",
    "\n",
    "Determine which of the following are true, then set `question_12_choice` to an array consisting of numbers corresponding to those statements that you believe are true. For example, if you think that 1 and 2 are true but 3, 4, and 5 are false, you'd assign `question_12_choice` to be an array consisting of the values 1 and 2.\n",
    "\n",
    "Statement 1: This confidence interval covers 95 percent of waiting times of eruptions from the population that had an eruption duration of 6 minutes.\n",
    "\n",
    "Statement 2: If one draws many other samples from the population with the same sample size as the original data, and for each such sample, a 95% confidence interval is produced in the same way, then with 95 percent of the times, such an interval covers the average waiting times of eruptions from the population that have an eruption duration of 6 minutes.\n",
    "\n",
    "Statement 3: This interval gives a sense of how much actual wait times differ from your prediction.\n",
    "\n",
    "Statement 4: This interval gives a sense of how much the true average wait times in the population (corresponding to duration = 6 minutes) differ from your prediction.\n",
    "\n",
    "Statement 5: The confidence interval quantifies our uncertainty in our estimate of what the true regression line would predict for duration = 6 minutes.\n",
    "\n",
    "*Hint:* there are three correct statements. You may want to compare these statements with the statements we made previously when we introduced confidence interval one month ago."
   ]
  },
  {
   "cell_type": "code",
   "execution_count": 61,
   "metadata": {
    "ExecuteTime": {
     "end_time": "2018-04-11T12:05:56.479878Z",
     "start_time": "2018-04-11T12:05:56.476869Z"
    },
    "collapsed": true,
    "deletable": false
   },
   "outputs": [],
   "source": [
    "question_12_choice = [1,4,5]"
   ]
  },
  {
   "cell_type": "code",
   "execution_count": 62,
   "metadata": {
    "ExecuteTime": {
     "end_time": "2018-04-11T12:05:56.798444Z",
     "start_time": "2018-04-11T12:05:56.659088Z"
    },
    "deletable": false,
    "scrolled": true
   },
   "outputs": [
    {
     "name": "stdout",
     "output_type": "stream",
     "text": [
      "~~~~~~~~~~~~~~~~~~~~~~~~~~~~~~~~~~~~~~~~~~~~~~~~~~~~~~~~~~~~~~~~~~~~~\n",
      "Running tests\n",
      "\n",
      "---------------------------------------------------------------------\n",
      "Test summary\n",
      "    Passed: 1\n",
      "    Failed: 0\n",
      "[ooooooooook] 100.0% passed\n",
      "\n"
     ]
    },
    {
     "data": {
      "application/javascript": [
       "IPython.notebook.save_checkpoint();"
      ],
      "text/plain": [
       "<IPython.core.display.Javascript object>"
      ]
     },
     "metadata": {},
     "output_type": "display_data"
    },
    {
     "data": {
      "application/javascript": [
       "IPython.notebook.save_notebook();"
      ],
      "text/plain": [
       "<IPython.core.display.Javascript object>"
      ]
     },
     "metadata": {},
     "output_type": "display_data"
    },
    {
     "name": "stdout",
     "output_type": "stream",
     "text": [
      "Saving notebook... Saved 'hw13.ipynb'.\n",
      "Submit... 100% complete\n",
      "Submission successful for user: togden1@binghamton.edu\n",
      "URL: https://okpy.org/bu/math247-cs207/fa19/hw13/submissions/w0w1Lr\n",
      "NOTE: this is only a backup. To submit your assignment, use:\n",
      "\tpython3 ok --submit\n",
      "\n"
     ]
    }
   ],
   "source": [
    "_ = ok.grade('q3_12')\n",
    "_ = ok.backup()"
   ]
  },
  {
   "cell_type": "markdown",
   "metadata": {},
   "source": [
    "## 4. Submission\n"
   ]
  },
  {
   "cell_type": "markdown",
   "metadata": {
    "collapsed": true
   },
   "source": [
    "Once you're finished, select \"Save and Checkpoint\" in the File menu and then execute the `submit` cell below. The result will contain a link that you can use to check that your assignment has been submitted successfully. If you submit more than once before the deadline, we will only grade your final submission. If you mistakenly submit the wrong one, you can head to [okpy.org](https://okpy.org/) and flag the correct version. To do so, go to the website, click on this assignment, and find the version you would like to have graded. There should be an option to flag that submission for grading!"
   ]
  },
  {
   "cell_type": "code",
   "execution_count": 63,
   "metadata": {},
   "outputs": [
    {
     "data": {
      "application/javascript": [
       "IPython.notebook.save_checkpoint();"
      ],
      "text/plain": [
       "<IPython.core.display.Javascript object>"
      ]
     },
     "metadata": {},
     "output_type": "display_data"
    },
    {
     "data": {
      "application/javascript": [
       "IPython.notebook.save_notebook();"
      ],
      "text/plain": [
       "<IPython.core.display.Javascript object>"
      ]
     },
     "metadata": {},
     "output_type": "display_data"
    },
    {
     "name": "stdout",
     "output_type": "stream",
     "text": [
      "Saving notebook... Saved 'hw13.ipynb'.\n",
      "Submit... 100% complete\n",
      "Submission successful for user: togden1@binghamton.edu\n",
      "URL: https://okpy.org/bu/math247-cs207/fa19/hw13/submissions/x6xgMl\n",
      "NOTE: this is only a backup. To submit your assignment, use:\n",
      "\tpython3 ok --submit\n",
      "\n"
     ]
    }
   ],
   "source": [
    "_ = ok.submit()"
   ]
  },
  {
   "cell_type": "code",
   "execution_count": 64,
   "metadata": {},
   "outputs": [
    {
     "name": "stdout",
     "output_type": "stream",
     "text": [
      "Running all tests...\n",
      "~~~~~~~~~~~~~~~~~~~~~~~~~~~~~~~~~~~~~~~~~~~~~~~~~~~~~~~~~~~~~~~~~~~~~\n",
      "Running tests\n",
      "\n",
      "---------------------------------------------------------------------\n",
      "Test summary\n",
      "    Passed: 1\n",
      "    Failed: 0\n",
      "[ooooooooook] 100.0% passed\n",
      "\n",
      "~~~~~~~~~~~~~~~~~~~~~~~~~~~~~~~~~~~~~~~~~~~~~~~~~~~~~~~~~~~~~~~~~~~~~\n",
      "Running tests\n",
      "\n",
      "---------------------------------------------------------------------\n",
      "Test summary\n",
      "    Passed: 1\n",
      "    Failed: 0\n",
      "[ooooooooook] 100.0% passed\n",
      "\n",
      "~~~~~~~~~~~~~~~~~~~~~~~~~~~~~~~~~~~~~~~~~~~~~~~~~~~~~~~~~~~~~~~~~~~~~\n",
      "Running tests\n",
      "\n",
      "---------------------------------------------------------------------\n",
      "Test summary\n",
      "    Passed: 1\n",
      "    Failed: 0\n",
      "[ooooooooook] 100.0% passed\n",
      "\n",
      "~~~~~~~~~~~~~~~~~~~~~~~~~~~~~~~~~~~~~~~~~~~~~~~~~~~~~~~~~~~~~~~~~~~~~\n",
      "Running tests\n",
      "\n",
      "---------------------------------------------------------------------\n",
      "Question 1_6 > Suite 1 > Case 1\n",
      "\n",
      ">>> np.round(faithful_residual_sd,2) == 5.89\n",
      "False\n",
      "\n",
      "# Error: expected\n",
      "#     True\n",
      "# but got\n",
      "#     False\n",
      "\n",
      "Run only this test case with \"python3 ok -q q1_6 --suite 1 --case 1\"\n",
      "---------------------------------------------------------------------\n",
      "Test summary\n",
      "    Passed: 0\n",
      "    Failed: 1\n",
      "[k..........] 0.0% passed\n",
      "\n",
      "~~~~~~~~~~~~~~~~~~~~~~~~~~~~~~~~~~~~~~~~~~~~~~~~~~~~~~~~~~~~~~~~~~~~~\n",
      "Running tests\n",
      "\n",
      "---------------------------------------------------------------------\n",
      "Test summary\n",
      "    Passed: 1\n",
      "    Failed: 0\n",
      "[ooooooooook] 100.0% passed\n",
      "\n",
      "~~~~~~~~~~~~~~~~~~~~~~~~~~~~~~~~~~~~~~~~~~~~~~~~~~~~~~~~~~~~~~~~~~~~~\n",
      "Running tests\n",
      "\n",
      "---------------------------------------------------------------------\n",
      "Test summary\n",
      "    Passed: 1\n",
      "    Failed: 0\n",
      "[ooooooooook] 100.0% passed\n",
      "\n",
      "~~~~~~~~~~~~~~~~~~~~~~~~~~~~~~~~~~~~~~~~~~~~~~~~~~~~~~~~~~~~~~~~~~~~~\n",
      "Running tests\n",
      "\n",
      "---------------------------------------------------------------------\n",
      "Test summary\n",
      "    Passed: 1\n",
      "    Failed: 0\n",
      "[ooooooooook] 100.0% passed\n",
      "\n",
      "~~~~~~~~~~~~~~~~~~~~~~~~~~~~~~~~~~~~~~~~~~~~~~~~~~~~~~~~~~~~~~~~~~~~~\n",
      "Running tests\n",
      "\n",
      "---------------------------------------------------------------------\n",
      "Test summary\n",
      "    Passed: 1\n",
      "    Failed: 0\n",
      "[ooooooooook] 100.0% passed\n",
      "\n",
      "~~~~~~~~~~~~~~~~~~~~~~~~~~~~~~~~~~~~~~~~~~~~~~~~~~~~~~~~~~~~~~~~~~~~~\n",
      "Running tests\n",
      "\n",
      "---------------------------------------------------------------------\n",
      "Test summary\n",
      "    Passed: 1\n",
      "    Failed: 0\n",
      "[ooooooooook] 100.0% passed\n",
      "\n",
      "~~~~~~~~~~~~~~~~~~~~~~~~~~~~~~~~~~~~~~~~~~~~~~~~~~~~~~~~~~~~~~~~~~~~~\n",
      "Running tests\n",
      "\n",
      "---------------------------------------------------------------------\n",
      "Question 3_11 > Suite 1 > Case 2\n",
      "\n",
      ">>> upper_bound < 955\n",
      "False\n",
      "\n",
      "# Error: expected\n",
      "#     True\n",
      "# but got\n",
      "#     False\n",
      "\n",
      "Run only this test case with \"python3 ok -q q3_11 --suite 1 --case 2\"\n",
      "---------------------------------------------------------------------\n",
      "Test summary\n",
      "    Passed: 1\n",
      "    Failed: 1\n",
      "[oooook.....] 50.0% passed\n",
      "\n",
      "~~~~~~~~~~~~~~~~~~~~~~~~~~~~~~~~~~~~~~~~~~~~~~~~~~~~~~~~~~~~~~~~~~~~~\n",
      "Running tests\n",
      "\n",
      "---------------------------------------------------------------------\n",
      "Test summary\n",
      "    Passed: 1\n",
      "    Failed: 0\n",
      "[ooooooooook] 100.0% passed\n",
      "\n",
      "~~~~~~~~~~~~~~~~~~~~~~~~~~~~~~~~~~~~~~~~~~~~~~~~~~~~~~~~~~~~~~~~~~~~~\n",
      "Running tests\n",
      "\n",
      "---------------------------------------------------------------------\n",
      "Test summary\n",
      "    Passed: 1\n",
      "    Failed: 0\n",
      "[ooooooooook] 100.0% passed\n",
      "\n",
      "~~~~~~~~~~~~~~~~~~~~~~~~~~~~~~~~~~~~~~~~~~~~~~~~~~~~~~~~~~~~~~~~~~~~~\n",
      "Running tests\n",
      "\n",
      "---------------------------------------------------------------------\n",
      "Test summary\n",
      "    Passed: 1\n",
      "    Failed: 0\n",
      "[ooooooooook] 100.0% passed\n",
      "\n",
      "~~~~~~~~~~~~~~~~~~~~~~~~~~~~~~~~~~~~~~~~~~~~~~~~~~~~~~~~~~~~~~~~~~~~~\n",
      "Running tests\n",
      "\n",
      "---------------------------------------------------------------------\n",
      "Question 3_5 > Suite 1 > Case 1\n",
      "\n",
      ">>> lower_end > 5\n",
      "False\n",
      "\n",
      "# Error: expected\n",
      "#     True\n",
      "# but got\n",
      "#     False\n",
      "\n",
      "Run only this test case with \"python3 ok -q q3_5 --suite 1 --case 1\"\n",
      "---------------------------------------------------------------------\n",
      "Test summary\n",
      "    Passed: 0\n",
      "    Failed: 1\n",
      "[k..........] 0.0% passed\n",
      "\n",
      "~~~~~~~~~~~~~~~~~~~~~~~~~~~~~~~~~~~~~~~~~~~~~~~~~~~~~~~~~~~~~~~~~~~~~\n",
      "Running tests\n",
      "\n",
      "---------------------------------------------------------------------\n",
      "Test summary\n",
      "    Passed: 1\n",
      "    Failed: 0\n",
      "[ooooooooook] 100.0% passed\n",
      "\n",
      "~~~~~~~~~~~~~~~~~~~~~~~~~~~~~~~~~~~~~~~~~~~~~~~~~~~~~~~~~~~~~~~~~~~~~\n",
      "Running tests\n",
      "\n",
      "---------------------------------------------------------------------\n",
      "Test summary\n",
      "    Passed: 1\n",
      "    Failed: 0\n",
      "[ooooooooook] 100.0% passed\n",
      "\n",
      "Finished running all tests.\n"
     ]
    }
   ],
   "source": [
    "# For your convenience, you can run this cell to run all the tests at once!\n",
    "import os\n",
    "print(\"Running all tests...\")\n",
    "_ = [ok.grade(q[:-3]) for q in os.listdir(\"tests\") if q.startswith('q') and len(q) <= 10]\n",
    "print(\"Finished running all tests.\")"
   ]
  },
  {
   "cell_type": "code",
   "execution_count": null,
   "metadata": {
    "collapsed": true
   },
   "outputs": [],
   "source": []
  }
 ],
 "metadata": {
  "kernelspec": {
   "display_name": "Python 3",
   "language": "python",
   "name": "python3"
  },
  "language_info": {
   "codemirror_mode": {
    "name": "ipython",
    "version": 3
   },
   "file_extension": ".py",
   "mimetype": "text/x-python",
   "name": "python",
   "nbconvert_exporter": "python",
   "pygments_lexer": "ipython3",
   "version": "3.6.3"
  }
 },
 "nbformat": 4,
 "nbformat_minor": 1
}
