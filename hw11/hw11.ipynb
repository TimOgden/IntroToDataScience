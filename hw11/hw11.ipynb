{
 "cells": [
  {
   "cell_type": "markdown",
   "metadata": {},
   "source": [
    "# Homework 11: Central Limit Theorem"
   ]
  },
  {
   "cell_type": "markdown",
   "metadata": {},
   "source": [
    "**Reading**: \n",
    "* [Why the mean matters](https://www.inferentialthinking.com/chapters/14/why-the-mean-matters.html)"
   ]
  },
  {
   "cell_type": "markdown",
   "metadata": {},
   "source": [
    "Please complete this notebook by filling in the cells provided. Before you begin, execute the following cell to load the provided tests. Each time you start your server, you will need to execute this cell again to load the tests.\n",
    "\n",
    "Homework 11 is due **Thursday, 11/14 at 01:59am**. Start early so that you can come to office hours if you're stuck.\n",
    "\n",
    "Directly sharing answers is not okay, but discussing problems with the course staff or with other students is encouraged.\n",
    "\n",
    "For all problems that you must write our explanations and sentences for, you **must** provide your answer in the designated space. Moreover, throughout this homework and all future ones, please be sure to not re-assign variables throughout the notebook! For example, if you use `max_temperature` in your answer to one question, do not reassign it later on."
   ]
  },
  {
   "cell_type": "code",
   "execution_count": 1,
   "metadata": {
    "collapsed": true
   },
   "outputs": [],
   "source": [
    "# Don't change this cell; just run it. \n",
    "\n",
    "import numpy as np\n",
    "from datascience import *\n",
    "\n",
    "# These lines do some fancy plotting magic.\n",
    "import matplotlib\n",
    "%matplotlib inline\n",
    "import matplotlib.pyplot as plt\n",
    "plt.style.use('fivethirtyeight')\n",
    "import warnings\n",
    "warnings.simplefilter('ignore', FutureWarning)"
   ]
  },
  {
   "cell_type": "code",
   "execution_count": 2,
   "metadata": {},
   "outputs": [
    {
     "name": "stdout",
     "output_type": "stream",
     "text": [
      "=====================================================================\n",
      "Assignment: Homework 11: Central Limit Theorem\n",
      "OK, version v1.14.15\n",
      "=====================================================================\n",
      "\n"
     ]
    },
    {
     "name": "stderr",
     "output_type": "stream",
     "text": [
      "ERROR  | auth.py:102 | {'error': 'invalid_grant'}\n"
     ]
    },
    {
     "name": "stdout",
     "output_type": "stream",
     "text": [
      "\n",
      "Open the following URL:\n",
      "\n",
      "https://okpy.org/client/login/\n",
      "\n",
      "After logging in, copy the code from the web page and paste it into the box.\n",
      "Then press the \"Enter\" key on your keyboard.\n",
      "\n",
      "Paste your code here: reKZ0Ch4HJAttwLptoNIvzJhUyyQdb\n",
      "Successfully logged in as togden1@binghamton.edu\n"
     ]
    }
   ],
   "source": [
    "from client.api.notebook import Notebook\n",
    "ok = Notebook('hw11.ok')\n",
    "try:\n",
    "    _ = ok.auth(inline=True)\n",
    "except:\n",
    "    _ = ok.auth(inline=True, force=True)"
   ]
  },
  {
   "cell_type": "markdown",
   "metadata": {},
   "source": [
    "## 1. The Bootstrap and The Normal Curve\n"
   ]
  },
  {
   "cell_type": "markdown",
   "metadata": {},
   "source": [
    "In this exercise, we will explore a dataset that includes the safety inspection scores for restaurants in the city of Austin, Texas.  We will be interested in determining the average restaurant score for the city from a random sample of the scores; the average restaurant score is out of 100. We'll compare two methods for computing a confidence interval for that quantity: the bootstrap resampling method, and an approximation based on the Central Limit Theorem."
   ]
  },
  {
   "cell_type": "code",
   "execution_count": 3,
   "metadata": {},
   "outputs": [
    {
     "data": {
      "text/html": [
       "<table border=\"1\" class=\"dataframe\">\n",
       "    <thead>\n",
       "        <tr>\n",
       "            <th>Restaurant Name</th> <th>Zip Code</th> <th>Inspection Date</th> <th>Score</th> <th>Address</th>\n",
       "        </tr>\n",
       "    </thead>\n",
       "    <tbody>\n",
       "        <tr>\n",
       "            <td>6M Grocery     </td> <td>78652   </td> <td>01/17/2014     </td> <td>90   </td> <td>805 W FM 1626 RD\r\n",
       "AUSTIN, TX 78652\r\n",
       "     </td>\n",
       "        </tr>\n",
       "        <tr>\n",
       "            <td>6M Grocery     </td> <td>78652   </td> <td>04/27/2015     </td> <td>93   </td> <td>805 W FM 1626 RD\r\n",
       "AUSTIN, TX 78652\r\n",
       "     </td>\n",
       "        </tr>\n",
       "        <tr>\n",
       "            <td>6M Grocery     </td> <td>78652   </td> <td>05/02/2016     </td> <td>88   </td> <td>805 W FM 1626 RD\r\n",
       "AUSTIN, TX 78652\r\n",
       "     </td>\n",
       "        </tr>\n",
       "        <tr>\n",
       "            <td>6M Grocery     </td> <td>78652   </td> <td>07/25/2014     </td> <td>100  </td> <td>805 W FM 1626 RD\r\n",
       "AUSTIN, TX 78652\r\n",
       "     </td>\n",
       "        </tr>\n",
       "        <tr>\n",
       "            <td>6M Grocery     </td> <td>78652   </td> <td>10/21/2015     </td> <td>87   </td> <td>805 W FM 1626 RD\r\n",
       "AUSTIN, TX 78652\r\n",
       "     </td>\n",
       "        </tr>\n",
       "        <tr>\n",
       "            <td>6M Grocery     </td> <td>78652   </td> <td>12/15/2014     </td> <td>93   </td> <td>805 W FM 1626 RD\r\n",
       "AUSTIN, TX 78652\r\n",
       "     </td>\n",
       "        </tr>\n",
       "        <tr>\n",
       "            <td>7 Eleven #36575</td> <td>78660   </td> <td>01/25/2016     </td> <td>92   </td> <td>15829 N IH 35 SVRD NB\r\n",
       "AUSTIN, TX 78660\r\n",
       "</td>\n",
       "        </tr>\n",
       "        <tr>\n",
       "            <td>7 Eleven #36575</td> <td>78660   </td> <td>03/05/2015     </td> <td>86   </td> <td>15829 N IH 35 SVRD NB\r\n",
       "AUSTIN, TX 78660\r\n",
       "</td>\n",
       "        </tr>\n",
       "        <tr>\n",
       "            <td>7 Eleven #36575</td> <td>78660   </td> <td>03/14/2014     </td> <td>93   </td> <td>15829 N IH 35 SVRD NB\r\n",
       "AUSTIN, TX 78660\r\n",
       "</td>\n",
       "        </tr>\n",
       "        <tr>\n",
       "            <td>7 Eleven #36575</td> <td>78660   </td> <td>07/27/2015     </td> <td>97   </td> <td>15829 N IH 35 SVRD NB\r\n",
       "AUSTIN, TX 78660\r\n",
       "</td>\n",
       "        </tr>\n",
       "    </tbody>\n",
       "</table>\n",
       "<p>... (24357 rows omitted)</p>"
      ],
      "text/plain": [
       "Restaurant Name | Zip Code | Inspection Date | Score | Address\n",
       "6M Grocery      | 78652    | 01/17/2014      | 90    | 805 W FM 1626 RD\n",
       "AUSTIN, TX 78652\n",
       "6M Grocery      | 78652    | 04/27/2015      | 93    | 805 W FM 1626 RD\n",
       "AUSTIN, TX 78652\n",
       "6M Grocery      | 78652    | 05/02/2016      | 88    | 805 W FM 1626 RD\n",
       "AUSTIN, TX 78652\n",
       "6M Grocery      | 78652    | 07/25/2014      | 100   | 805 W FM 1626 RD\n",
       "AUSTIN, TX 78652\n",
       "6M Grocery      | 78652    | 10/21/2015      | 87    | 805 W FM 1626 RD\n",
       "AUSTIN, TX 78652\n",
       "6M Grocery      | 78652    | 12/15/2014      | 93    | 805 W FM 1626 RD\n",
       "AUSTIN, TX 78652\n",
       "7 Eleven #36575 | 78660    | 01/25/2016      | 92    | 15829 N IH 35 SVRD NB\n",
       "AUSTIN, TX 78660\n",
       "7 Eleven #36575 | 78660    | 03/05/2015      | 86    | 15829 N IH 35 SVRD NB\n",
       "AUSTIN, TX 78660\n",
       "7 Eleven #36575 | 78660    | 03/14/2014      | 93    | 15829 N IH 35 SVRD NB\n",
       "AUSTIN, TX 78660\n",
       "7 Eleven #36575 | 78660    | 07/27/2015      | 97    | 15829 N IH 35 SVRD NB\n",
       "AUSTIN, TX 78660\n",
       "... (24357 rows omitted)"
      ]
     },
     "execution_count": 3,
     "metadata": {},
     "output_type": "execute_result"
    }
   ],
   "source": [
    "# Just run this cell.\n",
    "pop_restaurants = Table.read_table('restaurant_inspection_scores.csv').drop(5,6)\n",
    "pop_restaurants"
   ]
  },
  {
   "cell_type": "markdown",
   "metadata": {},
   "source": [
    "#### Question 1\n",
    "Plot a histogram of the scores in the cell below."
   ]
  },
  {
   "cell_type": "code",
   "execution_count": 4,
   "metadata": {
    "deletable": false
   },
   "outputs": [
    {
     "data": {
      "image/png": "[encoded data removed]",
      "text/plain": [
       "<Figure size 432x288 with 1 Axes>"
      ]
     },
     "metadata": {},
     "output_type": "display_data"
    }
   ],
   "source": [
    "# Write your code here.\n",
    "pop_restaurants.hist('Score')"
   ]
  },
  {
   "cell_type": "markdown",
   "metadata": {},
   "source": [
    "This is the **population mean**:"
   ]
  },
  {
   "cell_type": "code",
   "execution_count": 5,
   "metadata": {},
   "outputs": [
    {
     "data": {
      "text/plain": [
       "91.40706693478886"
      ]
     },
     "execution_count": 5,
     "metadata": {},
     "output_type": "execute_result"
    }
   ],
   "source": [
    "pop_mean = np.mean(pop_restaurants.column(3))\n",
    "pop_mean"
   ]
  },
  {
   "cell_type": "markdown",
   "metadata": {},
   "source": [
    "Often it is impossible to find complete datasets like this.  Imagine we instead had access only to a random sample of 100 restaurant inspections, called `restaurant_sample`.  That table is created below. We are interested in using this sample to estimate the population mean."
   ]
  },
  {
   "cell_type": "code",
   "execution_count": 6,
   "metadata": {},
   "outputs": [
    {
     "data": {
      "text/html": [
       "<table border=\"1\" class=\"dataframe\">\n",
       "    <thead>\n",
       "        <tr>\n",
       "            <th>Restaurant Name</th> <th>Zip Code</th> <th>Inspection Date</th> <th>Score</th> <th>Address</th>\n",
       "        </tr>\n",
       "    </thead>\n",
       "    <tbody>\n",
       "        <tr>\n",
       "            <td>Primrose School of Southwest Austin</td> <td>78749   </td> <td>08/19/2014     </td> <td>100  </td> <td>4920 DAVIS LN\r\n",
       "AUSTIN, TX 78749\r\n",
       "(30.20639, -97.859436)     </td>\n",
       "        </tr>\n",
       "        <tr>\n",
       "            <td>Hyatt Regency Austin- Marker 10    </td> <td>78704   </td> <td>01/04/2016     </td> <td>91   </td> <td>208 BARTON SPRINGS RD\r\n",
       "AUSTIN, TX 78704\r\n",
       "(30.258968, -97 ...</td>\n",
       "        </tr>\n",
       "        <tr>\n",
       "            <td>Creek Side Cafe                    </td> <td>78759   </td> <td>09/03/2015     </td> <td>100  </td> <td>8310 N CAPITAL OF TEXAS HWY SB Bunit 155\r\n",
       "AUSTIN, TX 78759\r\n",
       "</td>\n",
       "        </tr>\n",
       "        <tr>\n",
       "            <td>Icenhauer's                        </td> <td>78701   </td> <td>02/16/2016     </td> <td>88   </td> <td>83 RAINEY ST\r\n",
       "AUSTIN, TX 78701\r\n",
       "(30.259498, -97.738513)     </td>\n",
       "        </tr>\n",
       "        <tr>\n",
       "            <td>Mt Sinai Baptist Church            </td> <td>78723   </td> <td>07/25/2014     </td> <td>94   </td> <td>5900 CAMERON RD\r\n",
       "AUSTIN, TX 78723\r\n",
       "(30.316838, -97.700155)  </td>\n",
       "        </tr>\n",
       "        <tr>\n",
       "            <td>Pizza Hut                          </td> <td>78731   </td> <td>12/31/2014     </td> <td>97   </td> <td>3435 GREYSTONE DR Unit 101\r\n",
       "AUSTIN, TX 78731\r\n",
       "(30.357561 ...</td>\n",
       "        </tr>\n",
       "        <tr>\n",
       "            <td>Pizza Hut                          </td> <td>78702   </td> <td>06/26/2014     </td> <td>97   </td> <td>1144 AIRPORT BLVD\r\n",
       "AUSTIN, TX 78702\r\n",
       "(30.272318, -97.697534)</td>\n",
       "        </tr>\n",
       "        <tr>\n",
       "            <td>BC - Los Pinos Restaurant #2       </td> <td>78738   </td> <td>08/24/2015     </td> <td>87   </td> <td>11715 FM 2244 RD\r\n",
       "BEE CAVE, TX 78738\r\n",
       "                      </td>\n",
       "        </tr>\n",
       "        <tr>\n",
       "            <td>Hayley Cakes and Cookies           </td> <td>78730   </td> <td>10/07/2015     </td> <td>100  </td> <td>10601 FM 2222 RD Bunit M\r\n",
       "AUSTIN, TX 78730\r\n",
       "(30.393683,  ...</td>\n",
       "        </tr>\n",
       "        <tr>\n",
       "            <td>Bridgepoint Cafe & Catering II     </td> <td>78730   </td> <td>03/27/2014     </td> <td>96   </td> <td>6300 BRIDGE POINT PKWY\r\n",
       "AUSTIN, TX 78730\r\n",
       "(30.354153, -9 ...</td>\n",
       "        </tr>\n",
       "    </tbody>\n",
       "</table>\n",
       "<p>... (90 rows omitted)</p>"
      ],
      "text/plain": [
       "Restaurant Name                     | Zip Code | Inspection Date | Score | Address\n",
       "Primrose School of Southwest Austin | 78749    | 08/19/2014      | 100   | 4920 DAVIS LN\n",
       "AUSTIN, TX 78749\n",
       "(30.20639, -97.859436)\n",
       "Hyatt Regency Austin- Marker 10     | 78704    | 01/04/2016      | 91    | 208 BARTON SPRINGS RD\n",
       "AUSTIN, TX 78704\n",
       "(30.258968, -97 ...\n",
       "Creek Side Cafe                     | 78759    | 09/03/2015      | 100   | 8310 N CAPITAL OF TEXAS HWY SB Bunit 155\n",
       "AUSTIN, TX 78759\n",
       "Icenhauer's                         | 78701    | 02/16/2016      | 88    | 83 RAINEY ST\n",
       "AUSTIN, TX 78701\n",
       "(30.259498, -97.738513)\n",
       "Mt Sinai Baptist Church             | 78723    | 07/25/2014      | 94    | 5900 CAMERON RD\n",
       "AUSTIN, TX 78723\n",
       "(30.316838, -97.700155)\n",
       "Pizza Hut                           | 78731    | 12/31/2014      | 97    | 3435 GREYSTONE DR Unit 101\n",
       "AUSTIN, TX 78731\n",
       "(30.357561 ...\n",
       "Pizza Hut                           | 78702    | 06/26/2014      | 97    | 1144 AIRPORT BLVD\n",
       "AUSTIN, TX 78702\n",
       "(30.272318, -97.697534)\n",
       "BC - Los Pinos Restaurant #2        | 78738    | 08/24/2015      | 87    | 11715 FM 2244 RD\n",
       "BEE CAVE, TX 78738\n",
       "Hayley Cakes and Cookies            | 78730    | 10/07/2015      | 100   | 10601 FM 2222 RD Bunit M\n",
       "AUSTIN, TX 78730\n",
       "(30.393683,  ...\n",
       "Bridgepoint Cafe & Catering II      | 78730    | 03/27/2014      | 96    | 6300 BRIDGE POINT PKWY\n",
       "AUSTIN, TX 78730\n",
       "(30.354153, -9 ...\n",
       "... (90 rows omitted)"
      ]
     },
     "execution_count": 6,
     "metadata": {},
     "output_type": "execute_result"
    }
   ],
   "source": [
    "restaurant_sample = pop_restaurants.sample(100, with_replacement=False)\n",
    "restaurant_sample"
   ]
  },
  {
   "cell_type": "markdown",
   "metadata": {},
   "source": [
    "#### Question 2 \n",
    "Plot a histogram of the **sample** scores in the cell below. "
   ]
  },
  {
   "cell_type": "code",
   "execution_count": 7,
   "metadata": {
    "deletable": false
   },
   "outputs": [
    {
     "data": {
      "image/png": "[encoded data removed]",
      "text/plain": [
       "<Figure size 432x288 with 1 Axes>"
      ]
     },
     "metadata": {},
     "output_type": "display_data"
    }
   ],
   "source": [
    "# Write your code here:\n",
    "restaurant_sample.hist('Score')"
   ]
  },
  {
   "cell_type": "markdown",
   "metadata": {},
   "source": [
    "This is the **sample mean**:"
   ]
  },
  {
   "cell_type": "code",
   "execution_count": 8,
   "metadata": {},
   "outputs": [
    {
     "data": {
      "text/plain": [
       "91.83"
      ]
     },
     "execution_count": 8,
     "metadata": {},
     "output_type": "execute_result"
    }
   ],
   "source": [
    "sample_mean = np.mean(restaurant_sample.column(3))\n",
    "sample_mean"
   ]
  },
  {
   "cell_type": "markdown",
   "metadata": {},
   "source": [
    "#### Question 3\n",
    "Complete the function `bootstrap_scores` below. It should take no arguments. It should simulate drawing 5000 resamples from `restaurant_sample` and computing the mean restaurant score in each resample.  It should return an array of those 5000 resample means. Remember that at this point you do not have access to the population data `pop_restaurants` and hence you should NOT call it from now on."
   ]
  },
  {
   "cell_type": "code",
   "execution_count": 9,
   "metadata": {
    "deletable": false,
    "manual_problem_id": "restaurant_bootstrap_means"
   },
   "outputs": [
    {
     "data": {
      "text/plain": [
       "5000"
      ]
     },
     "execution_count": 9,
     "metadata": {},
     "output_type": "execute_result"
    }
   ],
   "source": [
    "def bootstrap_scores():\n",
    "    resampled_means = []\n",
    "    for i in range(5000):\n",
    "        resampled_means.append(np.mean(restaurant_sample.sample(10, with_replacement=False).column(3)))\n",
    "    return make_array(resampled_means)[0]\n",
    "\n",
    "resampled_means = bootstrap_scores()\n",
    "len(resampled_means)"
   ]
  },
  {
   "cell_type": "code",
   "execution_count": 10,
   "metadata": {
    "deletable": false
   },
   "outputs": [
    {
     "name": "stdout",
     "output_type": "stream",
     "text": [
      "~~~~~~~~~~~~~~~~~~~~~~~~~~~~~~~~~~~~~~~~~~~~~~~~~~~~~~~~~~~~~~~~~~~~~\n",
      "Running tests\n",
      "\n",
      "---------------------------------------------------------------------\n",
      "Test summary\n",
      "    Passed: 1\n",
      "    Failed: 0\n",
      "[ooooooooook] 100.0% passed\n",
      "\n"
     ]
    },
    {
     "data": {
      "application/javascript": [
       "IPython.notebook.save_checkpoint();"
      ],
      "text/plain": [
       "<IPython.core.display.Javascript object>"
      ]
     },
     "metadata": {},
     "output_type": "display_data"
    },
    {
     "data": {
      "application/javascript": [
       "IPython.notebook.save_notebook();"
      ],
      "text/plain": [
       "<IPython.core.display.Javascript object>"
      ]
     },
     "metadata": {},
     "output_type": "display_data"
    },
    {
     "name": "stdout",
     "output_type": "stream",
     "text": [
      "Saving notebook... Saved 'hw11.ipynb'.\n",
      "Backup... 100% complete\n",
      "Backup successful for user: togden1@binghamton.edu\n",
      "URL: https://okpy.org/bu/math247-cs207/fa19/hw11/backups/OgoYvL\n",
      "NOTE: this is only a backup. To submit your assignment, use:\n",
      "\tpython3 ok --submit\n",
      "\n"
     ]
    }
   ],
   "source": [
    "_ = ok.grade('q1_3')\n",
    "\n",
    "_ = ok.backup()"
   ]
  },
  {
   "cell_type": "markdown",
   "metadata": {},
   "source": [
    "Take a look at the histogram of the **resampled means**."
   ]
  },
  {
   "cell_type": "code",
   "execution_count": 11,
   "metadata": {},
   "outputs": [
    {
     "data": {
      "image/png": "[encoded data removed]",
      "text/plain": [
       "<Figure size 432x288 with 1 Axes>"
      ]
     },
     "metadata": {},
     "output_type": "display_data"
    }
   ],
   "source": [
    "Table().with_column('Resampled Means', resampled_means).hist()"
   ]
  },
  {
   "cell_type": "markdown",
   "metadata": {},
   "source": [
    "#### Question 4\n",
    "Compute a 95 percent bootstrap based confidence interval for the average restaurant score using the array `resampled_means`."
   ]
  },
  {
   "cell_type": "code",
   "execution_count": 12,
   "metadata": {
    "deletable": false,
    "manual_problem_id": "bootstrap_4"
   },
   "outputs": [
    {
     "name": "stdout",
     "output_type": "stream",
     "text": [
      "95% confidence interval for the average restaurant score, computed by bootstrapping:\n",
      "( 85.19759679510352 , 94.80240320489648 )\n"
     ]
    }
   ],
   "source": [
    "lower_bound = 90-2*np.std(resampled_means)\n",
    "upper_bound = 90+2*np.std(resampled_means)\n",
    "print(\"95% confidence interval for the average restaurant score, computed by bootstrapping:\\n(\",lower_bound, \",\", upper_bound, \")\")"
   ]
  },
  {
   "cell_type": "markdown",
   "metadata": {},
   "source": [
    "#### Question 5\n",
    "Does the empirical distribution of the resampled mean scores look normally distributed? State \"yes\" or \"no\" and describe in one sentence why you would expect that result."
   ]
  },
  {
   "cell_type": "markdown",
   "metadata": {
    "deletable": false,
    "manual_problem_id": "bootstrap_6"
   },
   "source": [
    "Yes, because we are resampling 5000 times which will result in a mostly normal distribution due to the Law of Averages."
   ]
  },
  {
   "cell_type": "markdown",
   "metadata": {},
   "source": [
    "#### Question 6\n",
    "Does the empirical distribution of the **sampled scores** look normally distributed? State \"yes\" or \"no\" and describe in one sentence why you should expect this result.\n",
    "\n",
    "**Hint:** Remember that we are no longer talking about the resampled means! We are talking about scores for the 100 restaurants sampled at the beginning."
   ]
  },
  {
   "cell_type": "markdown",
   "metadata": {
    "deletable": false,
    "manual_problem_id": "bootstrap_5"
   },
   "source": [
    "No, because "
   ]
  },
  {
   "cell_type": "markdown",
   "metadata": {},
   "source": [
    "For the last question, you'll need to recall two facts.\n",
    "1. If a group of numbers has a normal distribution, around 95% of them lie within 2 standard deviations of their mean.\n",
    "2. The Central Limit Theorem tells us the quantitative relationship between the following:\n",
    "    * the standard deviation of an array of numbers.\n",
    "    * the standard deviation of an array of means of samples taken from those numbers."
   ]
  },
  {
   "cell_type": "markdown",
   "metadata": {},
   "source": [
    "#### Question 7\n",
    "Without referencing the array `resampled_means` or performing any new simulations, calculate an interval around the `sample_mean` that covers approximately 95% of the numbers in the `resampled_means` array.  **You may use the following values to compute your result, but you should not perform additional resampling** - think about how you can use the CLT to accomplish this. Refer to the last part of Lecture 21 for help. "
   ]
  },
  {
   "cell_type": "code",
   "execution_count": 13,
   "metadata": {
    "deletable": false,
    "for_assignment_type": "student",
    "manual_problem_id": "bootstrap_7"
   },
   "outputs": [
    {
     "name": "stdout",
     "output_type": "stream",
     "text": [
      "95% confidence interval for the average restaurant score, computed by a normal approximation:\n",
      "( 90.21827918050302 , 93.44172081949698 )\n"
     ]
    }
   ],
   "source": [
    "sample_mean = np.mean(restaurant_sample.column(3))\n",
    "sample_sd = np.std(restaurant_sample.column(3))\n",
    "sample_size = restaurant_sample.num_rows\n",
    "\n",
    "lower_bound_normal = sample_mean-2*sample_sd/np.sqrt(sample_size)\n",
    "upper_bound_normal = sample_mean+2*sample_sd/np.sqrt(sample_size)\n",
    "print(\"95% confidence interval for the average restaurant score, computed by a normal approximation:\\n(\",lower_bound_normal, \",\", upper_bound_normal, \")\")"
   ]
  },
  {
   "cell_type": "markdown",
   "metadata": {},
   "source": [
    "This confidence interval should look very similar to the one you computed in **Question 4**."
   ]
  },
  {
   "cell_type": "markdown",
   "metadata": {},
   "source": [
    "## 2. Testing the Central Limit Theorem\n"
   ]
  },
  {
   "cell_type": "markdown",
   "metadata": {},
   "source": [
    "The Central Limit Theorem tells us that the probability distribution of the **sum** or **average** of a large random sample drawn with replacement will be roughly normal, *regardless of the distribution of the population from which the sample is drawn*.\n",
    "\n",
    "That's a pretty big claim, but the theorem doesn't stop there. It further states that the standard deviation of this normal distribution is given by \n",
    "\n",
    "$$\\frac{\\texttt{sd of the original distribution}}{\\sqrt{\\texttt{sample size}}}$$ \n",
    "\n",
    "In other words, suppose we start with *any distribution* that has standard deviation $x$, take a sample of size $n$ (where $n$ is a large number) from that distribution with replacement, and compute the **mean** of that sample. If we repeat this procedure many times, then those sample means will have a normal distribution with standard deviation $\\frac{x}{\\sqrt{n}}$.\n",
    "\n",
    "That's an even bigger claim than the first one! The proof of the theorem is beyond the scope of this class, but in this exercise, we will be exploring some data to see the CLT in action."
   ]
  },
  {
   "cell_type": "markdown",
   "metadata": {},
   "source": [
    "**Question 1.** The CLT only applies when sample sizes are \"sufficiently large.\" This isn't a very precise statement. Is 10 large?  How about 50?  The truth is that it depends both on the original population distribution and just how \"normal\" you want the result to look. Let's use a simulation to get a feel for how the distribution of the sample mean changes as sample size goes up.\n",
    "\n",
    "Consider a coin flip. If we say `Heads` is $1$ and `Tails` is $0$, then there's a 50% chance of getting a 1 and a 50% chance of getting a 0, which definitely doesn't match our definition of a normal distribution.  The average of several coin tosses, where Heads is 1 and Tails is 0, is equal to the proportion of heads in those coin tosses (which is equivalent to the mean value of the coin tosses), so the CLT should hold **true** if we compute the sample proportion of heads many times.\n",
    "\n",
    "Write a function called `sample_size_n` that takes in a sample size $n$. It should return an array that contains 5000 numbers, each of which is the sample proportions of heads from $n$ random coin flips."
   ]
  },
  {
   "cell_type": "code",
   "execution_count": 14,
   "metadata": {
    "deletable": false,
    "manual_problem_id": "sample_sizes"
   },
   "outputs": [
    {
     "data": {
      "text/plain": [
       "[0.4,\n",
       " 0.2,\n",
       " 0.4,\n",
       " 0.6,\n",
       " 0.4,\n",
       " 0.4,\n",
       " 0.8,\n",
       " 0.6,\n",
       " 0.4,\n",
       " 0.6,\n",
       " 0.6,\n",
       " 0.4,\n",
       " 0.6,\n",
       " 0.8,\n",
       " 0.6,\n",
       " 0.0,\n",
       " 0.4,\n",
       " 0.4,\n",
       " 0.4,\n",
       " 0.6,\n",
       " 0.6,\n",
       " 0.2,\n",
       " 1.0,\n",
       " 0.6,\n",
       " 0.4,\n",
       " 0.4,\n",
       " 0.2,\n",
       " 0.4,\n",
       " 0.2,\n",
       " 0.8,\n",
       " 0.4,\n",
       " 0.4,\n",
       " 0.4,\n",
       " 0.6,\n",
       " 0.4,\n",
       " 0.6,\n",
       " 0.2,\n",
       " 0.8,\n",
       " 0.2,\n",
       " 0.6,\n",
       " 0.8,\n",
       " 0.4,\n",
       " 0.6,\n",
       " 0.2,\n",
       " 0.6,\n",
       " 0.6,\n",
       " 0.8,\n",
       " 0.8,\n",
       " 0.6,\n",
       " 0.6,\n",
       " 0.8,\n",
       " 0.4,\n",
       " 0.8,\n",
       " 0.6,\n",
       " 0.6,\n",
       " 0.6,\n",
       " 0.4,\n",
       " 0.2,\n",
       " 0.8,\n",
       " 1.0,\n",
       " 0.8,\n",
       " 0.8,\n",
       " 0.8,\n",
       " 0.6,\n",
       " 0.2,\n",
       " 0.6,\n",
       " 0.4,\n",
       " 0.2,\n",
       " 0.8,\n",
       " 0.0,\n",
       " 0.4,\n",
       " 0.8,\n",
       " 1.0,\n",
       " 0.8,\n",
       " 0.4,\n",
       " 0.6,\n",
       " 0.4,\n",
       " 0.6,\n",
       " 0.6,\n",
       " 0.2,\n",
       " 0.4,\n",
       " 0.8,\n",
       " 0.4,\n",
       " 0.6,\n",
       " 0.8,\n",
       " 0.6,\n",
       " 0.2,\n",
       " 0.4,\n",
       " 0.4,\n",
       " 0.2,\n",
       " 0.6,\n",
       " 0.4,\n",
       " 0.2,\n",
       " 0.4,\n",
       " 0.4,\n",
       " 1.0,\n",
       " 0.6,\n",
       " 0.6,\n",
       " 1.0,\n",
       " 0.2,\n",
       " 0.4,\n",
       " 0.4,\n",
       " 0.6,\n",
       " 0.0,\n",
       " 1.0,\n",
       " 0.4,\n",
       " 0.4,\n",
       " 1.0,\n",
       " 0.6,\n",
       " 0.8,\n",
       " 0.2,\n",
       " 0.6,\n",
       " 0.4,\n",
       " 0.6,\n",
       " 0.6,\n",
       " 0.6,\n",
       " 0.4,\n",
       " 0.2,\n",
       " 0.6,\n",
       " 0.6,\n",
       " 0.6,\n",
       " 0.0,\n",
       " 0.4,\n",
       " 0.6,\n",
       " 0.4,\n",
       " 0.6,\n",
       " 0.4,\n",
       " 0.4,\n",
       " 0.4,\n",
       " 1.0,\n",
       " 0.2,\n",
       " 0.4,\n",
       " 0.2,\n",
       " 0.2,\n",
       " 0.2,\n",
       " 0.6,\n",
       " 0.6,\n",
       " 0.8,\n",
       " 0.2,\n",
       " 0.4,\n",
       " 0.4,\n",
       " 0.0,\n",
       " 0.8,\n",
       " 0.6,\n",
       " 0.6,\n",
       " 0.4,\n",
       " 0.4,\n",
       " 0.2,\n",
       " 0.4,\n",
       " 0.2,\n",
       " 0.2,\n",
       " 0.4,\n",
       " 1.0,\n",
       " 0.4,\n",
       " 0.4,\n",
       " 0.4,\n",
       " 0.8,\n",
       " 0.6,\n",
       " 0.4,\n",
       " 0.2,\n",
       " 0.4,\n",
       " 0.6,\n",
       " 0.4,\n",
       " 0.2,\n",
       " 0.4,\n",
       " 0.6,\n",
       " 0.6,\n",
       " 0.6,\n",
       " 0.8,\n",
       " 0.6,\n",
       " 0.8,\n",
       " 0.4,\n",
       " 0.2,\n",
       " 0.6,\n",
       " 0.6,\n",
       " 0.0,\n",
       " 0.6,\n",
       " 0.8,\n",
       " 0.6,\n",
       " 0.0,\n",
       " 0.6,\n",
       " 0.4,\n",
       " 0.4,\n",
       " 0.6,\n",
       " 0.2,\n",
       " 0.4,\n",
       " 0.4,\n",
       " 0.6,\n",
       " 0.8,\n",
       " 0.2,\n",
       " 0.4,\n",
       " 0.8,\n",
       " 0.2,\n",
       " 0.8,\n",
       " 0.8,\n",
       " 0.6,\n",
       " 0.8,\n",
       " 0.6,\n",
       " 0.6,\n",
       " 0.4,\n",
       " 0.4,\n",
       " 0.8,\n",
       " 0.6,\n",
       " 0.6,\n",
       " 0.6,\n",
       " 0.4,\n",
       " 0.2,\n",
       " 1.0,\n",
       " 0.8,\n",
       " 0.4,\n",
       " 0.4,\n",
       " 0.2,\n",
       " 0.8,\n",
       " 0.6,\n",
       " 0.4,\n",
       " 0.4,\n",
       " 0.0,\n",
       " 0.8,\n",
       " 0.6,\n",
       " 0.8,\n",
       " 0.2,\n",
       " 0.4,\n",
       " 0.0,\n",
       " 0.8,\n",
       " 0.4,\n",
       " 0.8,\n",
       " 0.2,\n",
       " 0.4,\n",
       " 0.4,\n",
       " 0.8,\n",
       " 0.6,\n",
       " 0.6,\n",
       " 0.4,\n",
       " 0.6,\n",
       " 0.6,\n",
       " 0.8,\n",
       " 0.4,\n",
       " 0.2,\n",
       " 0.6,\n",
       " 0.4,\n",
       " 0.4,\n",
       " 0.2,\n",
       " 0.6,\n",
       " 0.8,\n",
       " 0.4,\n",
       " 0.8,\n",
       " 0.8,\n",
       " 0.0,\n",
       " 0.6,\n",
       " 0.4,\n",
       " 0.4,\n",
       " 0.4,\n",
       " 1.0,\n",
       " 0.2,\n",
       " 0.6,\n",
       " 0.6,\n",
       " 0.4,\n",
       " 0.4,\n",
       " 0.2,\n",
       " 0.4,\n",
       " 0.2,\n",
       " 0.8,\n",
       " 0.6,\n",
       " 0.2,\n",
       " 0.8,\n",
       " 0.2,\n",
       " 0.8,\n",
       " 0.4,\n",
       " 0.0,\n",
       " 0.6,\n",
       " 0.6,\n",
       " 0.6,\n",
       " 0.8,\n",
       " 0.6,\n",
       " 0.2,\n",
       " 0.4,\n",
       " 0.6,\n",
       " 0.8,\n",
       " 0.4,\n",
       " 0.8,\n",
       " 0.4,\n",
       " 0.8,\n",
       " 0.8,\n",
       " 0.4,\n",
       " 0.4,\n",
       " 0.4,\n",
       " 0.8,\n",
       " 0.0,\n",
       " 0.6,\n",
       " 0.2,\n",
       " 1.0,\n",
       " 0.4,\n",
       " 0.4,\n",
       " 0.6,\n",
       " 0.4,\n",
       " 0.2,\n",
       " 0.4,\n",
       " 0.8,\n",
       " 0.2,\n",
       " 0.4,\n",
       " 0.8,\n",
       " 0.4,\n",
       " 0.4,\n",
       " 0.6,\n",
       " 0.6,\n",
       " 0.6,\n",
       " 0.8,\n",
       " 0.2,\n",
       " 0.0,\n",
       " 0.8,\n",
       " 0.6,\n",
       " 0.6,\n",
       " 0.8,\n",
       " 0.6,\n",
       " 0.8,\n",
       " 1.0,\n",
       " 0.6,\n",
       " 1.0,\n",
       " 0.6,\n",
       " 0.6,\n",
       " 0.6,\n",
       " 0.8,\n",
       " 0.8,\n",
       " 0.8,\n",
       " 0.8,\n",
       " 0.2,\n",
       " 0.2,\n",
       " 0.8,\n",
       " 0.8,\n",
       " 0.0,\n",
       " 1.0,\n",
       " 0.4,\n",
       " 1.0,\n",
       " 0.4,\n",
       " 0.4,\n",
       " 0.6,\n",
       " 0.4,\n",
       " 0.0,\n",
       " 0.8,\n",
       " 0.6,\n",
       " 0.6,\n",
       " 0.6,\n",
       " 0.2,\n",
       " 0.2,\n",
       " 0.6,\n",
       " 0.6,\n",
       " 0.6,\n",
       " 0.8,\n",
       " 0.6,\n",
       " 0.4,\n",
       " 0.8,\n",
       " 0.4,\n",
       " 0.8,\n",
       " 0.2,\n",
       " 0.4,\n",
       " 1.0,\n",
       " 0.6,\n",
       " 0.8,\n",
       " 0.8,\n",
       " 0.0,\n",
       " 0.6,\n",
       " 0.6,\n",
       " 0.6,\n",
       " 0.6,\n",
       " 0.6,\n",
       " 0.6,\n",
       " 1.0,\n",
       " 0.4,\n",
       " 0.6,\n",
       " 0.6,\n",
       " 1.0,\n",
       " 0.2,\n",
       " 0.6,\n",
       " 0.4,\n",
       " 0.6,\n",
       " 0.6,\n",
       " 0.8,\n",
       " 0.4,\n",
       " 0.4,\n",
       " 0.6,\n",
       " 0.4,\n",
       " 0.4,\n",
       " 0.6,\n",
       " 0.8,\n",
       " 0.6,\n",
       " 0.6,\n",
       " 0.6,\n",
       " 0.6,\n",
       " 0.2,\n",
       " 0.2,\n",
       " 0.2,\n",
       " 0.6,\n",
       " 0.2,\n",
       " 0.8,\n",
       " 0.2,\n",
       " 0.2,\n",
       " 0.6,\n",
       " 0.4,\n",
       " 0.6,\n",
       " 0.2,\n",
       " 0.2,\n",
       " 0.8,\n",
       " 0.2,\n",
       " 0.2,\n",
       " 0.4,\n",
       " 0.4,\n",
       " 0.8,\n",
       " 0.4,\n",
       " 0.8,\n",
       " 0.6,\n",
       " 0.4,\n",
       " 0.2,\n",
       " 0.2,\n",
       " 0.8,\n",
       " 1.0,\n",
       " 0.6,\n",
       " 0.6,\n",
       " 0.4,\n",
       " 0.6,\n",
       " 0.4,\n",
       " 0.6,\n",
       " 0.6,\n",
       " 0.2,\n",
       " 0.4,\n",
       " 0.8,\n",
       " 0.8,\n",
       " 0.8,\n",
       " 0.8,\n",
       " 1.0,\n",
       " 0.8,\n",
       " 0.4,\n",
       " 1.0,\n",
       " 0.0,\n",
       " 0.8,\n",
       " 0.4,\n",
       " 0.4,\n",
       " 0.2,\n",
       " 0.6,\n",
       " 0.2,\n",
       " 0.6,\n",
       " 0.6,\n",
       " 0.4,\n",
       " 0.8,\n",
       " 0.6,\n",
       " 0.6,\n",
       " 0.2,\n",
       " 0.6,\n",
       " 0.6,\n",
       " 0.4,\n",
       " 0.4,\n",
       " 0.6,\n",
       " 0.4,\n",
       " 0.2,\n",
       " 0.4,\n",
       " 0.6,\n",
       " 0.6,\n",
       " 0.2,\n",
       " 0.4,\n",
       " 0.4,\n",
       " 0.2,\n",
       " 0.6,\n",
       " 0.8,\n",
       " 0.2,\n",
       " 0.6,\n",
       " 0.4,\n",
       " 0.2,\n",
       " 0.8,\n",
       " 0.4,\n",
       " 0.2,\n",
       " 0.4,\n",
       " 0.6,\n",
       " 0.6,\n",
       " 1.0,\n",
       " 0.2,\n",
       " 0.2,\n",
       " 0.4,\n",
       " 0.6,\n",
       " 0.6,\n",
       " 0.2,\n",
       " 0.0,\n",
       " 0.2,\n",
       " 0.4,\n",
       " 0.8,\n",
       " 0.6,\n",
       " 0.6,\n",
       " 0.2,\n",
       " 0.6,\n",
       " 0.4,\n",
       " 0.6,\n",
       " 0.6,\n",
       " 0.4,\n",
       " 0.2,\n",
       " 0.0,\n",
       " 0.2,\n",
       " 0.4,\n",
       " 1.0,\n",
       " 0.6,\n",
       " 0.6,\n",
       " 0.4,\n",
       " 0.6,\n",
       " 0.4,\n",
       " 0.0,\n",
       " 0.2,\n",
       " 0.8,\n",
       " 1.0,\n",
       " 0.6,\n",
       " 0.6,\n",
       " 0.8,\n",
       " 0.6,\n",
       " 0.8,\n",
       " 0.2,\n",
       " 0.6,\n",
       " 0.8,\n",
       " 0.4,\n",
       " 0.4,\n",
       " 0.4,\n",
       " 0.2,\n",
       " 0.8,\n",
       " 0.0,\n",
       " 0.6,\n",
       " 0.4,\n",
       " 0.8,\n",
       " 0.8,\n",
       " 0.4,\n",
       " 0.8,\n",
       " 0.8,\n",
       " 0.4,\n",
       " 0.8,\n",
       " 0.6,\n",
       " 0.0,\n",
       " 0.6,\n",
       " 0.6,\n",
       " 0.8,\n",
       " 0.8,\n",
       " 0.6,\n",
       " 0.2,\n",
       " 0.8,\n",
       " 0.4,\n",
       " 0.4,\n",
       " 0.4,\n",
       " 0.4,\n",
       " 0.0,\n",
       " 0.4,\n",
       " 0.4,\n",
       " 0.2,\n",
       " 0.8,\n",
       " 0.4,\n",
       " 0.8,\n",
       " 0.4,\n",
       " 0.6,\n",
       " 0.2,\n",
       " 0.4,\n",
       " 0.6,\n",
       " 0.4,\n",
       " 0.2,\n",
       " 0.6,\n",
       " 0.6,\n",
       " 1.0,\n",
       " 0.6,\n",
       " 0.6,\n",
       " 0.2,\n",
       " 0.4,\n",
       " 0.4,\n",
       " 0.2,\n",
       " 0.6,\n",
       " 0.6,\n",
       " 0.2,\n",
       " 0.6,\n",
       " 0.2,\n",
       " 0.4,\n",
       " 0.2,\n",
       " 0.8,\n",
       " 0.4,\n",
       " 0.6,\n",
       " 0.6,\n",
       " 0.8,\n",
       " 0.4,\n",
       " 0.6,\n",
       " 0.6,\n",
       " 0.4,\n",
       " 0.4,\n",
       " 0.8,\n",
       " 0.4,\n",
       " 0.4,\n",
       " 0.6,\n",
       " 0.4,\n",
       " 0.6,\n",
       " 0.4,\n",
       " 0.2,\n",
       " 0.6,\n",
       " 0.8,\n",
       " 0.4,\n",
       " 0.2,\n",
       " 0.4,\n",
       " 0.6,\n",
       " 0.4,\n",
       " 1.0,\n",
       " 0.8,\n",
       " 0.8,\n",
       " 0.4,\n",
       " 0.6,\n",
       " 0.4,\n",
       " 0.6,\n",
       " 0.0,\n",
       " 0.4,\n",
       " 0.8,\n",
       " 0.6,\n",
       " 0.8,\n",
       " 0.4,\n",
       " 0.8,\n",
       " 0.6,\n",
       " 0.8,\n",
       " 0.6,\n",
       " 1.0,\n",
       " 0.2,\n",
       " 0.2,\n",
       " 0.2,\n",
       " 0.6,\n",
       " 0.6,\n",
       " 1.0,\n",
       " 0.4,\n",
       " 0.6,\n",
       " 0.4,\n",
       " 0.6,\n",
       " 0.6,\n",
       " 0.4,\n",
       " 0.4,\n",
       " 0.8,\n",
       " 0.2,\n",
       " 0.6,\n",
       " 0.2,\n",
       " 0.4,\n",
       " 0.2,\n",
       " 0.2,\n",
       " 0.6,\n",
       " 0.4,\n",
       " 0.2,\n",
       " 0.6,\n",
       " 0.6,\n",
       " 0.4,\n",
       " 0.8,\n",
       " 0.6,\n",
       " 0.8,\n",
       " 0.6,\n",
       " 0.6,\n",
       " 0.4,\n",
       " 0.2,\n",
       " 0.8,\n",
       " 0.4,\n",
       " 0.2,\n",
       " 0.6,\n",
       " 0.2,\n",
       " 0.6,\n",
       " 0.2,\n",
       " 0.4,\n",
       " 0.4,\n",
       " 0.6,\n",
       " 0.8,\n",
       " 1.0,\n",
       " 0.4,\n",
       " 0.2,\n",
       " 0.4,\n",
       " 0.6,\n",
       " 0.6,\n",
       " 0.8,\n",
       " 0.4,\n",
       " 0.8,\n",
       " 0.4,\n",
       " 0.6,\n",
       " 0.6,\n",
       " 0.8,\n",
       " 0.4,\n",
       " 0.4,\n",
       " 0.6,\n",
       " 0.2,\n",
       " 0.0,\n",
       " 0.8,\n",
       " 0.4,\n",
       " 0.4,\n",
       " 0.6,\n",
       " 0.4,\n",
       " 0.4,\n",
       " 0.4,\n",
       " 0.6,\n",
       " 0.4,\n",
       " 0.6,\n",
       " 0.8,\n",
       " 0.6,\n",
       " 0.6,\n",
       " 0.2,\n",
       " 0.4,\n",
       " 0.4,\n",
       " 0.4,\n",
       " 0.4,\n",
       " 0.4,\n",
       " 0.4,\n",
       " 0.4,\n",
       " 0.6,\n",
       " 0.6,\n",
       " 0.2,\n",
       " 0.4,\n",
       " 0.2,\n",
       " 0.4,\n",
       " 0.4,\n",
       " 0.6,\n",
       " 0.4,\n",
       " 0.6,\n",
       " 0.6,\n",
       " 0.6,\n",
       " 0.4,\n",
       " 0.2,\n",
       " 0.8,\n",
       " 0.8,\n",
       " 0.4,\n",
       " 0.4,\n",
       " 1.0,\n",
       " 0.2,\n",
       " 0.6,\n",
       " 0.6,\n",
       " 0.6,\n",
       " 1.0,\n",
       " 0.4,\n",
       " 0.4,\n",
       " 0.6,\n",
       " 0.2,\n",
       " 0.8,\n",
       " 0.4,\n",
       " 0.6,\n",
       " 0.4,\n",
       " 0.2,\n",
       " 0.6,\n",
       " 0.4,\n",
       " 0.4,\n",
       " 0.4,\n",
       " 0.8,\n",
       " 0.4,\n",
       " 0.6,\n",
       " 0.2,\n",
       " 0.0,\n",
       " 0.8,\n",
       " 0.4,\n",
       " 0.6,\n",
       " 0.8,\n",
       " 0.6,\n",
       " 0.8,\n",
       " 0.4,\n",
       " 0.6,\n",
       " 0.6,\n",
       " 0.6,\n",
       " 0.8,\n",
       " 0.4,\n",
       " 0.4,\n",
       " 0.4,\n",
       " 0.2,\n",
       " 0.6,\n",
       " 0.6,\n",
       " 0.4,\n",
       " 0.6,\n",
       " 0.2,\n",
       " 0.4,\n",
       " 0.4,\n",
       " 0.8,\n",
       " 0.2,\n",
       " 0.0,\n",
       " 0.6,\n",
       " 0.6,\n",
       " 0.4,\n",
       " 0.4,\n",
       " 0.4,\n",
       " 0.6,\n",
       " 0.6,\n",
       " 0.8,\n",
       " 0.4,\n",
       " 0.6,\n",
       " 0.8,\n",
       " 0.8,\n",
       " 0.4,\n",
       " 0.2,\n",
       " 0.6,\n",
       " 0.4,\n",
       " 0.4,\n",
       " 0.2,\n",
       " 0.8,\n",
       " 0.8,\n",
       " 0.0,\n",
       " 0.4,\n",
       " 0.8,\n",
       " 0.6,\n",
       " 0.6,\n",
       " 0.8,\n",
       " 0.6,\n",
       " 0.4,\n",
       " 0.4,\n",
       " 0.8,\n",
       " 0.8,\n",
       " 0.4,\n",
       " 0.2,\n",
       " 0.6,\n",
       " 0.8,\n",
       " 0.6,\n",
       " 0.6,\n",
       " 0.4,\n",
       " 0.2,\n",
       " 0.0,\n",
       " 0.8,\n",
       " 0.2,\n",
       " 0.4,\n",
       " 0.2,\n",
       " 0.2,\n",
       " 0.4,\n",
       " 0.2,\n",
       " 0.8,\n",
       " 0.6,\n",
       " 0.0,\n",
       " 0.6,\n",
       " 0.8,\n",
       " 0.2,\n",
       " 0.8,\n",
       " 0.8,\n",
       " 0.0,\n",
       " 0.4,\n",
       " 0.6,\n",
       " 0.6,\n",
       " 0.6,\n",
       " 0.6,\n",
       " 0.4,\n",
       " 0.6,\n",
       " 0.4,\n",
       " 0.6,\n",
       " 1.0,\n",
       " 0.4,\n",
       " 1.0,\n",
       " 0.4,\n",
       " 0.4,\n",
       " 0.4,\n",
       " 0.4,\n",
       " 0.6,\n",
       " 0.6,\n",
       " 0.6,\n",
       " 0.8,\n",
       " 0.6,\n",
       " 0.8,\n",
       " 0.6,\n",
       " 0.6,\n",
       " 0.6,\n",
       " 0.4,\n",
       " 0.2,\n",
       " 0.8,\n",
       " 0.8,\n",
       " 0.0,\n",
       " 0.4,\n",
       " 0.0,\n",
       " 0.8,\n",
       " 0.6,\n",
       " 0.4,\n",
       " 0.4,\n",
       " 0.6,\n",
       " 0.6,\n",
       " 0.4,\n",
       " 0.4,\n",
       " 0.4,\n",
       " 0.6,\n",
       " 0.2,\n",
       " 0.8,\n",
       " 0.4,\n",
       " 0.4,\n",
       " 0.6,\n",
       " 0.6,\n",
       " 0.4,\n",
       " 0.2,\n",
       " 0.6,\n",
       " 0.4,\n",
       " 0.4,\n",
       " 0.4,\n",
       " 0.2,\n",
       " 0.4,\n",
       " 0.8,\n",
       " 0.0,\n",
       " 0.6,\n",
       " 0.4,\n",
       " 0.2,\n",
       " 0.6,\n",
       " 0.6,\n",
       " 0.4,\n",
       " 0.2,\n",
       " 0.4,\n",
       " 0.8,\n",
       " 0.6,\n",
       " 0.6,\n",
       " 0.6,\n",
       " 0.4,\n",
       " 0.8,\n",
       " 0.6,\n",
       " 0.6,\n",
       " 0.4,\n",
       " 0.2,\n",
       " 0.4,\n",
       " 0.4,\n",
       " 0.8,\n",
       " 0.2,\n",
       " 0.6,\n",
       " 0.4,\n",
       " 0.6,\n",
       " 0.6,\n",
       " 0.4,\n",
       " 0.6,\n",
       " 0.2,\n",
       " 0.6,\n",
       " 0.6,\n",
       " 0.8,\n",
       " 0.0,\n",
       " 0.4,\n",
       " 0.4,\n",
       " 0.4,\n",
       " 0.6,\n",
       " 0.8,\n",
       " 0.6,\n",
       " 0.6,\n",
       " 0.4,\n",
       " 0.6,\n",
       " 0.2,\n",
       " 0.4,\n",
       " 0.4,\n",
       " 0.4,\n",
       " 0.8,\n",
       " 0.4,\n",
       " 0.6,\n",
       " 0.4,\n",
       " 0.4,\n",
       " 0.4,\n",
       " 0.4,\n",
       " 0.8,\n",
       " 0.6,\n",
       " 0.4,\n",
       " 0.4,\n",
       " 0.2,\n",
       " 0.6,\n",
       " 0.8,\n",
       " 0.4,\n",
       " 0.4,\n",
       " 0.6,\n",
       " 0.4,\n",
       " 0.4,\n",
       " 0.6,\n",
       " 0.2,\n",
       " 0.4,\n",
       " 0.6,\n",
       " 0.8,\n",
       " 0.6,\n",
       " 0.6,\n",
       " 0.8,\n",
       " 0.6,\n",
       " 0.4,\n",
       " 0.2,\n",
       " 0.6,\n",
       " 0.2,\n",
       " 0.4,\n",
       " 1.0,\n",
       " 0.8,\n",
       " 0.6,\n",
       " 0.4,\n",
       " 0.4,\n",
       " 0.8,\n",
       " 0.4,\n",
       " 0.6,\n",
       " 0.6,\n",
       " 0.6,\n",
       " 0.6,\n",
       " 0.4,\n",
       " 0.8,\n",
       " 0.4,\n",
       " 0.4,\n",
       " 0.8,\n",
       " 0.4,\n",
       " 0.8,\n",
       " 0.8,\n",
       " 0.8,\n",
       " 0.6,\n",
       " 0.6,\n",
       " 0.6,\n",
       " 0.2,\n",
       " 0.6,\n",
       " 0.2,\n",
       " 0.4,\n",
       " 0.2,\n",
       " 0.6,\n",
       " 0.8,\n",
       " 0.8,\n",
       " 0.6,\n",
       " 0.4,\n",
       " 0.4,\n",
       " 0.6,\n",
       " 0.4,\n",
       " 0.6,\n",
       " 0.4,\n",
       " 0.8,\n",
       " 0.4,\n",
       " 0.4,\n",
       " 0.4,\n",
       " 0.4,\n",
       " ...]"
      ]
     },
     "execution_count": 14,
     "metadata": {},
     "output_type": "execute_result"
    }
   ],
   "source": [
    "def sample_size_n(n):\n",
    "    coin_proportions = make_array(.5, .5) # our coin is fair\n",
    "    values = [1,0]\n",
    "    heads_proportions = [np.count_nonzero(np.random.choice(values, p=coin_proportions, size=n))/n for i in range(5000)]\n",
    "    return heads_proportions\n",
    "\n",
    "\n",
    "sample_size_n(5)"
   ]
  },
  {
   "cell_type": "markdown",
   "metadata": {},
   "source": [
    "<div class=\"hide\">\\pagebreak</div>\n",
    "The code below will use the function you just defined to plot the empirical distribution of the sample mean for various sample sizes. Drag the slider or click on the number to the right to type in a sample size of your choice. The x- and y-scales are kept the same to facilitate comparisons. Notice the shape of the graph as the sample size increases and decreases."
   ]
  },
  {
   "cell_type": "code",
   "execution_count": 15,
   "metadata": {
    "deletable": false,
    "editable": false,
    "scrolled": false
   },
   "outputs": [
    {
     "data": {
      "application/vnd.jupyter.widget-view+json": {
       "model_id": "b3bf0b36b6a1449186d330c4801df008",
       "version_major": 2,
       "version_minor": 0
      },
      "text/plain": [
       "A Jupyter Widget"
      ]
     },
     "metadata": {},
     "output_type": "display_data"
    }
   ],
   "source": [
    "# Just run this cell\n",
    "from ipywidgets import interact\n",
    "\n",
    "def outer(f):\n",
    "    def graph(x):\n",
    "        bins = np.arange(-0.01,1.05,0.02)\n",
    "        sample_props = f(x)\n",
    "        Table().with_column('Sample Size: {}'.format(x), sample_props).hist(bins=bins)\n",
    "        plt.ylim(0, 30)\n",
    "        print('Sample SD:', np.std(sample_props))\n",
    "        plt.show()\n",
    "    return graph\n",
    "    \n",
    "interact(outer(sample_size_n), x=(0, 400, 1), continuous_update=False);\n",
    "\n",
    "# Min sample size is 0, max is 400\n",
    "# The graph will refresh a few times when you drag the slider around"
   ]
  },
  {
   "cell_type": "markdown",
   "metadata": {},
   "source": [
    "You can see that even the means of samples of 10 (0 and 1) items follow a roughly bell-shaped distribution.  A sample of 50 items looks quite bell-shaped."
   ]
  },
  {
   "cell_type": "markdown",
   "metadata": {
    "manual_problem_id": "clt_2"
   },
   "source": [
    "**Question 2:** In the plot for a sample size of 10, why are the bars spaced at intervals of .1, with gaps in between?"
   ]
  },
  {
   "cell_type": "markdown",
   "metadata": {
    "deletable": false,
    "manual_problem_id": "clt_2"
   },
   "source": [
    "Because we are calculating number of heads / n and if n=10, then they have to be a multiple of 0.1."
   ]
  },
  {
   "cell_type": "markdown",
   "metadata": {},
   "source": [
    "<div class=\"hide\">\\pagebreak</div>\n",
    "Now we will test the second claim of the CLT: That the SD of the sample mean is the SD of the original distribution, divided by the square root of the sample size.\n",
    "\n",
    "We have imported the flight delay data and computed its standard deviation for you."
   ]
  },
  {
   "cell_type": "code",
   "execution_count": 16,
   "metadata": {},
   "outputs": [
    {
     "data": {
      "text/plain": [
       "39.480199851609314"
      ]
     },
     "execution_count": 16,
     "metadata": {},
     "output_type": "execute_result"
    }
   ],
   "source": [
    "united = Table.read_table('united_summer2015.csv')\n",
    "united_std = np.std(united.column('Delay'))\n",
    "united_std"
   ]
  },
  {
   "cell_type": "markdown",
   "metadata": {},
   "source": [
    "**Question 3:** Write a function called `empirical_sample_mean_sd` that takes a sample size `n` as its argument. The function should simulate 500 samples, with replacement, of size `n` from the flight delays dataset, and it should return the standard deviation of the **means of those 500 samples** (each sample has a size `n`.)\n",
    "\n",
    "*Hint:* This function will be similar to the `sample_size_n` function you wrote earlier."
   ]
  },
  {
   "cell_type": "code",
   "execution_count": 17,
   "metadata": {
    "deletable": false,
    "manual_problem_id": "empirical_sample_mean"
   },
   "outputs": [
    {
     "data": {
      "text/plain": [
       "12.253432851246217"
      ]
     },
     "execution_count": 17,
     "metadata": {},
     "output_type": "execute_result"
    }
   ],
   "source": [
    "def empirical_sample_mean_sd(n):\n",
    "    sample_means = make_array()\n",
    "    return np.std([np.mean(united.sample(n).column('Delay')) for i in range(500)])\n",
    "\n",
    "empirical_sample_mean_sd(10)"
   ]
  },
  {
   "cell_type": "code",
   "execution_count": 18,
   "metadata": {
    "deletable": false
   },
   "outputs": [
    {
     "name": "stdout",
     "output_type": "stream",
     "text": [
      "~~~~~~~~~~~~~~~~~~~~~~~~~~~~~~~~~~~~~~~~~~~~~~~~~~~~~~~~~~~~~~~~~~~~~\n",
      "Running tests\n",
      "\n",
      "---------------------------------------------------------------------\n",
      "Test summary\n",
      "    Passed: 1\n",
      "    Failed: 0\n",
      "[ooooooooook] 100.0% passed\n",
      "\n"
     ]
    },
    {
     "data": {
      "application/javascript": [
       "IPython.notebook.save_checkpoint();"
      ],
      "text/plain": [
       "<IPython.core.display.Javascript object>"
      ]
     },
     "metadata": {},
     "output_type": "display_data"
    },
    {
     "data": {
      "application/javascript": [
       "IPython.notebook.save_notebook();"
      ],
      "text/plain": [
       "<IPython.core.display.Javascript object>"
      ]
     },
     "metadata": {},
     "output_type": "display_data"
    },
    {
     "name": "stdout",
     "output_type": "stream",
     "text": [
      "Saving notebook... Saved 'hw11.ipynb'.\n",
      "Backup... 100% complete\n",
      "Backup successful for user: togden1@binghamton.edu\n",
      "URL: https://okpy.org/bu/math247-cs207/fa19/hw11/backups/XQADGA\n",
      "NOTE: this is only a backup. To submit your assignment, use:\n",
      "\tpython3 ok --submit\n",
      "\n"
     ]
    }
   ],
   "source": [
    "_ = ok.grade('q2_3')\n",
    "_ = ok.backup()"
   ]
  },
  {
   "cell_type": "markdown",
   "metadata": {},
   "source": [
    "**Question 4:** Now, write a function called `predict_sample_mean_sd` to find the predicted value of the standard deviation of means according to the relationship between the standard deviation of the sample mean and sample size that is discussed [here](https://www.inferentialthinking.com/chapters/14/5/variability-of-the-sample-mean.html) in the textbook. It takes a sample size `n` (a number) as its argument.  It returns the predicted value of the standard deviation of the mean delay time for samples of size `n` from the flight delays (represented in the table `united`)."
   ]
  },
  {
   "cell_type": "code",
   "execution_count": 19,
   "metadata": {
    "deletable": false,
    "manual_problem_id": "predict_sample_mean_sd"
   },
   "outputs": [
    {
     "data": {
      "text/plain": [
       "4.2959816102958355"
      ]
     },
     "execution_count": 19,
     "metadata": {},
     "output_type": "execute_result"
    }
   ],
   "source": [
    "def predict_sample_mean_sd(n):\n",
    "    return empirical_sample_mean_sd(n)/np.sqrt(n)\n",
    "\n",
    "predict_sample_mean_sd(10)"
   ]
  },
  {
   "cell_type": "code",
   "execution_count": 20,
   "metadata": {
    "deletable": false
   },
   "outputs": [
    {
     "name": "stdout",
     "output_type": "stream",
     "text": [
      "~~~~~~~~~~~~~~~~~~~~~~~~~~~~~~~~~~~~~~~~~~~~~~~~~~~~~~~~~~~~~~~~~~~~~\n",
      "Running tests\n",
      "\n",
      "---------------------------------------------------------------------\n",
      "Question 2_4 > Suite 1 > Case 1\n",
      "\n",
      ">>> np.isclose(predict_sample_mean_sd(1), 39.480199851609314)\n",
      "False\n",
      "\n",
      "# Error: expected\n",
      "#     True\n",
      "# but got\n",
      "#     False\n",
      "\n",
      "Run only this test case with \"python3 ok -q q2_4 --suite 1 --case 1\"\n",
      "---------------------------------------------------------------------\n",
      "Test summary\n",
      "    Passed: 0\n",
      "    Failed: 1\n",
      "[k..........] 0.0% passed\n",
      "\n"
     ]
    },
    {
     "data": {
      "application/javascript": [
       "IPython.notebook.save_checkpoint();"
      ],
      "text/plain": [
       "<IPython.core.display.Javascript object>"
      ]
     },
     "metadata": {},
     "output_type": "display_data"
    },
    {
     "data": {
      "application/javascript": [
       "IPython.notebook.save_notebook();"
      ],
      "text/plain": [
       "<IPython.core.display.Javascript object>"
      ]
     },
     "metadata": {},
     "output_type": "display_data"
    },
    {
     "name": "stdout",
     "output_type": "stream",
     "text": [
      "Saving notebook... Saved 'hw11.ipynb'.\n",
      "Backup... 100% complete\n",
      "Backup successful for user: togden1@binghamton.edu\n",
      "URL: https://okpy.org/bu/math247-cs207/fa19/hw11/backups/Y7BEJn\n",
      "NOTE: this is only a backup. To submit your assignment, use:\n",
      "\tpython3 ok --submit\n",
      "\n"
     ]
    }
   ],
   "source": [
    "_ = ok.grade('q2_4')\n",
    "_ = ok.backup()"
   ]
  },
  {
   "cell_type": "markdown",
   "metadata": {},
   "source": [
    "<div class=\"hide\">\\pagebreak</div>\n",
    "The cell below will plot the predicted and empirical SDs for the delay data for various sample sizes."
   ]
  },
  {
   "cell_type": "code",
   "execution_count": 21,
   "metadata": {
    "deletable": false,
    "editable": false
   },
   "outputs": [
    {
     "data": {
      "image/png": "[encoded data removed]",
      "text/plain": [
       "<Figure size 360x360 with 1 Axes>"
      ]
     },
     "metadata": {},
     "output_type": "display_data"
    }
   ],
   "source": [
    "sd_table = Table().with_column('Sample Size', np.arange(1,101))\n",
    "predicted = sd_table.apply(predict_sample_mean_sd, 'Sample Size')\n",
    "empirical = sd_table.apply(empirical_sample_mean_sd, 'Sample Size')\n",
    "sd_table = sd_table.with_columns('Predicted SD', predicted, 'Empirical SD', empirical)\n",
    "sd_table.scatter('Sample Size')"
   ]
  },
  {
   "cell_type": "markdown",
   "metadata": {},
   "source": [
    "**Question 5:** Do our predicted and empirical values match? Why is this the case?\n",
    "\n",
    "**Hint:** Are there any laws that we learned about in class that might help explain this?"
   ]
  },
  {
   "cell_type": "markdown",
   "metadata": {
    "deletable": false,
    "manual_problem_id": "clt_5"
   },
   "source": [
    "They come close to each other as sample size increases. This is due to the Central Limit Theorem."
   ]
  },
  {
   "cell_type": "markdown",
   "metadata": {},
   "source": [
    "## 3. Polling and the Normal Distribution\n"
   ]
  },
  {
   "cell_type": "markdown",
   "metadata": {},
   "source": [
    "**Question 1**\n",
    "\n",
    "Michelle is a statistical consultant, and she works for a group that supports Proposition 68 (which would mandate labeling of all horizontal or vertical axes), called Yes on 68.  They want to know how many Californians will vote for the proposition.\n",
    "\n",
    "Michelle polls a uniform random sample of all California voters, and she finds that 210 of the 400 sampled voters will vote in favor of the proposition. Fill in the code below to form a table with 3 columns: the first two columns should be identical to `sample`. The third column should be named `Proportion` and have the proportion among total voters that chose each option."
   ]
  },
  {
   "cell_type": "code",
   "execution_count": 22,
   "metadata": {
    "ExecuteTime": {
     "end_time": "2018-03-20T04:34:23.388186Z",
     "start_time": "2018-03-20T04:34:23.372185Z"
    },
    "deletable": false,
    "manual_problem_id": "sample_with_proportions"
   },
   "outputs": [
    {
     "data": {
      "text/html": [
       "<table border=\"1\" class=\"dataframe\">\n",
       "    <thead>\n",
       "        <tr>\n",
       "            <th>Vote</th> <th>Count</th> <th>Proportion</th>\n",
       "        </tr>\n",
       "    </thead>\n",
       "    <tbody>\n",
       "        <tr>\n",
       "            <td>Yes </td> <td>210  </td> <td>0.525     </td>\n",
       "        </tr>\n",
       "        <tr>\n",
       "            <td>No  </td> <td>190  </td> <td>0.475     </td>\n",
       "        </tr>\n",
       "    </tbody>\n",
       "</table>"
      ],
      "text/plain": [
       "Vote | Count | Proportion\n",
       "Yes  | 210   | 0.525\n",
       "No   | 190   | 0.475"
      ]
     },
     "execution_count": 22,
     "metadata": {},
     "output_type": "execute_result"
    }
   ],
   "source": [
    "sample = Table().with_columns(\n",
    "    \"Vote\",  make_array(\"Yes\", \"No\"),\n",
    "    \"Count\", make_array(210,   190))\n",
    "## sample_size should be the number of total voters sampled.\n",
    "sample_size = 400\n",
    "sample_with_proportions = sample.with_column('Proportion', make_array(.525,.475))\n",
    "sample_with_proportions"
   ]
  },
  {
   "cell_type": "code",
   "execution_count": 23,
   "metadata": {
    "ExecuteTime": {
     "end_time": "2018-03-20T04:34:24.673725Z",
     "start_time": "2018-03-20T04:34:23.392694Z"
    },
    "deletable": false
   },
   "outputs": [
    {
     "name": "stdout",
     "output_type": "stream",
     "text": [
      "~~~~~~~~~~~~~~~~~~~~~~~~~~~~~~~~~~~~~~~~~~~~~~~~~~~~~~~~~~~~~~~~~~~~~\n",
      "Running tests\n",
      "\n",
      "---------------------------------------------------------------------\n",
      "Test summary\n",
      "    Passed: 1\n",
      "    Failed: 0\n",
      "[ooooooooook] 100.0% passed\n",
      "\n"
     ]
    },
    {
     "data": {
      "application/javascript": [
       "IPython.notebook.save_checkpoint();"
      ],
      "text/plain": [
       "<IPython.core.display.Javascript object>"
      ]
     },
     "metadata": {},
     "output_type": "display_data"
    },
    {
     "data": {
      "application/javascript": [
       "IPython.notebook.save_notebook();"
      ],
      "text/plain": [
       "<IPython.core.display.Javascript object>"
      ]
     },
     "metadata": {},
     "output_type": "display_data"
    },
    {
     "name": "stdout",
     "output_type": "stream",
     "text": [
      "Saving notebook... Saved 'hw11.ipynb'.\n",
      "Backup... 100% complete\n",
      "Backup successful for user: togden1@binghamton.edu\n",
      "URL: https://okpy.org/bu/math247-cs207/fa19/hw11/backups/08yRNv\n",
      "NOTE: this is only a backup. To submit your assignment, use:\n",
      "\tpython3 ok --submit\n",
      "\n"
     ]
    }
   ],
   "source": [
    "_ = ok.grade('q3_1')\n",
    "_ = ok.backup()"
   ]
  },
  {
   "cell_type": "markdown",
   "metadata": {},
   "source": [
    "**Question 2**\n",
    "\n",
    "She then wants to use 10,000 bootstrap resamples to compute a confidence interval for the proportion of all California voters who will vote Yes.  Fill in the next cell to simulate an  empirical distribution of Yes proportions with 10,000 resamples. In other words, use bootstrap resampling to simulate 10,000 election outcomes, and populate `resample_yes_proportions` with the yes proportion of each bootstrap resample. Then, visualize `resample_yes_proportions` with a histogram. You should see a bell shaped curve centered near the proportion of Yes in the original sample."
   ]
  },
  {
   "cell_type": "code",
   "execution_count": 34,
   "metadata": {
    "ExecuteTime": {
     "end_time": "2018-03-20T04:35:22.190065Z",
     "start_time": "2018-03-20T04:35:21.777769Z"
    },
    "deletable": false,
    "manual_problem_id": "resample_yes_proportions"
   },
   "outputs": [
    {
     "data": {
      "image/png": "[encoded data removed]",
      "text/plain": [
       "<Figure size 432x288 with 1 Axes>"
      ]
     },
     "metadata": {},
     "output_type": "display_data"
    }
   ],
   "source": [
    "resample_yes_proportions = make_array()\n",
    "n = 50\n",
    "resample_yes_proportions = [np.count_nonzero(np.random.choice([1,0],size=n,p=sample_with_proportions.column('Proportion')))/ n\n",
    "                            for i in range(10000)]\n",
    "Table().with_column(\"Resample Yes proportion\", resample_yes_proportions).hist(bins=np.arange(.2, .8, .01))"
   ]
  },
  {
   "cell_type": "code",
   "execution_count": 35,
   "metadata": {
    "ExecuteTime": {
     "end_time": "2018-03-20T04:35:31.066764Z",
     "start_time": "2018-03-20T04:35:30.689815Z"
    },
    "deletable": false
   },
   "outputs": [
    {
     "name": "stdout",
     "output_type": "stream",
     "text": [
      "~~~~~~~~~~~~~~~~~~~~~~~~~~~~~~~~~~~~~~~~~~~~~~~~~~~~~~~~~~~~~~~~~~~~~\n",
      "Running tests\n",
      "\n",
      "---------------------------------------------------------------------\n",
      "Test summary\n",
      "    Passed: 1\n",
      "    Failed: 0\n",
      "[ooooooooook] 100.0% passed\n",
      "\n"
     ]
    },
    {
     "data": {
      "application/javascript": [
       "IPython.notebook.save_checkpoint();"
      ],
      "text/plain": [
       "<IPython.core.display.Javascript object>"
      ]
     },
     "metadata": {},
     "output_type": "display_data"
    },
    {
     "data": {
      "application/javascript": [
       "IPython.notebook.save_notebook();"
      ],
      "text/plain": [
       "<IPython.core.display.Javascript object>"
      ]
     },
     "metadata": {},
     "output_type": "display_data"
    },
    {
     "name": "stdout",
     "output_type": "stream",
     "text": [
      "Saving notebook... Saved 'hw11.ipynb'.\n",
      "Backup... 100% complete\n",
      "Backup successful for user: togden1@binghamton.edu\n",
      "URL: https://okpy.org/bu/math247-cs207/fa19/hw11/backups/6W78OQ\n",
      "NOTE: this is only a backup. To submit your assignment, use:\n",
      "\tpython3 ok --submit\n",
      "\n"
     ]
    }
   ],
   "source": [
    "_ = ok.grade('q3_2')\n",
    "_ = ok.backup()"
   ]
  },
  {
   "cell_type": "markdown",
   "metadata": {},
   "source": [
    "**Question 3**\n",
    "Why does the Central Limit Theorem (CLT) apply in this situation, and how does it explain the distribution we see above?"
   ]
  },
  {
   "cell_type": "markdown",
   "metadata": {
    "deletable": false,
    "manual_problem_id": "polling_3"
   },
   "source": [
    "The CLT says that if we resample a subset of the population, we will get a normal distribution."
   ]
  },
  {
   "cell_type": "markdown",
   "metadata": {},
   "source": [
    "<div class=\"hide\">\\pagebreak</div>\n",
    "In a population whose members are 0 and 1, there is a simple formula for the standard deviation of that population:\n",
    "\n",
    "$$\\texttt{standard deviation} = \\sqrt{(\\text{proportion of 0s}) \\times (\\text{proportion of 1s})}$$\n",
    "\n",
    "(Figuring out this formula, starting from the definition of the standard deviation, is an fun exercise for those who enjoy algebra; and this is usually required to be known in a course like Math 447)"
   ]
  },
  {
   "cell_type": "markdown",
   "metadata": {},
   "source": [
    "**Question 4**\n",
    "Using only the CLT and the numbers of Yes and No voters in our sample of 400, compute _algebraically_ a number `approximate_sd` that's the predicted standard deviation of the array `resample_yes_proportions` according to the Central Limit Theorem. **Do not access the data in `resample_yes_proportions` in any way.** Remember that a predicted standard deviation of the sample means can be computed from the population SD and the size of the sample. \n",
    "\n",
    "Also remember that if we do not know the population SD, we can use the sample SD as a reasonable approximation in its place. \n",
    "\n",
    "Note: in the class we learned to use the SD from the worst case scenario to figure out the population SD. Here we teach you to use the sample SD instead. The story is different here. In the class, we try to determine the sample size **before** we even have the sampled data. Here we already have the sampled data (and hence the sample SD) and our goal is to investigat the SD of the array `resample_yes_proportions`. So we could now use the sample SD as a reasonable approximation in place of the population SD."
   ]
  },
  {
   "cell_type": "code",
   "execution_count": 36,
   "metadata": {
    "ExecuteTime": {
     "end_time": "2018-03-20T04:35:33.660846Z",
     "start_time": "2018-03-20T04:35:33.652810Z"
    },
    "deletable": false,
    "manual_problem_id": "approximate_sd"
   },
   "outputs": [
    {
     "data": {
      "text/plain": [
       "0.0007073294496908779"
      ]
     },
     "execution_count": 36,
     "metadata": {},
     "output_type": "execute_result"
    }
   ],
   "source": [
    "approximate_sd = np.std(resample_yes_proportions)/np.sqrt(len(resample_yes_proportions))\n",
    "approximate_sd"
   ]
  },
  {
   "cell_type": "code",
   "execution_count": 37,
   "metadata": {
    "ExecuteTime": {
     "end_time": "2018-03-20T04:35:34.553296Z",
     "start_time": "2018-03-20T04:35:34.010235Z"
    },
    "deletable": false
   },
   "outputs": [
    {
     "name": "stdout",
     "output_type": "stream",
     "text": [
      "~~~~~~~~~~~~~~~~~~~~~~~~~~~~~~~~~~~~~~~~~~~~~~~~~~~~~~~~~~~~~~~~~~~~~\n",
      "Running tests\n",
      "\n",
      "---------------------------------------------------------------------\n",
      "Test summary\n",
      "    Passed: 1\n",
      "    Failed: 0\n",
      "[ooooooooook] 100.0% passed\n",
      "\n"
     ]
    },
    {
     "data": {
      "application/javascript": [
       "IPython.notebook.save_checkpoint();"
      ],
      "text/plain": [
       "<IPython.core.display.Javascript object>"
      ]
     },
     "metadata": {},
     "output_type": "display_data"
    },
    {
     "data": {
      "application/javascript": [
       "IPython.notebook.save_notebook();"
      ],
      "text/plain": [
       "<IPython.core.display.Javascript object>"
      ]
     },
     "metadata": {},
     "output_type": "display_data"
    },
    {
     "name": "stdout",
     "output_type": "stream",
     "text": [
      "Saving notebook... Saved 'hw11.ipynb'.\n",
      "Backup... 100% complete\n",
      "Backup successful for user: togden1@binghamton.edu\n",
      "URL: https://okpy.org/bu/math247-cs207/fa19/hw11/backups/997r04\n",
      "NOTE: this is only a backup. To submit your assignment, use:\n",
      "\tpython3 ok --submit\n",
      "\n"
     ]
    }
   ],
   "source": [
    "_ = ok.grade('q3_4')\n",
    "_ = ok.backup()"
   ]
  },
  {
   "cell_type": "markdown",
   "metadata": {},
   "source": [
    "**Question 5**\n",
    "\n",
    "Compute the SD of the array `resample_yes_proportions` which will act as an approximation to the true SD of the possible sample proportions. This will help verify whether your answer to question 2 is approximately correct. \n"
   ]
  },
  {
   "cell_type": "code",
   "execution_count": 40,
   "metadata": {
    "ExecuteTime": {
     "end_time": "2018-03-20T04:35:34.753988Z",
     "start_time": "2018-03-20T04:35:34.745953Z"
    },
    "deletable": false,
    "manual_problem_id": "exact_sd"
   },
   "outputs": [
    {
     "data": {
      "text/plain": [
       "0.035366472484543894"
      ]
     },
     "execution_count": 40,
     "metadata": {},
     "output_type": "execute_result"
    }
   ],
   "source": [
    "exact_sd = np.std(resample_yes_proportions)/2\n",
    "exact_sd"
   ]
  },
  {
   "cell_type": "code",
   "execution_count": 41,
   "metadata": {
    "ExecuteTime": {
     "end_time": "2018-03-20T04:35:36.519872Z",
     "start_time": "2018-03-20T04:35:35.934501Z"
    },
    "deletable": false
   },
   "outputs": [
    {
     "name": "stdout",
     "output_type": "stream",
     "text": [
      "~~~~~~~~~~~~~~~~~~~~~~~~~~~~~~~~~~~~~~~~~~~~~~~~~~~~~~~~~~~~~~~~~~~~~\n",
      "Running tests\n",
      "\n",
      "---------------------------------------------------------------------\n",
      "Test summary\n",
      "    Passed: 1\n",
      "    Failed: 0\n",
      "[ooooooooook] 100.0% passed\n",
      "\n"
     ]
    },
    {
     "data": {
      "application/javascript": [
       "IPython.notebook.save_checkpoint();"
      ],
      "text/plain": [
       "<IPython.core.display.Javascript object>"
      ]
     },
     "metadata": {},
     "output_type": "display_data"
    },
    {
     "data": {
      "application/javascript": [
       "IPython.notebook.save_notebook();"
      ],
      "text/plain": [
       "<IPython.core.display.Javascript object>"
      ]
     },
     "metadata": {},
     "output_type": "display_data"
    },
    {
     "name": "stdout",
     "output_type": "stream",
     "text": [
      "Saving notebook... Saved 'hw11.ipynb'.\n",
      "Backup... 100% complete\n",
      "Backup successful for user: togden1@binghamton.edu\n",
      "URL: https://okpy.org/bu/math247-cs207/fa19/hw11/backups/vQ72Eg\n",
      "NOTE: this is only a backup. To submit your assignment, use:\n",
      "\tpython3 ok --submit\n",
      "\n"
     ]
    }
   ],
   "source": [
    "_ = ok.grade('q3_5')\n",
    "_ = ok.backup()"
   ]
  },
  {
   "cell_type": "markdown",
   "metadata": {},
   "source": [
    "**Question 6**\n",
    "\n",
    "**Again, without accessing `resample_yes_proportions` in any way**, compute an approximate 95% confidence interval for the proportion of Yes voters in California.\n",
    "\n",
    "The cell below draws your interval as a red bar below the histogram of `resample_yes_proportions`; use that to verify that your answer looks right.\n",
    "\n",
    "*Hint:* How many SDs corresponds to 95% of the distribution promised by the CLT? Recall the discussion in the textbook <a href = \"https://www.inferentialthinking.com/chapters/14/3/sd-and-the-normal-curve.html\"> here. "
   ]
  },
  {
   "cell_type": "code",
   "execution_count": 46,
   "metadata": {
    "ExecuteTime": {
     "end_time": "2018-03-20T04:35:42.572582Z",
     "start_time": "2018-03-20T04:35:42.560545Z"
    },
    "deletable": false,
    "manual_problem_id": "ci_without_data"
   },
   "outputs": [
    {
     "name": "stdout",
     "output_type": "stream",
     "text": [
      "lower: 0.3846701100618245 upper: 0.6676018899381756\n"
     ]
    }
   ],
   "source": [
    "lower_limit = np.mean(resample_yes_proportions) - 2*np.std(resample_yes_proportions)\n",
    "upper_limit = np.mean(resample_yes_proportions) + 2*np.std(resample_yes_proportions)\n",
    "print('lower:', lower_limit, 'upper:', upper_limit)"
   ]
  },
  {
   "cell_type": "code",
   "execution_count": 47,
   "metadata": {
    "ExecuteTime": {
     "end_time": "2018-03-20T04:35:43.596922Z",
     "start_time": "2018-03-20T04:35:43.004498Z"
    },
    "deletable": false
   },
   "outputs": [
    {
     "name": "stdout",
     "output_type": "stream",
     "text": [
      "~~~~~~~~~~~~~~~~~~~~~~~~~~~~~~~~~~~~~~~~~~~~~~~~~~~~~~~~~~~~~~~~~~~~~\n",
      "Running tests\n",
      "\n",
      "---------------------------------------------------------------------\n",
      "Question 3_6 > Suite 1 > Case 1\n",
      "\n",
      ">>> 0.4 <= lower_limit < upper_limit <= 0.7\n",
      "False\n",
      "\n",
      "# Error: expected\n",
      "#     True\n",
      "# but got\n",
      "#     False\n",
      "\n",
      "Run only this test case with \"python3 ok -q q3_6 --suite 1 --case 1\"\n",
      "---------------------------------------------------------------------\n",
      "Test summary\n",
      "    Passed: 0\n",
      "    Failed: 1\n",
      "[k..........] 0.0% passed\n",
      "\n"
     ]
    },
    {
     "data": {
      "application/javascript": [
       "IPython.notebook.save_checkpoint();"
      ],
      "text/plain": [
       "<IPython.core.display.Javascript object>"
      ]
     },
     "metadata": {},
     "output_type": "display_data"
    },
    {
     "data": {
      "application/javascript": [
       "IPython.notebook.save_notebook();"
      ],
      "text/plain": [
       "<IPython.core.display.Javascript object>"
      ]
     },
     "metadata": {},
     "output_type": "display_data"
    },
    {
     "name": "stdout",
     "output_type": "stream",
     "text": [
      "Saving notebook... Saved 'hw11.ipynb'.\n",
      "Backup... 100% complete\n",
      "Backup successful for user: togden1@binghamton.edu\n",
      "URL: https://okpy.org/bu/math247-cs207/fa19/hw11/backups/57Ey2q\n",
      "NOTE: this is only a backup. To submit your assignment, use:\n",
      "\tpython3 ok --submit\n",
      "\n"
     ]
    }
   ],
   "source": [
    "_ = ok.grade('q3_6')\n",
    "_ = ok.backup()"
   ]
  },
  {
   "cell_type": "code",
   "execution_count": 48,
   "metadata": {
    "deletable": false,
    "editable": false
   },
   "outputs": [
    {
     "data": {
      "image/png": "[encoded data removed]",
      "text/plain": [
       "<Figure size 432x288 with 1 Axes>"
      ]
     },
     "metadata": {},
     "output_type": "display_data"
    }
   ],
   "source": [
    "# Run this cell to plot your confidence interval.\n",
    "Table().with_column(\"Resample Yes proportion\", resample_yes_proportions).hist(bins=np.arange(.2, .8, .01))\n",
    "plt.plot(make_array(lower_limit, upper_limit), make_array(0, 0), c='r', lw=10);"
   ]
  },
  {
   "cell_type": "markdown",
   "metadata": {},
   "source": [
    "<div class=\"hide\">\\pagebreak</div>\n",
    "Your confidence interval should overlap the number 0.5.  That means we can't be very sure whether Proposition 68 is winning, even though the sample Yes proportion is a bit above 0.5.\n",
    "\n",
    "The Yes on 68 campaign really needs to know whether they're winning.  It's impossible to be absolutely sure without polling the whole population, but they'd be okay if the standard deviation of the sample mean were only 0.005.  They ask Michelle to run a new poll with a sample size that's large enough to achieve that.  (Polling is expensive, so the sample also shouldn't be bigger than necessary.)\n",
    "\n",
    "Michelle consults Chapter 14 of your textbook.  Instead of making the conservative assumption that the population standard deviation is 0.5 (coding Yes voters as 1 and No voters as 0), she decides to assume that it's equal to the standard deviation of the sample,\n",
    "\n",
    "$$\\sqrt{(\\text{Yes proportion in the sample}) \\times (\\text{No proportion in the sample})}.$$\n",
    "\n",
    "Under that assumption, Michelle decides that a sample of 9,975 would suffice."
   ]
  },
  {
   "cell_type": "markdown",
   "metadata": {},
   "source": [
    "**Question 7**\n",
    "\n",
    "Does Michelle's sample size achieve the desired standard deviation of sample means? What SD would you achieve with a smaller sample size? A higher sample size? To explore this, first compute the SD of sample means obtained by using Michelle's sample size."
   ]
  },
  {
   "cell_type": "code",
   "execution_count": 49,
   "metadata": {
    "ExecuteTime": {
     "end_time": "2018-03-20T04:35:45.882794Z",
     "start_time": "2018-03-20T04:35:45.870760Z"
    },
    "deletable": false,
    "manual_problem_id": "michelle_sample_mean_sd",
    "scrolled": true
   },
   "outputs": [
    {
     "name": "stdout",
     "output_type": "stream",
     "text": [
      "With Michelle's sample size, you would predict a sample mean SD of 0.005000.\n"
     ]
    }
   ],
   "source": [
    "estimated_population_sd = np.sqrt(0.525*0.475)\n",
    "michelle_sample_size = 9975\n",
    "michelle_sample_mean_sd = estimated_population_sd/np.sqrt(michelle_sample_size)\n",
    "print(\"With Michelle's sample size, you would predict a sample mean SD of %f.\" % michelle_sample_mean_sd)"
   ]
  },
  {
   "cell_type": "markdown",
   "metadata": {},
   "source": [
    "Then, compute the SD of sample means that you would get from a smaller sample size. Ideally, you should pick a number that is significantly smaller, but any sample size smaller than Michelle's will do. "
   ]
  },
  {
   "cell_type": "code",
   "execution_count": 50,
   "metadata": {
    "ExecuteTime": {
     "end_time": "2018-03-20T04:35:47.010246Z",
     "start_time": "2018-03-20T04:35:47.002724Z"
    },
    "deletable": false,
    "manual_problem_id": "smaller_sample_size"
   },
   "outputs": [
    {
     "name": "stdout",
     "output_type": "stream",
     "text": [
      "With this smaller sample size, you would predict a sample mean SD of 0.015792\n"
     ]
    }
   ],
   "source": [
    "smaller_sample_size = 1000\n",
    "smaller_sample_mean_sd = estimated_population_sd/np.sqrt(smaller_sample_size)\n",
    "print(\"With this smaller sample size, you would predict a sample mean SD of %f\" % smaller_sample_mean_sd)"
   ]
  },
  {
   "cell_type": "markdown",
   "metadata": {},
   "source": [
    "Finally, compute the SD of sample means that you would get from a larger sample size. Here, a number that is significantly larger would make any difference more obvious, but any sample size larger than Michelle's will do. "
   ]
  },
  {
   "cell_type": "code",
   "execution_count": 51,
   "metadata": {
    "ExecuteTime": {
     "end_time": "2018-03-20T04:35:48.098047Z",
     "start_time": "2018-03-20T04:35:48.089414Z"
    },
    "deletable": false,
    "manual_problem_id": "larger_sample_mean_sd"
   },
   "outputs": [
    {
     "name": "stdout",
     "output_type": "stream",
     "text": [
      "With this larger sample size, you would predict a sample mean SD of 0.004994\n"
     ]
    }
   ],
   "source": [
    "larger_sample_size = 10000\n",
    "larger_sample_mean_sd = estimated_population_sd/np.sqrt(larger_sample_size)\n",
    "print(\"With this larger sample size, you would predict a sample mean SD of %f\" % larger_sample_mean_sd)"
   ]
  },
  {
   "cell_type": "code",
   "execution_count": 52,
   "metadata": {
    "ExecuteTime": {
     "end_time": "2018-03-20T04:35:49.041745Z",
     "start_time": "2018-03-20T04:35:48.402614Z"
    },
    "deletable": false
   },
   "outputs": [
    {
     "name": "stdout",
     "output_type": "stream",
     "text": [
      "~~~~~~~~~~~~~~~~~~~~~~~~~~~~~~~~~~~~~~~~~~~~~~~~~~~~~~~~~~~~~~~~~~~~~\n",
      "Running tests\n",
      "\n",
      "---------------------------------------------------------------------\n",
      "Test summary\n",
      "    Passed: 1\n",
      "    Failed: 0\n",
      "[ooooooooook] 100.0% passed\n",
      "\n"
     ]
    },
    {
     "data": {
      "application/javascript": [
       "IPython.notebook.save_checkpoint();"
      ],
      "text/plain": [
       "<IPython.core.display.Javascript object>"
      ]
     },
     "metadata": {},
     "output_type": "display_data"
    },
    {
     "data": {
      "application/javascript": [
       "IPython.notebook.save_notebook();"
      ],
      "text/plain": [
       "<IPython.core.display.Javascript object>"
      ]
     },
     "metadata": {},
     "output_type": "display_data"
    },
    {
     "name": "stdout",
     "output_type": "stream",
     "text": [
      "Saving notebook... Saved 'hw11.ipynb'.\n",
      "Backup... 100% complete\n",
      "Backup successful for user: togden1@binghamton.edu\n",
      "URL: https://okpy.org/bu/math247-cs207/fa19/hw11/backups/qQXj70\n",
      "NOTE: this is only a backup. To submit your assignment, use:\n",
      "\tpython3 ok --submit\n",
      "\n"
     ]
    }
   ],
   "source": [
    "_ = ok.grade('q3_7')\n",
    "_ = ok.backup()"
   ]
  },
  {
   "cell_type": "markdown",
   "metadata": {},
   "source": [
    "**Question 8**\n",
    "\n",
    "Based off of this, was Michelle's sample size approximately the minimum sufficient sample, given her assumption that the sample SD is the same as the population SD? Assign `min_sufficient` to `True` if this 9975 was indeed approximately the minimum sufficient sample, and `False` if it wasn't."
   ]
  },
  {
   "cell_type": "code",
   "execution_count": 53,
   "metadata": {
    "ExecuteTime": {
     "end_time": "2018-03-20T04:35:49.134092Z",
     "start_time": "2018-03-20T04:35:49.126066Z"
    },
    "deletable": false,
    "manual_problem_id": "min_sufficient"
   },
   "outputs": [
    {
     "data": {
      "text/plain": [
       "True"
      ]
     },
     "execution_count": 53,
     "metadata": {},
     "output_type": "execute_result"
    }
   ],
   "source": [
    "min_sufficient = True\n",
    "min_sufficient"
   ]
  },
  {
   "cell_type": "code",
   "execution_count": 54,
   "metadata": {
    "ExecuteTime": {
     "end_time": "2018-03-20T04:35:50.657314Z",
     "start_time": "2018-03-20T04:35:50.276428Z"
    },
    "deletable": false
   },
   "outputs": [
    {
     "name": "stdout",
     "output_type": "stream",
     "text": [
      "~~~~~~~~~~~~~~~~~~~~~~~~~~~~~~~~~~~~~~~~~~~~~~~~~~~~~~~~~~~~~~~~~~~~~\n",
      "Running tests\n",
      "\n",
      "---------------------------------------------------------------------\n",
      "Test summary\n",
      "    Passed: 1\n",
      "    Failed: 0\n",
      "[ooooooooook] 100.0% passed\n",
      "\n"
     ]
    },
    {
     "data": {
      "application/javascript": [
       "IPython.notebook.save_checkpoint();"
      ],
      "text/plain": [
       "<IPython.core.display.Javascript object>"
      ]
     },
     "metadata": {},
     "output_type": "display_data"
    },
    {
     "data": {
      "application/javascript": [
       "IPython.notebook.save_notebook();"
      ],
      "text/plain": [
       "<IPython.core.display.Javascript object>"
      ]
     },
     "metadata": {},
     "output_type": "display_data"
    },
    {
     "name": "stdout",
     "output_type": "stream",
     "text": [
      "Saving notebook... Saved 'hw11.ipynb'.\n",
      "Backup... 100% complete\n",
      "Backup successful for user: togden1@binghamton.edu\n",
      "URL: https://okpy.org/bu/math247-cs207/fa19/hw11/backups/16zj6V\n",
      "NOTE: this is only a backup. To submit your assignment, use:\n",
      "\tpython3 ok --submit\n",
      "\n"
     ]
    }
   ],
   "source": [
    "_ = ok.grade('q3_8')\n",
    "_ = ok.backup()"
   ]
  },
  {
   "cell_type": "markdown",
   "metadata": {},
   "source": [
    "## 4. Submission\n"
   ]
  },
  {
   "cell_type": "markdown",
   "metadata": {
    "collapsed": true
   },
   "source": [
    "Once you're finished, select \"Save and Checkpoint\" in the File menu and then execute the `submit` cell below. The result will contain a link that you can use to check that your assignment has been submitted successfully. If you submit more than once before the deadline, we will only grade your final submission. If you mistakenly submit the wrong one, you can head to [okpy.org](https://okpy.org/) and flag the correct version. To do so, go to the website, click on this assignment, and find the version you would like to have graded. There should be an option to flag that submission for grading!\n",
    "\n",
    "Lastly, you can manually submit your .ipynb file if you have some difficulty with the submission."
   ]
  },
  {
   "cell_type": "code",
   "execution_count": 55,
   "metadata": {},
   "outputs": [
    {
     "data": {
      "application/javascript": [
       "IPython.notebook.save_checkpoint();"
      ],
      "text/plain": [
       "<IPython.core.display.Javascript object>"
      ]
     },
     "metadata": {},
     "output_type": "display_data"
    },
    {
     "data": {
      "application/javascript": [
       "IPython.notebook.save_notebook();"
      ],
      "text/plain": [
       "<IPython.core.display.Javascript object>"
      ]
     },
     "metadata": {},
     "output_type": "display_data"
    },
    {
     "name": "stdout",
     "output_type": "stream",
     "text": [
      "Saving notebook... Saved 'hw11.ipynb'.\n",
      "Submit... 100% complete\n",
      "Submission successful for user: togden1@binghamton.edu\n",
      "URL: https://okpy.org/bu/math247-cs207/fa19/hw11/submissions/837q3g\n",
      "NOTE: this is only a backup. To submit your assignment, use:\n",
      "\tpython3 ok --submit\n",
      "\n"
     ]
    }
   ],
   "source": [
    "_ = ok.submit()"
   ]
  },
  {
   "cell_type": "code",
   "execution_count": 56,
   "metadata": {},
   "outputs": [
    {
     "name": "stdout",
     "output_type": "stream",
     "text": [
      "Running all tests...\n",
      "~~~~~~~~~~~~~~~~~~~~~~~~~~~~~~~~~~~~~~~~~~~~~~~~~~~~~~~~~~~~~~~~~~~~~\n",
      "Running tests\n",
      "\n",
      "---------------------------------------------------------------------\n",
      "Test summary\n",
      "    Passed: 1\n",
      "    Failed: 0\n",
      "[ooooooooook] 100.0% passed\n",
      "\n",
      "~~~~~~~~~~~~~~~~~~~~~~~~~~~~~~~~~~~~~~~~~~~~~~~~~~~~~~~~~~~~~~~~~~~~~\n",
      "Running tests\n",
      "\n",
      "---------------------------------------------------------------------\n",
      "Test summary\n",
      "    Passed: 1\n",
      "    Failed: 0\n",
      "[ooooooooook] 100.0% passed\n",
      "\n",
      "~~~~~~~~~~~~~~~~~~~~~~~~~~~~~~~~~~~~~~~~~~~~~~~~~~~~~~~~~~~~~~~~~~~~~\n",
      "Running tests\n",
      "\n",
      "---------------------------------------------------------------------\n",
      "Question 2_4 > Suite 1 > Case 1\n",
      "\n",
      ">>> np.isclose(predict_sample_mean_sd(1), 39.480199851609314)\n",
      "False\n",
      "\n",
      "# Error: expected\n",
      "#     True\n",
      "# but got\n",
      "#     False\n",
      "\n",
      "Run only this test case with \"python3 ok -q q2_4 --suite 1 --case 1\"\n",
      "---------------------------------------------------------------------\n",
      "Test summary\n",
      "    Passed: 0\n",
      "    Failed: 1\n",
      "[k..........] 0.0% passed\n",
      "\n",
      "~~~~~~~~~~~~~~~~~~~~~~~~~~~~~~~~~~~~~~~~~~~~~~~~~~~~~~~~~~~~~~~~~~~~~\n",
      "Running tests\n",
      "\n",
      "---------------------------------------------------------------------\n",
      "Test summary\n",
      "    Passed: 1\n",
      "    Failed: 0\n",
      "[ooooooooook] 100.0% passed\n",
      "\n",
      "~~~~~~~~~~~~~~~~~~~~~~~~~~~~~~~~~~~~~~~~~~~~~~~~~~~~~~~~~~~~~~~~~~~~~\n",
      "Running tests\n",
      "\n",
      "---------------------------------------------------------------------\n",
      "Test summary\n",
      "    Passed: 1\n",
      "    Failed: 0\n",
      "[ooooooooook] 100.0% passed\n",
      "\n",
      "~~~~~~~~~~~~~~~~~~~~~~~~~~~~~~~~~~~~~~~~~~~~~~~~~~~~~~~~~~~~~~~~~~~~~\n",
      "Running tests\n",
      "\n",
      "---------------------------------------------------------------------\n",
      "Test summary\n",
      "    Passed: 1\n",
      "    Failed: 0\n",
      "[ooooooooook] 100.0% passed\n",
      "\n",
      "~~~~~~~~~~~~~~~~~~~~~~~~~~~~~~~~~~~~~~~~~~~~~~~~~~~~~~~~~~~~~~~~~~~~~\n",
      "Running tests\n",
      "\n",
      "---------------------------------------------------------------------\n",
      "Test summary\n",
      "    Passed: 1\n",
      "    Failed: 0\n",
      "[ooooooooook] 100.0% passed\n",
      "\n",
      "~~~~~~~~~~~~~~~~~~~~~~~~~~~~~~~~~~~~~~~~~~~~~~~~~~~~~~~~~~~~~~~~~~~~~\n",
      "Running tests\n",
      "\n",
      "---------------------------------------------------------------------\n",
      "Question 3_6 > Suite 1 > Case 1\n",
      "\n",
      ">>> 0.4 <= lower_limit < upper_limit <= 0.7\n",
      "False\n",
      "\n",
      "# Error: expected\n",
      "#     True\n",
      "# but got\n",
      "#     False\n",
      "\n",
      "Run only this test case with \"python3 ok -q q3_6 --suite 1 --case 1\"\n",
      "---------------------------------------------------------------------\n",
      "Test summary\n",
      "    Passed: 0\n",
      "    Failed: 1\n",
      "[k..........] 0.0% passed\n",
      "\n",
      "~~~~~~~~~~~~~~~~~~~~~~~~~~~~~~~~~~~~~~~~~~~~~~~~~~~~~~~~~~~~~~~~~~~~~\n",
      "Running tests\n",
      "\n",
      "---------------------------------------------------------------------\n",
      "Test summary\n",
      "    Passed: 1\n",
      "    Failed: 0\n",
      "[ooooooooook] 100.0% passed\n",
      "\n",
      "~~~~~~~~~~~~~~~~~~~~~~~~~~~~~~~~~~~~~~~~~~~~~~~~~~~~~~~~~~~~~~~~~~~~~\n",
      "Running tests\n",
      "\n",
      "---------------------------------------------------------------------\n",
      "Test summary\n",
      "    Passed: 1\n",
      "    Failed: 0\n",
      "[ooooooooook] 100.0% passed\n",
      "\n",
      "Finished running all tests.\n"
     ]
    }
   ],
   "source": [
    "# For your convenience, you can run this cell to run all the tests at once!\n",
    "import os\n",
    "print(\"Running all tests...\")\n",
    "_ = [ok.grade(q[:-3]) for q in os.listdir(\"tests\") if q.startswith('q') and len(q) <= 10]\n",
    "print(\"Finished running all tests.\")"
   ]
  },
  {
   "cell_type": "code",
   "execution_count": null,
   "metadata": {
    "collapsed": true
   },
   "outputs": [],
   "source": []
  }
 ],
 "metadata": {
  "kernelspec": {
   "display_name": "Python 3",
   "language": "python",
   "name": "python3"
  },
  "language_info": {
   "codemirror_mode": {
    "name": "ipython",
    "version": 3
   },
   "file_extension": ".py",
   "mimetype": "text/x-python",
   "name": "python",
   "nbconvert_exporter": "python",
   "pygments_lexer": "ipython3",
   "version": "3.6.3"
  }
 },
 "nbformat": 4,
 "nbformat_minor": 1
}
